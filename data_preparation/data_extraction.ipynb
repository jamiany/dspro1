{
 "cells": [
  {
   "cell_type": "code",
   "id": "initial_id",
   "metadata": {
    "collapsed": true,
    "ExecuteTime": {
     "end_time": "2024-12-19T13:07:17.819654Z",
     "start_time": "2024-12-19T13:07:17.763937Z"
    }
   },
   "source": [
    "import spotipy\n",
    "from dotenv import load_dotenv\n",
    "import pandas as pd\n",
    "\n",
    "load_dotenv()\n",
    "\n",
    "sp = spotipy.Spotify(auth_manager=spotipy.SpotifyClientCredentials())"
   ],
   "outputs": [],
   "execution_count": 10
  },
  {
   "metadata": {
    "ExecuteTime": {
     "end_time": "2024-12-19T13:07:21.252436Z",
     "start_time": "2024-12-19T13:07:20.175141Z"
    }
   },
   "cell_type": "code",
   "source": [
    "# load playlist data from spotify\n",
    "results = sp.playlist_items('5Rh7ikX5dteMXfc8tmeBJy')\n",
    "\n",
    "song_ids = list(map(lambda song : song['track']['id'], results['items']))"
   ],
   "id": "179aac7cf5ed097",
   "outputs": [],
   "execution_count": 11
  },
  {
   "metadata": {
    "ExecuteTime": {
     "end_time": "2024-12-19T13:07:24.275208Z",
     "start_time": "2024-12-19T13:07:22.824738Z"
    }
   },
   "cell_type": "code",
   "source": [
    "# load locally stored dataset with song features\n",
    "df = pd.read_csv(filepath_or_buffer='data.csv', sep=',', index_col=0)"
   ],
   "id": "bf22ee5b8de7588d",
   "outputs": [
    {
     "name": "stderr",
     "output_type": "stream",
     "text": [
      "/var/folders/j8/6g668vcj4tg5h1dhl577p6yw0000gn/T/ipykernel_88972/3661849306.py:2: DtypeWarning: Columns (2,3,4,5) have mixed types. Specify dtype option on import or set low_memory=False.\n",
      "  df = pd.read_csv(filepath_or_buffer='data.csv', sep=',', index_col=0)\n"
     ]
    }
   ],
   "execution_count": 12
  },
  {
   "metadata": {
    "ExecuteTime": {
     "end_time": "2024-12-19T13:07:39.344774Z",
     "start_time": "2024-12-19T13:07:39.294772Z"
    }
   },
   "cell_type": "code",
   "source": [
    "# filter dataframe to only include the tracks from the playlist\n",
    "df_found = df[df['id'].isin(song_ids)]"
   ],
   "id": "119c8b2a94c50e16",
   "outputs": [],
   "execution_count": 13
  },
  {
   "metadata": {},
   "cell_type": "markdown",
   "source": "Originally 78 / 100 songs existed",
   "id": "7b7d9a599600833a"
  },
  {
   "metadata": {
    "ExecuteTime": {
     "end_time": "2024-12-19T13:07:47.244249Z",
     "start_time": "2024-12-19T13:07:47.241412Z"
    }
   },
   "cell_type": "code",
   "source": "len(df_found)",
   "id": "9e356cb25c276210",
   "outputs": [
    {
     "data": {
      "text/plain": [
       "78"
      ]
     },
     "execution_count": 14,
     "metadata": {},
     "output_type": "execute_result"
    }
   ],
   "execution_count": 14
  },
  {
   "metadata": {
    "ExecuteTime": {
     "end_time": "2024-12-19T13:10:10.996710Z",
     "start_time": "2024-12-19T13:10:10.981379Z"
    }
   },
   "cell_type": "code",
   "source": "df_found.head()",
   "id": "a711a979f8bf2c85",
   "outputs": [
    {
     "data": {
      "text/plain": [
       "                          id  \\\n",
       "133   7BKLCZ1jbUBVqRi2FVlTVw   \n",
       "604   2Foc5Q5nqNiosCNqttzHof   \n",
       "732   5w9c2J52mkdntKOmRLeM2m   \n",
       "1666  3e9HZxeyfWwjeyPAMmWSSQ   \n",
       "1708  0TDLuuLlV54CkRRUOahJb4   \n",
       "\n",
       "                                                   name            artist  \\\n",
       "133                               Closer (feat. Halsey)  The Chainsmokers   \n",
       "604   Get Lucky (feat. Pharrell Williams & Nile Rodg...         Daft Punk   \n",
       "732                                           Con Calma      Daddy Yankee   \n",
       "1666                                      thank u, next     Ariana Grande   \n",
       "1708                               Titanium (feat. Sia)      David Guetta   \n",
       "\n",
       "                                                  album release_date  \\\n",
       "133                               Closer (feat. Halsey)   2016-07-29   \n",
       "604   Get Lucky (feat. Pharrell Williams & Nile Rodg...   2013-04-19   \n",
       "732                                           Con Calma   2019-01-24   \n",
       "1666                                      thank u, next   2019-02-08   \n",
       "1708            Nothing but the Beat (Ultimate Edition)   2012-12-07   \n",
       "\n",
       "      acousticness  danceability  energy  instrumentalness  loudness  \\\n",
       "133         0.4140         0.748   0.524          0.000000    -5.599   \n",
       "604         0.0426         0.794   0.811          0.000001    -8.966   \n",
       "732         0.1100         0.737   0.860          0.000002    -2.652   \n",
       "1666        0.2290         0.717   0.653          0.000000    -5.634   \n",
       "1708        0.0679         0.604   0.787          0.150000    -3.674   \n",
       "\n",
       "      speechiness    tempo  valence  \n",
       "133        0.0338   95.010    0.661  \n",
       "604        0.0380  116.047    0.862  \n",
       "732        0.0593   93.989    0.656  \n",
       "1666       0.0658  106.966    0.412  \n",
       "1708       0.1030  126.062    0.301  "
      ],
      "text/html": [
       "<div>\n",
       "<style scoped>\n",
       "    .dataframe tbody tr th:only-of-type {\n",
       "        vertical-align: middle;\n",
       "    }\n",
       "\n",
       "    .dataframe tbody tr th {\n",
       "        vertical-align: top;\n",
       "    }\n",
       "\n",
       "    .dataframe thead th {\n",
       "        text-align: right;\n",
       "    }\n",
       "</style>\n",
       "<table border=\"1\" class=\"dataframe\">\n",
       "  <thead>\n",
       "    <tr style=\"text-align: right;\">\n",
       "      <th></th>\n",
       "      <th>id</th>\n",
       "      <th>name</th>\n",
       "      <th>artist</th>\n",
       "      <th>album</th>\n",
       "      <th>release_date</th>\n",
       "      <th>acousticness</th>\n",
       "      <th>danceability</th>\n",
       "      <th>energy</th>\n",
       "      <th>instrumentalness</th>\n",
       "      <th>loudness</th>\n",
       "      <th>speechiness</th>\n",
       "      <th>tempo</th>\n",
       "      <th>valence</th>\n",
       "    </tr>\n",
       "  </thead>\n",
       "  <tbody>\n",
       "    <tr>\n",
       "      <th>133</th>\n",
       "      <td>7BKLCZ1jbUBVqRi2FVlTVw</td>\n",
       "      <td>Closer (feat. Halsey)</td>\n",
       "      <td>The Chainsmokers</td>\n",
       "      <td>Closer (feat. Halsey)</td>\n",
       "      <td>2016-07-29</td>\n",
       "      <td>0.4140</td>\n",
       "      <td>0.748</td>\n",
       "      <td>0.524</td>\n",
       "      <td>0.000000</td>\n",
       "      <td>-5.599</td>\n",
       "      <td>0.0338</td>\n",
       "      <td>95.010</td>\n",
       "      <td>0.661</td>\n",
       "    </tr>\n",
       "    <tr>\n",
       "      <th>604</th>\n",
       "      <td>2Foc5Q5nqNiosCNqttzHof</td>\n",
       "      <td>Get Lucky (feat. Pharrell Williams &amp; Nile Rodg...</td>\n",
       "      <td>Daft Punk</td>\n",
       "      <td>Get Lucky (feat. Pharrell Williams &amp; Nile Rodg...</td>\n",
       "      <td>2013-04-19</td>\n",
       "      <td>0.0426</td>\n",
       "      <td>0.794</td>\n",
       "      <td>0.811</td>\n",
       "      <td>0.000001</td>\n",
       "      <td>-8.966</td>\n",
       "      <td>0.0380</td>\n",
       "      <td>116.047</td>\n",
       "      <td>0.862</td>\n",
       "    </tr>\n",
       "    <tr>\n",
       "      <th>732</th>\n",
       "      <td>5w9c2J52mkdntKOmRLeM2m</td>\n",
       "      <td>Con Calma</td>\n",
       "      <td>Daddy Yankee</td>\n",
       "      <td>Con Calma</td>\n",
       "      <td>2019-01-24</td>\n",
       "      <td>0.1100</td>\n",
       "      <td>0.737</td>\n",
       "      <td>0.860</td>\n",
       "      <td>0.000002</td>\n",
       "      <td>-2.652</td>\n",
       "      <td>0.0593</td>\n",
       "      <td>93.989</td>\n",
       "      <td>0.656</td>\n",
       "    </tr>\n",
       "    <tr>\n",
       "      <th>1666</th>\n",
       "      <td>3e9HZxeyfWwjeyPAMmWSSQ</td>\n",
       "      <td>thank u, next</td>\n",
       "      <td>Ariana Grande</td>\n",
       "      <td>thank u, next</td>\n",
       "      <td>2019-02-08</td>\n",
       "      <td>0.2290</td>\n",
       "      <td>0.717</td>\n",
       "      <td>0.653</td>\n",
       "      <td>0.000000</td>\n",
       "      <td>-5.634</td>\n",
       "      <td>0.0658</td>\n",
       "      <td>106.966</td>\n",
       "      <td>0.412</td>\n",
       "    </tr>\n",
       "    <tr>\n",
       "      <th>1708</th>\n",
       "      <td>0TDLuuLlV54CkRRUOahJb4</td>\n",
       "      <td>Titanium (feat. Sia)</td>\n",
       "      <td>David Guetta</td>\n",
       "      <td>Nothing but the Beat (Ultimate Edition)</td>\n",
       "      <td>2012-12-07</td>\n",
       "      <td>0.0679</td>\n",
       "      <td>0.604</td>\n",
       "      <td>0.787</td>\n",
       "      <td>0.150000</td>\n",
       "      <td>-3.674</td>\n",
       "      <td>0.1030</td>\n",
       "      <td>126.062</td>\n",
       "      <td>0.301</td>\n",
       "    </tr>\n",
       "  </tbody>\n",
       "</table>\n",
       "</div>"
      ]
     },
     "execution_count": 18,
     "metadata": {},
     "output_type": "execute_result"
    }
   ],
   "execution_count": 18
  },
  {
   "metadata": {
    "ExecuteTime": {
     "end_time": "2024-12-19T13:10:23.734697Z",
     "start_time": "2024-12-19T13:10:23.676187Z"
    }
   },
   "cell_type": "code",
   "source": [
    "# fill in null values from spotify data\n",
    "for item in results['items']:\n",
    "    track = item['track'] \n",
    "\n",
    "    # overwrite the track data with the information from the api\n",
    "    track_data = {\n",
    "        'name': track['name'],\n",
    "        'artist': track['artists'][0]['name'],\n",
    "        'album': track['album']['name'],\n",
    "        'release_date': track['album']['release_date'],\n",
    "    }\n",
    "\n",
    "    df_found.loc[df_found['id'] == track['id'], track_data.keys()] = track_data.values()"
   ],
   "id": "17664ccc07732174",
   "outputs": [],
   "execution_count": 19
  },
  {
   "metadata": {
    "ExecuteTime": {
     "end_time": "2024-12-19T13:12:09.534983Z",
     "start_time": "2024-12-19T13:12:09.524119Z"
    }
   },
   "cell_type": "code",
   "source": "df_found.head()",
   "id": "2e0f29ceedc4d870",
   "outputs": [
    {
     "data": {
      "text/plain": [
       "                          id  \\\n",
       "133   7BKLCZ1jbUBVqRi2FVlTVw   \n",
       "604   2Foc5Q5nqNiosCNqttzHof   \n",
       "732   5w9c2J52mkdntKOmRLeM2m   \n",
       "1666  3e9HZxeyfWwjeyPAMmWSSQ   \n",
       "1708  0TDLuuLlV54CkRRUOahJb4   \n",
       "\n",
       "                                                   name            artist  \\\n",
       "133                                              Closer  The Chainsmokers   \n",
       "604   Get Lucky (Radio Edit) [feat. Pharrell William...         Daft Punk   \n",
       "732                                           Con Calma      Daddy Yankee   \n",
       "1666                                      thank u, next     Ariana Grande   \n",
       "1708                               Titanium (feat. Sia)      David Guetta   \n",
       "\n",
       "                                                  album release_date  \\\n",
       "133                                              Closer   2016-07-29   \n",
       "604   Get Lucky (Radio Edit) [feat. Pharrell William...   2013-04-19   \n",
       "732                                           Con Calma   2019-01-24   \n",
       "1666                                      thank u, next   2019-02-08   \n",
       "1708            Nothing but the Beat (Ultimate Edition)   2012-12-07   \n",
       "\n",
       "      acousticness  danceability  energy  instrumentalness  loudness  \\\n",
       "133         0.4140         0.748   0.524          0.000000    -5.599   \n",
       "604         0.0426         0.794   0.811          0.000001    -8.966   \n",
       "732         0.1100         0.737   0.860          0.000002    -2.652   \n",
       "1666        0.2290         0.717   0.653          0.000000    -5.634   \n",
       "1708        0.0679         0.604   0.787          0.150000    -3.674   \n",
       "\n",
       "      speechiness    tempo  valence  \n",
       "133        0.0338   95.010    0.661  \n",
       "604        0.0380  116.047    0.862  \n",
       "732        0.0593   93.989    0.656  \n",
       "1666       0.0658  106.966    0.412  \n",
       "1708       0.1030  126.062    0.301  "
      ],
      "text/html": [
       "<div>\n",
       "<style scoped>\n",
       "    .dataframe tbody tr th:only-of-type {\n",
       "        vertical-align: middle;\n",
       "    }\n",
       "\n",
       "    .dataframe tbody tr th {\n",
       "        vertical-align: top;\n",
       "    }\n",
       "\n",
       "    .dataframe thead th {\n",
       "        text-align: right;\n",
       "    }\n",
       "</style>\n",
       "<table border=\"1\" class=\"dataframe\">\n",
       "  <thead>\n",
       "    <tr style=\"text-align: right;\">\n",
       "      <th></th>\n",
       "      <th>id</th>\n",
       "      <th>name</th>\n",
       "      <th>artist</th>\n",
       "      <th>album</th>\n",
       "      <th>release_date</th>\n",
       "      <th>acousticness</th>\n",
       "      <th>danceability</th>\n",
       "      <th>energy</th>\n",
       "      <th>instrumentalness</th>\n",
       "      <th>loudness</th>\n",
       "      <th>speechiness</th>\n",
       "      <th>tempo</th>\n",
       "      <th>valence</th>\n",
       "    </tr>\n",
       "  </thead>\n",
       "  <tbody>\n",
       "    <tr>\n",
       "      <th>133</th>\n",
       "      <td>7BKLCZ1jbUBVqRi2FVlTVw</td>\n",
       "      <td>Closer</td>\n",
       "      <td>The Chainsmokers</td>\n",
       "      <td>Closer</td>\n",
       "      <td>2016-07-29</td>\n",
       "      <td>0.4140</td>\n",
       "      <td>0.748</td>\n",
       "      <td>0.524</td>\n",
       "      <td>0.000000</td>\n",
       "      <td>-5.599</td>\n",
       "      <td>0.0338</td>\n",
       "      <td>95.010</td>\n",
       "      <td>0.661</td>\n",
       "    </tr>\n",
       "    <tr>\n",
       "      <th>604</th>\n",
       "      <td>2Foc5Q5nqNiosCNqttzHof</td>\n",
       "      <td>Get Lucky (Radio Edit) [feat. Pharrell William...</td>\n",
       "      <td>Daft Punk</td>\n",
       "      <td>Get Lucky (Radio Edit) [feat. Pharrell William...</td>\n",
       "      <td>2013-04-19</td>\n",
       "      <td>0.0426</td>\n",
       "      <td>0.794</td>\n",
       "      <td>0.811</td>\n",
       "      <td>0.000001</td>\n",
       "      <td>-8.966</td>\n",
       "      <td>0.0380</td>\n",
       "      <td>116.047</td>\n",
       "      <td>0.862</td>\n",
       "    </tr>\n",
       "    <tr>\n",
       "      <th>732</th>\n",
       "      <td>5w9c2J52mkdntKOmRLeM2m</td>\n",
       "      <td>Con Calma</td>\n",
       "      <td>Daddy Yankee</td>\n",
       "      <td>Con Calma</td>\n",
       "      <td>2019-01-24</td>\n",
       "      <td>0.1100</td>\n",
       "      <td>0.737</td>\n",
       "      <td>0.860</td>\n",
       "      <td>0.000002</td>\n",
       "      <td>-2.652</td>\n",
       "      <td>0.0593</td>\n",
       "      <td>93.989</td>\n",
       "      <td>0.656</td>\n",
       "    </tr>\n",
       "    <tr>\n",
       "      <th>1666</th>\n",
       "      <td>3e9HZxeyfWwjeyPAMmWSSQ</td>\n",
       "      <td>thank u, next</td>\n",
       "      <td>Ariana Grande</td>\n",
       "      <td>thank u, next</td>\n",
       "      <td>2019-02-08</td>\n",
       "      <td>0.2290</td>\n",
       "      <td>0.717</td>\n",
       "      <td>0.653</td>\n",
       "      <td>0.000000</td>\n",
       "      <td>-5.634</td>\n",
       "      <td>0.0658</td>\n",
       "      <td>106.966</td>\n",
       "      <td>0.412</td>\n",
       "    </tr>\n",
       "    <tr>\n",
       "      <th>1708</th>\n",
       "      <td>0TDLuuLlV54CkRRUOahJb4</td>\n",
       "      <td>Titanium (feat. Sia)</td>\n",
       "      <td>David Guetta</td>\n",
       "      <td>Nothing but the Beat (Ultimate Edition)</td>\n",
       "      <td>2012-12-07</td>\n",
       "      <td>0.0679</td>\n",
       "      <td>0.604</td>\n",
       "      <td>0.787</td>\n",
       "      <td>0.150000</td>\n",
       "      <td>-3.674</td>\n",
       "      <td>0.1030</td>\n",
       "      <td>126.062</td>\n",
       "      <td>0.301</td>\n",
       "    </tr>\n",
       "  </tbody>\n",
       "</table>\n",
       "</div>"
      ]
     },
     "execution_count": 25,
     "metadata": {},
     "output_type": "execute_result"
    }
   ],
   "execution_count": 25
  },
  {
   "metadata": {},
   "cell_type": "markdown",
   "source": "Code logic moved into `data_extraction.py` for reusability",
   "id": "b1fb2181fde3abc2"
  },
  {
   "metadata": {
    "ExecuteTime": {
     "end_time": "2024-12-19T13:10:41.191593Z",
     "start_time": "2024-12-19T13:10:41.188651Z"
    }
   },
   "cell_type": "code",
   "source": "missing_ids = list(set(song_ids) - set(df_found['id'].tolist()))",
   "id": "1d20cb494d14f1f1",
   "outputs": [],
   "execution_count": 21
  },
  {
   "metadata": {
    "ExecuteTime": {
     "end_time": "2024-12-19T13:10:57.271928Z",
     "start_time": "2024-12-19T13:10:57.267827Z"
    }
   },
   "cell_type": "code",
   "source": "len(missing_ids)",
   "id": "269e234800d8766b",
   "outputs": [
    {
     "data": {
      "text/plain": [
       "22"
      ]
     },
     "execution_count": 23,
     "metadata": {},
     "output_type": "execute_result"
    }
   ],
   "execution_count": 23
  },
  {
   "metadata": {
    "ExecuteTime": {
     "end_time": "2024-12-19T13:13:23.707145Z",
     "start_time": "2024-12-19T13:13:23.702733Z"
    }
   },
   "cell_type": "code",
   "source": [
    "for item in results['items']:\n",
    "    track = item['track']\n",
    "    if track['id'] not in missing_ids:\n",
    "        continue\n",
    "\n",
    "    print(track['name'], '-', track['artists'][0]['name'])"
   ],
   "id": "c3008f0aef42fffd",
   "outputs": [
    {
     "name": "stdout",
     "output_type": "stream",
     "text": [
      "Purple Rain - Prince\n",
      "Thriller - Michael Jackson\n",
      "With Or Without You - U2\n",
      "Bye Bye Bye - *NSYNC\n",
      "Wonderwall - Oasis\n",
      "99 Problems - JAY-Z\n",
      "Royals - Lorde\n",
      "Time - 2011 Remastered Version - Pink Floyd\n",
      "Superstition - Stevie Wonder\n",
      "Rock Me Amadeus - Falco\n",
      "Ding - Seeed\n",
      "Toi jamais - Jeane Manson\n",
      "Felicità - Al Bano And Romina Power\n",
      "L'italiano - Toto Cutugno\n",
      "Nel Blu Dipinto Di Blu - Domenico Modugno\n",
      "The Message - Grandmaster Flash\n",
      "Nuthin' But A \"G\" Thang - Dr. Dre\n",
      "Cater 2 U - Destiny's Child\n",
      "Needed Me - Rihanna\n",
      "Somebody That I Used To Know - Gotye\n",
      "Sunday Bloody Sunday - U2\n",
      "Viva La Vida - Coldplay\n"
     ]
    }
   ],
   "execution_count": 27
  },
  {
   "metadata": {},
   "cell_type": "code",
   "outputs": [],
   "execution_count": null,
   "source": "",
   "id": "734ed626ae50c719"
  }
 ],
 "metadata": {
  "kernelspec": {
   "display_name": "Python 3",
   "language": "python",
   "name": "python3"
  },
  "language_info": {
   "codemirror_mode": {
    "name": "ipython",
    "version": 2
   },
   "file_extension": ".py",
   "mimetype": "text/x-python",
   "name": "python",
   "nbconvert_exporter": "python",
   "pygments_lexer": "ipython2",
   "version": "2.7.6"
  }
 },
 "nbformat": 4,
 "nbformat_minor": 5
}
