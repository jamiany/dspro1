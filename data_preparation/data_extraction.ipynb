{
 "cells": [
  {
   "cell_type": "code",
   "id": "initial_id",
   "metadata": {
    "collapsed": true,
    "ExecuteTime": {
     "end_time": "2024-12-15T16:58:04.798520Z",
     "start_time": "2024-12-15T16:58:04.551147Z"
    }
   },
   "source": [
    "import spotipy\n",
    "from dotenv import load_dotenv\n",
    "import pandas as pd\n",
    "\n",
    "load_dotenv()\n",
    "\n",
    "sp = spotipy.Spotify(auth_manager=spotipy.SpotifyClientCredentials())"
   ],
   "outputs": [
    {
     "name": "stderr",
     "output_type": "stream",
     "text": [
      "/Users/tamino/Projects/hslu/dspro/dspro1/venv/lib/python3.9/site-packages/urllib3/__init__.py:35: NotOpenSSLWarning: urllib3 v2 only supports OpenSSL 1.1.1+, currently the 'ssl' module is compiled with 'LibreSSL 2.8.3'. See: https://github.com/urllib3/urllib3/issues/3020\n",
      "  warnings.warn(\n"
     ]
    }
   ],
   "execution_count": 1
  },
  {
   "metadata": {
    "ExecuteTime": {
     "end_time": "2024-12-15T16:58:05.452716Z",
     "start_time": "2024-12-15T16:58:04.799501Z"
    }
   },
   "cell_type": "code",
   "source": [
    "results = sp.playlist_items('5Rh7ikX5dteMXfc8tmeBJy')\n",
    "\n",
    "song_ids = list(map(lambda song : song['track']['id'], results['items']))"
   ],
   "id": "179aac7cf5ed097",
   "outputs": [],
   "execution_count": 2
  },
  {
   "metadata": {
    "ExecuteTime": {
     "end_time": "2024-12-15T16:58:06.775286Z",
     "start_time": "2024-12-15T16:58:05.455229Z"
    }
   },
   "cell_type": "code",
   "source": "df = pd.read_csv(filepath_or_buffer='data.csv')",
   "id": "bf22ee5b8de7588d",
   "outputs": [
    {
     "name": "stderr",
     "output_type": "stream",
     "text": [
      "/var/folders/j8/6g668vcj4tg5h1dhl577p6yw0000gn/T/ipykernel_88972/2121921675.py:1: DtypeWarning: Columns (2,3,4,5) have mixed types. Specify dtype option on import or set low_memory=False.\n",
      "  df = pd.read_csv(filepath_or_buffer='data.csv')\n"
     ]
    }
   ],
   "execution_count": 3
  },
  {
   "metadata": {
    "ExecuteTime": {
     "end_time": "2024-12-15T16:58:06.853576Z",
     "start_time": "2024-12-15T16:58:06.776118Z"
    }
   },
   "cell_type": "code",
   "source": "df = df[df['id'].isin(song_ids)]",
   "id": "119c8b2a94c50e16",
   "outputs": [],
   "execution_count": 4
  },
  {
   "metadata": {
    "ExecuteTime": {
     "end_time": "2024-12-15T16:58:06.858557Z",
     "start_time": "2024-12-15T16:58:06.855001Z"
    }
   },
   "cell_type": "code",
   "source": "len(df)",
   "id": "9e356cb25c276210",
   "outputs": [
    {
     "data": {
      "text/plain": [
       "78"
      ]
     },
     "execution_count": 5,
     "metadata": {},
     "output_type": "execute_result"
    }
   ],
   "execution_count": 5
  },
  {
   "metadata": {},
   "cell_type": "markdown",
   "source": "Code logic moved into `data_extraction.py` for reusability",
   "id": "b1fb2181fde3abc2"
  },
  {
   "metadata": {
    "ExecuteTime": {
     "end_time": "2024-12-15T16:58:06.861019Z",
     "start_time": "2024-12-15T16:58:06.859467Z"
    }
   },
   "cell_type": "code",
   "source": "",
   "id": "cbca819189a2092c",
   "outputs": [],
   "execution_count": 5
  }
 ],
 "metadata": {
  "kernelspec": {
   "display_name": "Python 3",
   "language": "python",
   "name": "python3"
  },
  "language_info": {
   "codemirror_mode": {
    "name": "ipython",
    "version": 2
   },
   "file_extension": ".py",
   "mimetype": "text/x-python",
   "name": "python",
   "nbconvert_exporter": "python",
   "pygments_lexer": "ipython2",
   "version": "2.7.6"
  }
 },
 "nbformat": 4,
 "nbformat_minor": 5
}
