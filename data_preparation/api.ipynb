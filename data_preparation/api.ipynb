{
 "cells": [
  {
   "cell_type": "code",
   "id": "initial_id",
   "metadata": {
    "collapsed": true,
    "ExecuteTime": {
     "end_time": "2024-10-24T19:37:05.730945Z",
     "start_time": "2024-10-24T19:37:05.465189Z"
    }
   },
   "source": [
    "import pandas as pd\n",
    "from dotenv import load_dotenv\n",
    "import spotipy\n",
    "from spotipy.oauth2 import SpotifyClientCredentials\n",
    "\n",
    "load_dotenv()\n",
    "\n",
    "sp = spotipy.Spotify(auth_manager=SpotifyClientCredentials())"
   ],
   "outputs": [],
   "execution_count": 8
  },
  {
   "metadata": {
    "ExecuteTime": {
     "end_time": "2024-10-24T19:36:33.890995Z",
     "start_time": "2024-10-24T19:36:27.808306Z"
    }
   },
   "cell_type": "code",
   "source": [
    "data = []\n",
    "\n",
    "results = sp.playlist_items(\"5Rh7ikX5dteMXfc8tmeBJy\")\n",
    "for idx, item in enumerate(results['items']):\n",
    "    track = item['track']\n",
    "\n",
    "    features = sp.audio_features(track[\"id\"])\n",
    "    track_features = features[0]\n",
    "\n",
    "    data.append([\n",
    "        track[\"id\"],                        # string\n",
    "        track[\"name\"],                      # string\n",
    "        track['artists'][0]['name'],        # string\n",
    "        track['album']['name'],             # string\n",
    "        track[\"popularity\"],                # integer  0-100  % (current trendiness)\n",
    "        track[\"duration_ms\"],               # integer\n",
    "        track_features[\"acousticness\"],     # float    0-1    probability (whether the track uses instrumental rather than electric sounds)\n",
    "        track_features[\"danceability\"],     # float    0-1    probability (suitability for dancing)\n",
    "        track_features[\"energy\"],           # float    0-1    % (intensity / activity)\n",
    "        track_features[\"instrumentalness\"], # float    0-1    probability (whether the track contains no vocals)\n",
    "        track_features[\"key\"],              # integer  -1-11  (-1: none identified, 0: C, ...)\n",
    "        track_features[\"liveness\"],         # float    0-1    probability (whether the song is a live performance)\n",
    "        track_features[\"loudness\"],         # float           dB\n",
    "        track_features[\"mode\"],             # integer  0,1    (0: minor or 1: major)\n",
    "        track_features[\"speechiness\"],      # float    0-1    % (how many words are spoken rather than sang)\n",
    "        track_features[\"tempo\"],            # float           BPM\n",
    "        track_features[\"time_signature\"],   # integer  3-7    time signature (x/4, example: 3/4)\n",
    "        track_features[\"valence\"],          # float    0-1    spectrum (0: sad / angry, 1: happy)\n",
    "        # TODO add explicit\n",
    "        # TODO add release year\n",
    "    ])"
   ],
   "id": "ede7ed9501aa7593",
   "outputs": [],
   "execution_count": 6
  },
  {
   "metadata": {
    "ExecuteTime": {
     "end_time": "2024-10-24T20:15:29.181629Z",
     "start_time": "2024-10-24T20:15:29.177401Z"
    }
   },
   "cell_type": "code",
   "source": [
    "df = pd.DataFrame(data, columns=['id', 'name', 'artist', 'album', 'popularity', 'duration', 'acousticness', 'danceability', 'energy', 'instrumentalness', 'key', 'liveness', 'loudness', 'mode', 'speechiness', 'tempo', 'time_signature', 'valence'])\n",
    "\n",
    "updated = df.drop([\n",
    "    'artist', # irrelevant\n",
    "    'album', # irrelevant\n",
    "    'popularity', # popularity isn't suitable to measure similarity of songs\n",
    "    'duration', # not relevant to measure song similarity\n",
    "    'liveness', # not relevant to measure song similarity\n",
    "    # TODO loudness?\n",
    "    # TODO mode?\n",
    "    # TODO do we need tempo AND time_signature?\n",
    "], axis='columns')\n",
    "\n",
    "print(updated.columns)"
   ],
   "id": "e824bf74be19252e",
   "outputs": [
    {
     "name": "stdout",
     "output_type": "stream",
     "text": [
      "Index(['id', 'name', 'acousticness', 'danceability', 'energy',\n",
      "       'instrumentalness', 'key', 'loudness', 'mode', 'speechiness', 'tempo',\n",
      "       'time_signature', 'valence'],\n",
      "      dtype='object')\n"
     ]
    }
   ],
   "execution_count": 14
  },
  {
   "metadata": {},
   "cell_type": "code",
   "outputs": [],
   "execution_count": null,
   "source": "",
   "id": "7cb2884b391fd281"
  }
 ],
 "metadata": {
  "kernelspec": {
   "display_name": "Python 3",
   "language": "python",
   "name": "python3"
  },
  "language_info": {
   "codemirror_mode": {
    "name": "ipython",
    "version": 2
   },
   "file_extension": ".py",
   "mimetype": "text/x-python",
   "name": "python",
   "nbconvert_exporter": "python",
   "pygments_lexer": "ipython2",
   "version": "2.7.6"
  }
 },
 "nbformat": 4,
 "nbformat_minor": 5
}
