{
 "cells": [
  {
   "metadata": {},
   "cell_type": "markdown",
   "source": [
    "## DEPRECATED\n",
    "This code logic is deprecated because the spotify endpoints used were disabled and cannot be used anymore"
   ],
   "id": "de81d1582bcc207b"
  },
  {
   "cell_type": "code",
   "id": "initial_id",
   "metadata": {
    "collapsed": true,
    "ExecuteTime": {
     "end_time": "2024-12-15T13:57:32.916303Z",
     "start_time": "2024-12-15T13:57:31.833314Z"
    }
   },
   "source": [
    "import pandas as pd\n",
    "import numpy as np\n",
    "from dotenv import load_dotenv\n",
    "import spotipy\n",
    "from spotipy.oauth2 import SpotifyClientCredentials\n",
    "import matplotlib.pyplot as plt\n",
    "import seaborn as sns\n",
    "from sklearn.decomposition import PCA\n",
    "from sklearn.preprocessing import MinMaxScaler\n",
    "from sklearn.cluster import KMeans\n",
    "import plotly.express as px\n",
    "\n",
    "load_dotenv()\n",
    "\n",
    "sp = spotipy.Spotify(auth_manager=SpotifyClientCredentials())"
   ],
   "outputs": [
    {
     "name": "stderr",
     "output_type": "stream",
     "text": [
      "/Users/tamino/Projects/hslu/dspro/dspro1/venv/lib/python3.9/site-packages/urllib3/__init__.py:35: NotOpenSSLWarning: urllib3 v2 only supports OpenSSL 1.1.1+, currently the 'ssl' module is compiled with 'LibreSSL 2.8.3'. See: https://github.com/urllib3/urllib3/issues/3020\n",
      "  warnings.warn(\n"
     ]
    }
   ],
   "execution_count": 2
  },
  {
   "metadata": {},
   "cell_type": "markdown",
   "source": "First we fetch the data",
   "id": "d1873f4bd7c42abf"
  },
  {
   "metadata": {
    "ExecuteTime": {
     "end_time": "2024-12-15T13:58:10.898997Z",
     "start_time": "2024-12-15T13:58:10.152600Z"
    }
   },
   "cell_type": "code",
   "source": [
    "results = sp.playlist_items('5Rh7ikX5dteMXfc8tmeBJy')\n",
    "\n",
    "song_ids = map(lambda song : song['track']['id'], results['items'])\n",
    "\n",
    "features = sp.audio_features(song_ids)\n",
    "\n",
    "raw_data = [{**song, 'features': features} for song, features in zip(results['items'], features)]"
   ],
   "id": "b9afdbbda194005",
   "outputs": [
    {
     "name": "stderr",
     "output_type": "stream",
     "text": [
      "HTTP Error for GET to https://api.spotify.com/v1/audio-features/?ids=1uvyZBs4IZYRebHIB1747m,3S2R0EVwBSAVMd5UMgKTL0,2374M0fQpWi3dLnB54qaLX,4RvWPyQ5RL0ao9LPZeSouE,2MuWTIM3b0YEAskbeeFE1i,2fuCquhmrzHpu5xcA1ci9x,2WfaOiMkCvy7F5fcp2zZ8L,37ZJ0p5Jm13JPevGcx4SkF,77NNZQSqzLNqh2A9JhLRkg,4N0fzRX3T7QkOecp3pkWpp,4CeeEOM32jQcH3eN9Q2dGj,6MdqqkQ8sSC0WB4i8PyRuQ,4r8lRYnoOGdEi6YyI5OC1o,57bgtoPSgt236HzfBOd8kj,47BBI51FKFwOMlIiX6m8ya,0hrBpAOgrt8RXigk83LLNE,1Jaah2tmN9Hv81A87KZ1MU,1qPbGZqppFwLwcBC1JQ6Vr,1WYEDcS7WGjv0rG7rmMX3o,7H6ev70Weq6DdpZyyTmUXk,1QV6tiMFM6fSOKOGLMHYYg,3DQVgcqaP3iSMbaKsd57l5,5VGlqQANWDKJFl0MBG3sg2,0KQx6HOpJueiSkztcS0r7D,3TCauNPqFiniaYHBvEVoHG,7IdFdRlCjUi6kkhbPoRfnw,1vxw6aYJls2oq3gW0DujAo,1ixbwbeBi5ufN4noUKmW5a,3dPQuX8Gs42Y7b454ybpMR,1L5tZi0izXsi5Kk5OJf4W0,4OSBTYWVwsQhGLF9NHvIbR,3iVcZ5G6tvkXZkZKlMpIUs,3DK6m7It6Pw857FcQftMds,3e9HZxeyfWwjeyPAMmWSSQ,58q2HKrzhC3ozto2nDdN4z,4SDWMFvYJKtK1QPhIOeZhd,0wwPcA6wtMf6HUMpIRdeP7,0F7FA14euOIX8KcbEturGH,2VxeLyX666F8uXCJ0dZF8B,2Foc5Q5nqNiosCNqttzHof,3z8h0TU7ReDPLIbEnYhWZb,4UDmDIqJIbrW0hMBQMFOsM,5CQ30WqJwcep0pYcV4AMNc,0GjEhVFGZW8afUYGChu3Rr,0ofHAoxe9vBkTCp2UQIavz,4xHWH1jwV5j4mBYRhxPbwZ,40riOy7x9W7GXjyGp4pjAv,4N0TP4Rmj6QQezWV88ARNJ,2grjqo0Frpf2okIBiifQKs,2SpEHTbUuebeLkgs9QB7Ue,2IJftBfq7pJ43tfnOR0RB3,0DfG1ltJnZyq4Tx3ZLL7ZU,5vZ4IeUenK2cHub2d7yfWk,3NIDOSThELMihLSOMZcL4k,5LH1z4ma2TN2aVeESXthj9,228BxWXUYQPJrJYHDLOHkj,6mICuAdrwEjh6Y6lroV2Kg,5w9c2J52mkdntKOmRLeM2m,4sCSUQnWQ6HJsOMjfPicdn,3i3fYhl23l7exbIj9oAJPN,1MqzIgGsHP4cNjPboevsfq,34dx8DACTJsc3rsJdaEIQw,6RU0eIObzPf9HxYYV2hh5G,2d8D7uk3tbAThjRkdfrx9c,6IRA4KOVbtiGiTdYoEThJN,7sXTcibuNYugjjYNfgf2kY,2S7RApTsKT0CtYojYq2cKz,776AftMmFFAWUIEAb3lHhw,5zyrEv4F3FaLECI8TOKpFM,0jLeyuu6mtsD384054xLah,1vePC77pxGSUXLErDHuGtH,5Tbpp3OLLClPJF8t1DmrFD,5n8Aro6j1bEGIy7Tpo7FV7,7MJQ9Nfxzh8LPZ9e9u68Fq,7iL6o9tox1zgHpKUfh9vuC,0cGG2EouYCEEC3xfa0tDFV,39lSeqnyjZJejRuaREfyLL,4OdhffpvG3HxDJMxYOKh97,0qi4b1l0eT3jpzeNHeFXDT,3L7RtEcu1Hw3OXrpnthngx,7ACxUo21jtTHzy7ZEV56vU,78lgmZwycJ3nzsdgmPPGNx,5sICkBXVmaCQk5aISGR3x1,3CIOopLwvyMvXk97ZEksKO,54yLLvpezvPO1lA3GspiZj,0WtDGnWL2KrMCk0mI1Gpwz,0FZvjrHpAmLKj574M4VwrF,3NWTRZ0A8xKlBP1qgNftql,6g0Orsxv6glTJCt4cHsRsQ,4pAl7FkDMNBsjykPXo91B3,2YWjW3wwQIBLNhxWKBQd16,7BKLCZ1jbUBVqRi2FVlTVw,5knuzwU65gJK7IF5yJsuaW,0TDLuuLlV54CkRRUOahJb4,0nrRP2bk19rLc0orkWPQk2,1hwJKpe0BPUsq6UUrwBWTw,6md4w95cnKaW64JyEQ3A0L,60a0Rd6pjrkxjPbaKzXjfq,6qa36OkEeQqGaWlOcpjlGD,3Fcfwhm8oRrBvBZ8KGhtea with Params: {} returned 403 due to None\n"
     ]
    },
    {
     "ename": "SpotifyException",
     "evalue": "http status: 403, code:-1 - https://api.spotify.com/v1/audio-features/?ids=1uvyZBs4IZYRebHIB1747m,3S2R0EVwBSAVMd5UMgKTL0,2374M0fQpWi3dLnB54qaLX,4RvWPyQ5RL0ao9LPZeSouE,2MuWTIM3b0YEAskbeeFE1i,2fuCquhmrzHpu5xcA1ci9x,2WfaOiMkCvy7F5fcp2zZ8L,37ZJ0p5Jm13JPevGcx4SkF,77NNZQSqzLNqh2A9JhLRkg,4N0fzRX3T7QkOecp3pkWpp,4CeeEOM32jQcH3eN9Q2dGj,6MdqqkQ8sSC0WB4i8PyRuQ,4r8lRYnoOGdEi6YyI5OC1o,57bgtoPSgt236HzfBOd8kj,47BBI51FKFwOMlIiX6m8ya,0hrBpAOgrt8RXigk83LLNE,1Jaah2tmN9Hv81A87KZ1MU,1qPbGZqppFwLwcBC1JQ6Vr,1WYEDcS7WGjv0rG7rmMX3o,7H6ev70Weq6DdpZyyTmUXk,1QV6tiMFM6fSOKOGLMHYYg,3DQVgcqaP3iSMbaKsd57l5,5VGlqQANWDKJFl0MBG3sg2,0KQx6HOpJueiSkztcS0r7D,3TCauNPqFiniaYHBvEVoHG,7IdFdRlCjUi6kkhbPoRfnw,1vxw6aYJls2oq3gW0DujAo,1ixbwbeBi5ufN4noUKmW5a,3dPQuX8Gs42Y7b454ybpMR,1L5tZi0izXsi5Kk5OJf4W0,4OSBTYWVwsQhGLF9NHvIbR,3iVcZ5G6tvkXZkZKlMpIUs,3DK6m7It6Pw857FcQftMds,3e9HZxeyfWwjeyPAMmWSSQ,58q2HKrzhC3ozto2nDdN4z,4SDWMFvYJKtK1QPhIOeZhd,0wwPcA6wtMf6HUMpIRdeP7,0F7FA14euOIX8KcbEturGH,2VxeLyX666F8uXCJ0dZF8B,2Foc5Q5nqNiosCNqttzHof,3z8h0TU7ReDPLIbEnYhWZb,4UDmDIqJIbrW0hMBQMFOsM,5CQ30WqJwcep0pYcV4AMNc,0GjEhVFGZW8afUYGChu3Rr,0ofHAoxe9vBkTCp2UQIavz,4xHWH1jwV5j4mBYRhxPbwZ,40riOy7x9W7GXjyGp4pjAv,4N0TP4Rmj6QQezWV88ARNJ,2grjqo0Frpf2okIBiifQKs,2SpEHTbUuebeLkgs9QB7Ue,2IJftBfq7pJ43tfnOR0RB3,0DfG1ltJnZyq4Tx3ZLL7ZU,5vZ4IeUenK2cHub2d7yfWk,3NIDOSThELMihLSOMZcL4k,5LH1z4ma2TN2aVeESXthj9,228BxWXUYQPJrJYHDLOHkj,6mICuAdrwEjh6Y6lroV2Kg,5w9c2J52mkdntKOmRLeM2m,4sCSUQnWQ6HJsOMjfPicdn,3i3fYhl23l7exbIj9oAJPN,1MqzIgGsHP4cNjPboevsfq,34dx8DACTJsc3rsJdaEIQw,6RU0eIObzPf9HxYYV2hh5G,2d8D7uk3tbAThjRkdfrx9c,6IRA4KOVbtiGiTdYoEThJN,7sXTcibuNYugjjYNfgf2kY,2S7RApTsKT0CtYojYq2cKz,776AftMmFFAWUIEAb3lHhw,5zyrEv4F3FaLECI8TOKpFM,0jLeyuu6mtsD384054xLah,1vePC77pxGSUXLErDHuGtH,5Tbpp3OLLClPJF8t1DmrFD,5n8Aro6j1bEGIy7Tpo7FV7,7MJQ9Nfxzh8LPZ9e9u68Fq,7iL6o9tox1zgHpKUfh9vuC,0cGG2EouYCEEC3xfa0tDFV,39lSeqnyjZJejRuaREfyLL,4OdhffpvG3HxDJMxYOKh97,0qi4b1l0eT3jpzeNHeFXDT,3L7RtEcu1Hw3OXrpnthngx,7ACxUo21jtTHzy7ZEV56vU,78lgmZwycJ3nzsdgmPPGNx,5sICkBXVmaCQk5aISGR3x1,3CIOopLwvyMvXk97ZEksKO,54yLLvpezvPO1lA3GspiZj,0WtDGnWL2KrMCk0mI1Gpwz,0FZvjrHpAmLKj574M4VwrF,3NWTRZ0A8xKlBP1qgNftql,6g0Orsxv6glTJCt4cHsRsQ,4pAl7FkDMNBsjykPXo91B3,2YWjW3wwQIBLNhxWKBQd16,7BKLCZ1jbUBVqRi2FVlTVw,5knuzwU65gJK7IF5yJsuaW,0TDLuuLlV54CkRRUOahJb4,0nrRP2bk19rLc0orkWPQk2,1hwJKpe0BPUsq6UUrwBWTw,6md4w95cnKaW64JyEQ3A0L,60a0Rd6pjrkxjPbaKzXjfq,6qa36OkEeQqGaWlOcpjlGD,3Fcfwhm8oRrBvBZ8KGhtea:\n None, reason: None",
     "output_type": "error",
     "traceback": [
      "\u001B[0;31m---------------------------------------------------------------------------\u001B[0m",
      "\u001B[0;31mHTTPError\u001B[0m                                 Traceback (most recent call last)",
      "File \u001B[0;32m~/Projects/hslu/dspro/dspro1/venv/lib/python3.9/site-packages/spotipy/client.py:275\u001B[0m, in \u001B[0;36mSpotify._internal_call\u001B[0;34m(self, method, url, payload, params)\u001B[0m\n\u001B[1;32m    270\u001B[0m response \u001B[38;5;241m=\u001B[39m \u001B[38;5;28mself\u001B[39m\u001B[38;5;241m.\u001B[39m_session\u001B[38;5;241m.\u001B[39mrequest(\n\u001B[1;32m    271\u001B[0m     method, url, headers\u001B[38;5;241m=\u001B[39mheaders, proxies\u001B[38;5;241m=\u001B[39m\u001B[38;5;28mself\u001B[39m\u001B[38;5;241m.\u001B[39mproxies,\n\u001B[1;32m    272\u001B[0m     timeout\u001B[38;5;241m=\u001B[39m\u001B[38;5;28mself\u001B[39m\u001B[38;5;241m.\u001B[39mrequests_timeout, \u001B[38;5;241m*\u001B[39m\u001B[38;5;241m*\u001B[39margs\n\u001B[1;32m    273\u001B[0m )\n\u001B[0;32m--> 275\u001B[0m \u001B[43mresponse\u001B[49m\u001B[38;5;241;43m.\u001B[39;49m\u001B[43mraise_for_status\u001B[49m\u001B[43m(\u001B[49m\u001B[43m)\u001B[49m\n\u001B[1;32m    276\u001B[0m results \u001B[38;5;241m=\u001B[39m response\u001B[38;5;241m.\u001B[39mjson()\n",
      "File \u001B[0;32m~/Projects/hslu/dspro/dspro1/venv/lib/python3.9/site-packages/requests/models.py:1024\u001B[0m, in \u001B[0;36mResponse.raise_for_status\u001B[0;34m(self)\u001B[0m\n\u001B[1;32m   1023\u001B[0m \u001B[38;5;28;01mif\u001B[39;00m http_error_msg:\n\u001B[0;32m-> 1024\u001B[0m     \u001B[38;5;28;01mraise\u001B[39;00m HTTPError(http_error_msg, response\u001B[38;5;241m=\u001B[39m\u001B[38;5;28mself\u001B[39m)\n",
      "\u001B[0;31mHTTPError\u001B[0m: 403 Client Error: Forbidden for url: https://api.spotify.com/v1/audio-features/?ids=1uvyZBs4IZYRebHIB1747m,3S2R0EVwBSAVMd5UMgKTL0,2374M0fQpWi3dLnB54qaLX,4RvWPyQ5RL0ao9LPZeSouE,2MuWTIM3b0YEAskbeeFE1i,2fuCquhmrzHpu5xcA1ci9x,2WfaOiMkCvy7F5fcp2zZ8L,37ZJ0p5Jm13JPevGcx4SkF,77NNZQSqzLNqh2A9JhLRkg,4N0fzRX3T7QkOecp3pkWpp,4CeeEOM32jQcH3eN9Q2dGj,6MdqqkQ8sSC0WB4i8PyRuQ,4r8lRYnoOGdEi6YyI5OC1o,57bgtoPSgt236HzfBOd8kj,47BBI51FKFwOMlIiX6m8ya,0hrBpAOgrt8RXigk83LLNE,1Jaah2tmN9Hv81A87KZ1MU,1qPbGZqppFwLwcBC1JQ6Vr,1WYEDcS7WGjv0rG7rmMX3o,7H6ev70Weq6DdpZyyTmUXk,1QV6tiMFM6fSOKOGLMHYYg,3DQVgcqaP3iSMbaKsd57l5,5VGlqQANWDKJFl0MBG3sg2,0KQx6HOpJueiSkztcS0r7D,3TCauNPqFiniaYHBvEVoHG,7IdFdRlCjUi6kkhbPoRfnw,1vxw6aYJls2oq3gW0DujAo,1ixbwbeBi5ufN4noUKmW5a,3dPQuX8Gs42Y7b454ybpMR,1L5tZi0izXsi5Kk5OJf4W0,4OSBTYWVwsQhGLF9NHvIbR,3iVcZ5G6tvkXZkZKlMpIUs,3DK6m7It6Pw857FcQftMds,3e9HZxeyfWwjeyPAMmWSSQ,58q2HKrzhC3ozto2nDdN4z,4SDWMFvYJKtK1QPhIOeZhd,0wwPcA6wtMf6HUMpIRdeP7,0F7FA14euOIX8KcbEturGH,2VxeLyX666F8uXCJ0dZF8B,2Foc5Q5nqNiosCNqttzHof,3z8h0TU7ReDPLIbEnYhWZb,4UDmDIqJIbrW0hMBQMFOsM,5CQ30WqJwcep0pYcV4AMNc,0GjEhVFGZW8afUYGChu3Rr,0ofHAoxe9vBkTCp2UQIavz,4xHWH1jwV5j4mBYRhxPbwZ,40riOy7x9W7GXjyGp4pjAv,4N0TP4Rmj6QQezWV88ARNJ,2grjqo0Frpf2okIBiifQKs,2SpEHTbUuebeLkgs9QB7Ue,2IJftBfq7pJ43tfnOR0RB3,0DfG1ltJnZyq4Tx3ZLL7ZU,5vZ4IeUenK2cHub2d7yfWk,3NIDOSThELMihLSOMZcL4k,5LH1z4ma2TN2aVeESXthj9,228BxWXUYQPJrJYHDLOHkj,6mICuAdrwEjh6Y6lroV2Kg,5w9c2J52mkdntKOmRLeM2m,4sCSUQnWQ6HJsOMjfPicdn,3i3fYhl23l7exbIj9oAJPN,1MqzIgGsHP4cNjPboevsfq,34dx8DACTJsc3rsJdaEIQw,6RU0eIObzPf9HxYYV2hh5G,2d8D7uk3tbAThjRkdfrx9c,6IRA4KOVbtiGiTdYoEThJN,7sXTcibuNYugjjYNfgf2kY,2S7RApTsKT0CtYojYq2cKz,776AftMmFFAWUIEAb3lHhw,5zyrEv4F3FaLECI8TOKpFM,0jLeyuu6mtsD384054xLah,1vePC77pxGSUXLErDHuGtH,5Tbpp3OLLClPJF8t1DmrFD,5n8Aro6j1bEGIy7Tpo7FV7,7MJQ9Nfxzh8LPZ9e9u68Fq,7iL6o9tox1zgHpKUfh9vuC,0cGG2EouYCEEC3xfa0tDFV,39lSeqnyjZJejRuaREfyLL,4OdhffpvG3HxDJMxYOKh97,0qi4b1l0eT3jpzeNHeFXDT,3L7RtEcu1Hw3OXrpnthngx,7ACxUo21jtTHzy7ZEV56vU,78lgmZwycJ3nzsdgmPPGNx,5sICkBXVmaCQk5aISGR3x1,3CIOopLwvyMvXk97ZEksKO,54yLLvpezvPO1lA3GspiZj,0WtDGnWL2KrMCk0mI1Gpwz,0FZvjrHpAmLKj574M4VwrF,3NWTRZ0A8xKlBP1qgNftql,6g0Orsxv6glTJCt4cHsRsQ,4pAl7FkDMNBsjykPXo91B3,2YWjW3wwQIBLNhxWKBQd16,7BKLCZ1jbUBVqRi2FVlTVw,5knuzwU65gJK7IF5yJsuaW,0TDLuuLlV54CkRRUOahJb4,0nrRP2bk19rLc0orkWPQk2,1hwJKpe0BPUsq6UUrwBWTw,6md4w95cnKaW64JyEQ3A0L,60a0Rd6pjrkxjPbaKzXjfq,6qa36OkEeQqGaWlOcpjlGD,3Fcfwhm8oRrBvBZ8KGhtea",
      "\nDuring handling of the above exception, another exception occurred:\n",
      "\u001B[0;31mSpotifyException\u001B[0m                          Traceback (most recent call last)",
      "Cell \u001B[0;32mIn[4], line 5\u001B[0m\n\u001B[1;32m      1\u001B[0m results \u001B[38;5;241m=\u001B[39m sp\u001B[38;5;241m.\u001B[39mplaylist_items(\u001B[38;5;124m'\u001B[39m\u001B[38;5;124m5Rh7ikX5dteMXfc8tmeBJy\u001B[39m\u001B[38;5;124m'\u001B[39m)\n\u001B[1;32m      3\u001B[0m song_ids \u001B[38;5;241m=\u001B[39m \u001B[38;5;28mmap\u001B[39m(\u001B[38;5;28;01mlambda\u001B[39;00m song : song[\u001B[38;5;124m'\u001B[39m\u001B[38;5;124mtrack\u001B[39m\u001B[38;5;124m'\u001B[39m][\u001B[38;5;124m'\u001B[39m\u001B[38;5;124mid\u001B[39m\u001B[38;5;124m'\u001B[39m], results[\u001B[38;5;124m'\u001B[39m\u001B[38;5;124mitems\u001B[39m\u001B[38;5;124m'\u001B[39m])\n\u001B[0;32m----> 5\u001B[0m features \u001B[38;5;241m=\u001B[39m \u001B[43msp\u001B[49m\u001B[38;5;241;43m.\u001B[39;49m\u001B[43maudio_features\u001B[49m\u001B[43m(\u001B[49m\u001B[43msong_ids\u001B[49m\u001B[43m)\u001B[49m\n\u001B[1;32m      7\u001B[0m raw_data \u001B[38;5;241m=\u001B[39m [{\u001B[38;5;241m*\u001B[39m\u001B[38;5;241m*\u001B[39msong, \u001B[38;5;124m'\u001B[39m\u001B[38;5;124mfeatures\u001B[39m\u001B[38;5;124m'\u001B[39m: features} \u001B[38;5;28;01mfor\u001B[39;00m song, features \u001B[38;5;129;01min\u001B[39;00m \u001B[38;5;28mzip\u001B[39m(results[\u001B[38;5;124m'\u001B[39m\u001B[38;5;124mitems\u001B[39m\u001B[38;5;124m'\u001B[39m], features)]\n",
      "File \u001B[0;32m~/Projects/hslu/dspro/dspro1/venv/lib/python3.9/site-packages/spotipy/client.py:1753\u001B[0m, in \u001B[0;36mSpotify.audio_features\u001B[0;34m(self, tracks)\u001B[0m\n\u001B[1;32m   1751\u001B[0m \u001B[38;5;28;01melse\u001B[39;00m:\n\u001B[1;32m   1752\u001B[0m     tlist \u001B[38;5;241m=\u001B[39m [\u001B[38;5;28mself\u001B[39m\u001B[38;5;241m.\u001B[39m_get_id(\u001B[38;5;124m\"\u001B[39m\u001B[38;5;124mtrack\u001B[39m\u001B[38;5;124m\"\u001B[39m, t) \u001B[38;5;28;01mfor\u001B[39;00m t \u001B[38;5;129;01min\u001B[39;00m tracks]\n\u001B[0;32m-> 1753\u001B[0m     results \u001B[38;5;241m=\u001B[39m \u001B[38;5;28;43mself\u001B[39;49m\u001B[38;5;241;43m.\u001B[39;49m\u001B[43m_get\u001B[49m\u001B[43m(\u001B[49m\u001B[38;5;124;43m\"\u001B[39;49m\u001B[38;5;124;43maudio-features/?ids=\u001B[39;49m\u001B[38;5;124;43m\"\u001B[39;49m\u001B[43m \u001B[49m\u001B[38;5;241;43m+\u001B[39;49m\u001B[43m \u001B[49m\u001B[38;5;124;43m\"\u001B[39;49m\u001B[38;5;124;43m,\u001B[39;49m\u001B[38;5;124;43m\"\u001B[39;49m\u001B[38;5;241;43m.\u001B[39;49m\u001B[43mjoin\u001B[49m\u001B[43m(\u001B[49m\u001B[43mtlist\u001B[49m\u001B[43m)\u001B[49m\u001B[43m)\u001B[49m\n\u001B[1;32m   1754\u001B[0m \u001B[38;5;66;03m# the response has changed, look for the new style first, and if\u001B[39;00m\n\u001B[1;32m   1755\u001B[0m \u001B[38;5;66;03m# it's not there, fallback on the old style\u001B[39;00m\n\u001B[1;32m   1756\u001B[0m \u001B[38;5;28;01mif\u001B[39;00m \u001B[38;5;124m\"\u001B[39m\u001B[38;5;124maudio_features\u001B[39m\u001B[38;5;124m\"\u001B[39m \u001B[38;5;129;01min\u001B[39;00m results:\n",
      "File \u001B[0;32m~/Projects/hslu/dspro/dspro1/venv/lib/python3.9/site-packages/spotipy/client.py:327\u001B[0m, in \u001B[0;36mSpotify._get\u001B[0;34m(self, url, args, payload, **kwargs)\u001B[0m\n\u001B[1;32m    324\u001B[0m \u001B[38;5;28;01mif\u001B[39;00m args:\n\u001B[1;32m    325\u001B[0m     kwargs\u001B[38;5;241m.\u001B[39mupdate(args)\n\u001B[0;32m--> 327\u001B[0m \u001B[38;5;28;01mreturn\u001B[39;00m \u001B[38;5;28;43mself\u001B[39;49m\u001B[38;5;241;43m.\u001B[39;49m\u001B[43m_internal_call\u001B[49m\u001B[43m(\u001B[49m\u001B[38;5;124;43m\"\u001B[39;49m\u001B[38;5;124;43mGET\u001B[39;49m\u001B[38;5;124;43m\"\u001B[39;49m\u001B[43m,\u001B[49m\u001B[43m \u001B[49m\u001B[43murl\u001B[49m\u001B[43m,\u001B[49m\u001B[43m \u001B[49m\u001B[43mpayload\u001B[49m\u001B[43m,\u001B[49m\u001B[43m \u001B[49m\u001B[43mkwargs\u001B[49m\u001B[43m)\u001B[49m\n",
      "File \u001B[0;32m~/Projects/hslu/dspro/dspro1/venv/lib/python3.9/site-packages/spotipy/client.py:297\u001B[0m, in \u001B[0;36mSpotify._internal_call\u001B[0;34m(self, method, url, payload, params)\u001B[0m\n\u001B[1;32m    290\u001B[0m         reason \u001B[38;5;241m=\u001B[39m \u001B[38;5;28;01mNone\u001B[39;00m\n\u001B[1;32m    292\u001B[0m     logger\u001B[38;5;241m.\u001B[39merror(\n\u001B[1;32m    293\u001B[0m         \u001B[38;5;124m'\u001B[39m\u001B[38;5;124mHTTP Error for \u001B[39m\u001B[38;5;132;01m%s\u001B[39;00m\u001B[38;5;124m to \u001B[39m\u001B[38;5;132;01m%s\u001B[39;00m\u001B[38;5;124m with Params: \u001B[39m\u001B[38;5;132;01m%s\u001B[39;00m\u001B[38;5;124m returned \u001B[39m\u001B[38;5;132;01m%s\u001B[39;00m\u001B[38;5;124m due to \u001B[39m\u001B[38;5;132;01m%s\u001B[39;00m\u001B[38;5;124m'\u001B[39m,\n\u001B[1;32m    294\u001B[0m         method, url, args\u001B[38;5;241m.\u001B[39mget(\u001B[38;5;124m\"\u001B[39m\u001B[38;5;124mparams\u001B[39m\u001B[38;5;124m\"\u001B[39m), response\u001B[38;5;241m.\u001B[39mstatus_code, msg\n\u001B[1;32m    295\u001B[0m     )\n\u001B[0;32m--> 297\u001B[0m     \u001B[38;5;28;01mraise\u001B[39;00m SpotifyException(\n\u001B[1;32m    298\u001B[0m         response\u001B[38;5;241m.\u001B[39mstatus_code,\n\u001B[1;32m    299\u001B[0m         \u001B[38;5;241m-\u001B[39m\u001B[38;5;241m1\u001B[39m,\n\u001B[1;32m    300\u001B[0m         \u001B[38;5;124mf\u001B[39m\u001B[38;5;124m\"\u001B[39m\u001B[38;5;132;01m{\u001B[39;00mresponse\u001B[38;5;241m.\u001B[39murl\u001B[38;5;132;01m}\u001B[39;00m\u001B[38;5;124m:\u001B[39m\u001B[38;5;130;01m\\n\u001B[39;00m\u001B[38;5;124m \u001B[39m\u001B[38;5;132;01m{\u001B[39;00mmsg\u001B[38;5;132;01m}\u001B[39;00m\u001B[38;5;124m\"\u001B[39m,\n\u001B[1;32m    301\u001B[0m         reason\u001B[38;5;241m=\u001B[39mreason,\n\u001B[1;32m    302\u001B[0m         headers\u001B[38;5;241m=\u001B[39mresponse\u001B[38;5;241m.\u001B[39mheaders,\n\u001B[1;32m    303\u001B[0m     )\n\u001B[1;32m    304\u001B[0m \u001B[38;5;28;01mexcept\u001B[39;00m requests\u001B[38;5;241m.\u001B[39mexceptions\u001B[38;5;241m.\u001B[39mRetryError \u001B[38;5;28;01mas\u001B[39;00m retry_error:\n\u001B[1;32m    305\u001B[0m     request \u001B[38;5;241m=\u001B[39m retry_error\u001B[38;5;241m.\u001B[39mrequest\n",
      "\u001B[0;31mSpotifyException\u001B[0m: http status: 403, code:-1 - https://api.spotify.com/v1/audio-features/?ids=1uvyZBs4IZYRebHIB1747m,3S2R0EVwBSAVMd5UMgKTL0,2374M0fQpWi3dLnB54qaLX,4RvWPyQ5RL0ao9LPZeSouE,2MuWTIM3b0YEAskbeeFE1i,2fuCquhmrzHpu5xcA1ci9x,2WfaOiMkCvy7F5fcp2zZ8L,37ZJ0p5Jm13JPevGcx4SkF,77NNZQSqzLNqh2A9JhLRkg,4N0fzRX3T7QkOecp3pkWpp,4CeeEOM32jQcH3eN9Q2dGj,6MdqqkQ8sSC0WB4i8PyRuQ,4r8lRYnoOGdEi6YyI5OC1o,57bgtoPSgt236HzfBOd8kj,47BBI51FKFwOMlIiX6m8ya,0hrBpAOgrt8RXigk83LLNE,1Jaah2tmN9Hv81A87KZ1MU,1qPbGZqppFwLwcBC1JQ6Vr,1WYEDcS7WGjv0rG7rmMX3o,7H6ev70Weq6DdpZyyTmUXk,1QV6tiMFM6fSOKOGLMHYYg,3DQVgcqaP3iSMbaKsd57l5,5VGlqQANWDKJFl0MBG3sg2,0KQx6HOpJueiSkztcS0r7D,3TCauNPqFiniaYHBvEVoHG,7IdFdRlCjUi6kkhbPoRfnw,1vxw6aYJls2oq3gW0DujAo,1ixbwbeBi5ufN4noUKmW5a,3dPQuX8Gs42Y7b454ybpMR,1L5tZi0izXsi5Kk5OJf4W0,4OSBTYWVwsQhGLF9NHvIbR,3iVcZ5G6tvkXZkZKlMpIUs,3DK6m7It6Pw857FcQftMds,3e9HZxeyfWwjeyPAMmWSSQ,58q2HKrzhC3ozto2nDdN4z,4SDWMFvYJKtK1QPhIOeZhd,0wwPcA6wtMf6HUMpIRdeP7,0F7FA14euOIX8KcbEturGH,2VxeLyX666F8uXCJ0dZF8B,2Foc5Q5nqNiosCNqttzHof,3z8h0TU7ReDPLIbEnYhWZb,4UDmDIqJIbrW0hMBQMFOsM,5CQ30WqJwcep0pYcV4AMNc,0GjEhVFGZW8afUYGChu3Rr,0ofHAoxe9vBkTCp2UQIavz,4xHWH1jwV5j4mBYRhxPbwZ,40riOy7x9W7GXjyGp4pjAv,4N0TP4Rmj6QQezWV88ARNJ,2grjqo0Frpf2okIBiifQKs,2SpEHTbUuebeLkgs9QB7Ue,2IJftBfq7pJ43tfnOR0RB3,0DfG1ltJnZyq4Tx3ZLL7ZU,5vZ4IeUenK2cHub2d7yfWk,3NIDOSThELMihLSOMZcL4k,5LH1z4ma2TN2aVeESXthj9,228BxWXUYQPJrJYHDLOHkj,6mICuAdrwEjh6Y6lroV2Kg,5w9c2J52mkdntKOmRLeM2m,4sCSUQnWQ6HJsOMjfPicdn,3i3fYhl23l7exbIj9oAJPN,1MqzIgGsHP4cNjPboevsfq,34dx8DACTJsc3rsJdaEIQw,6RU0eIObzPf9HxYYV2hh5G,2d8D7uk3tbAThjRkdfrx9c,6IRA4KOVbtiGiTdYoEThJN,7sXTcibuNYugjjYNfgf2kY,2S7RApTsKT0CtYojYq2cKz,776AftMmFFAWUIEAb3lHhw,5zyrEv4F3FaLECI8TOKpFM,0jLeyuu6mtsD384054xLah,1vePC77pxGSUXLErDHuGtH,5Tbpp3OLLClPJF8t1DmrFD,5n8Aro6j1bEGIy7Tpo7FV7,7MJQ9Nfxzh8LPZ9e9u68Fq,7iL6o9tox1zgHpKUfh9vuC,0cGG2EouYCEEC3xfa0tDFV,39lSeqnyjZJejRuaREfyLL,4OdhffpvG3HxDJMxYOKh97,0qi4b1l0eT3jpzeNHeFXDT,3L7RtEcu1Hw3OXrpnthngx,7ACxUo21jtTHzy7ZEV56vU,78lgmZwycJ3nzsdgmPPGNx,5sICkBXVmaCQk5aISGR3x1,3CIOopLwvyMvXk97ZEksKO,54yLLvpezvPO1lA3GspiZj,0WtDGnWL2KrMCk0mI1Gpwz,0FZvjrHpAmLKj574M4VwrF,3NWTRZ0A8xKlBP1qgNftql,6g0Orsxv6glTJCt4cHsRsQ,4pAl7FkDMNBsjykPXo91B3,2YWjW3wwQIBLNhxWKBQd16,7BKLCZ1jbUBVqRi2FVlTVw,5knuzwU65gJK7IF5yJsuaW,0TDLuuLlV54CkRRUOahJb4,0nrRP2bk19rLc0orkWPQk2,1hwJKpe0BPUsq6UUrwBWTw,6md4w95cnKaW64JyEQ3A0L,60a0Rd6pjrkxjPbaKzXjfq,6qa36OkEeQqGaWlOcpjlGD,3Fcfwhm8oRrBvBZ8KGhtea:\n None, reason: None"
     ]
    }
   ],
   "execution_count": 4
  },
  {
   "metadata": {},
   "cell_type": "markdown",
   "source": "Then extract all interesting / relevant data",
   "id": "a4d7ab6d2532158"
  },
  {
   "metadata": {
    "ExecuteTime": {
     "end_time": "2024-11-08T13:32:32.826428Z",
     "start_time": "2024-11-08T13:32:32.761751Z"
    }
   },
   "cell_type": "code",
   "source": [
    "df = pd.DataFrame(columns=['id', 'name', 'artist', 'album', 'release_year', 'explicit', 'popularity', 'duration', 'acousticness', 'danceability', 'energy', 'instrumentalness', 'key', 'liveness', 'loudness', 'mode', 'speechiness', 'tempo', 'time_signature', 'valence'])\n",
    "\n",
    "for idx, item in enumerate(raw_data):\n",
    "    track = item['track']\n",
    "    features = item['features']\n",
    "\n",
    "    df.loc[idx] = [\n",
    "        track['id'],                             # string\n",
    "        track['name'],                           # string\n",
    "        track['artists'][0]['name'],             # string\n",
    "        track['album']['name'],                  # string\n",
    "        int(track['album']['release_date'][:4]), # integer         year\n",
    "        int(track['explicit']),                  # integer  0|1    (boolean)\n",
    "        track['popularity'],                     # integer  0-100  % (current trendiness)\n",
    "        track['duration_ms'],                    # integer\n",
    "        features['acousticness'],                # float    0-1    probability (whether the track uses instrumental rather than electric sounds)\n",
    "        features['danceability'],                # float    0-1    probability (suitability for dancing)\n",
    "        features['energy'],                      # float    0-1    % (intensity / activity)\n",
    "        features['instrumentalness'],            # float    0-1    probability (whether the track contains no vocals)\n",
    "        features['key'],                         # integer  -1-11  (-1: none identified, 0: C, ...)\n",
    "        features['liveness'],                    # float    0-1    probability (whether the song is a live performance)\n",
    "        features['loudness'],                    # float           dB\n",
    "        features['mode'],                        # integer  0|1    (0: minor or 1: major)\n",
    "        features['speechiness'],                 # float    0-1    % (how many words are spoken rather than sang)\n",
    "        features['tempo'],                       # float           BPM\n",
    "        features['time_signature'],              # integer  3-7    time signature (x/4, example: 3/4)\n",
    "        features['valence'],                     # float    0-1    spectrum (0: sad / angry, 1: happy)\n",
    "    ]"
   ],
   "id": "ede7ed9501aa7593",
   "outputs": [],
   "execution_count": 4
  },
  {
   "metadata": {},
   "cell_type": "markdown",
   "source": "To analyze all audio features we visualize all fields with information about the tracks audio",
   "id": "1660b413e72c56be"
  },
  {
   "metadata": {
    "ExecuteTime": {
     "end_time": "2024-11-08T13:32:35.064398Z",
     "start_time": "2024-11-08T13:32:34.351356Z"
    }
   },
   "cell_type": "code",
   "source": [
    "columns = [\n",
    "    'release_year',\n",
    "    'explicit',\n",
    "    'popularity',\n",
    "    'duration',\n",
    "    'acousticness',\n",
    "    'danceability',\n",
    "    'energy',\n",
    "    'instrumentalness',\n",
    "    'key',\n",
    "    'liveness',\n",
    "    'loudness',\n",
    "    'mode',\n",
    "    'speechiness',\n",
    "    'tempo',\n",
    "    'time_signature',\n",
    "    'valence',\n",
    "]\n",
    "\n",
    "x_ranges = [\n",
    "    [],\n",
    "    [0, 1],\n",
    "    [0, 100],\n",
    "    [],\n",
    "    [0, 1],\n",
    "    [0, 1],\n",
    "    [0, 1],\n",
    "    [0, 1],\n",
    "    [-1, 11],\n",
    "    [0, 1],\n",
    "    [],\n",
    "    [0, 1],\n",
    "    [0, 1],\n",
    "    [],\n",
    "    [3, 7],\n",
    "    [0, 1],\n",
    "]\n",
    "\n",
    "fig, axes = plt.subplots(4, 4, figsize=(10, 10))\n",
    "plt.subplots_adjust(hspace=0.4, wspace=0.4)\n",
    "\n",
    "for i, column in enumerate(columns):\n",
    "    ax = axes[i // 4, i % 4]\n",
    "\n",
    "    data = df[column]\n",
    "    x_range = x_ranges[i]\n",
    "    \n",
    "    data_range = None\n",
    "    if len(x_range) == 2:\n",
    "        data_range = [x_range[0], x_range[1]]\n",
    "\n",
    "    sns.histplot(data, bins=15, ax=ax, binrange=data_range)\n",
    "    ax.set_title(column)\n",
    "    ax.set_xlabel('')\n",
    "    ax.set_ylabel('')\n",
    "\n",
    "#axes[3, 2].axis('off')\n",
    "#axes[3, 3].axis('off')\n",
    "\n",
    "plt.suptitle('Spotify song data of Test-Set')\n",
    "\n",
    "plt.show()"
   ],
   "id": "41a624091b84db0b",
   "outputs": [
    {
     "data": {
      "text/plain": [
       "<Figure size 1000x1000 with 16 Axes>"
      ],
      "image/png": "[encoded data removed]"
     },
     "metadata": {},
     "output_type": "display_data"
    }
   ],
   "execution_count": 5
  },
  {
   "metadata": {},
   "cell_type": "markdown",
   "source": [
    "# Which features do we need?\n",
    "\n",
    "## Popularity\n",
    "- **<span color='#e74c3c'>irrelevant</span>**\n",
    "- **<span color='#e67e22'>probably irrelevant</span>**\n",
    "- **<span color='#f1c40f'>maybe important</span>**\n",
    "- **<span color='#2ecc71'>important</span>**\n",
    "\n",
    "## Instrumentalness\n",
    "- **<span color='#e67e22'>probably irrelevant</span>**"
   ],
   "id": "f97373927437936a"
  },
  {
   "metadata": {
    "ExecuteTime": {
     "end_time": "2024-11-08T13:32:38.381073Z",
     "start_time": "2024-11-08T13:32:38.375559Z"
    }
   },
   "cell_type": "code",
   "source": [
    "purged = df.drop([\n",
    "    'popularity',\n",
    "    'duration',\n",
    "    'instrumentalness',\n",
    "    'liveness',\n",
    "    'time_signature',\n",
    "], axis='columns')\n",
    "\n",
    "print(purged.columns)"
   ],
   "id": "e8174a6e059275ec",
   "outputs": [
    {
     "name": "stdout",
     "output_type": "stream",
     "text": [
      "Index(['id', 'name', 'artist', 'album', 'release_year', 'explicit',\n",
      "       'acousticness', 'danceability', 'energy', 'key', 'loudness', 'mode',\n",
      "       'speechiness', 'tempo', 'valence'],\n",
      "      dtype='object')\n"
     ]
    }
   ],
   "execution_count": 6
  },
  {
   "metadata": {
    "ExecuteTime": {
     "end_time": "2024-11-08T13:32:39.734189Z",
     "start_time": "2024-11-08T13:32:39.725916Z"
    }
   },
   "cell_type": "code",
   "source": [
    "scaler = MinMaxScaler()\n",
    "\n",
    "normalization_columns = ['release_year', 'key', 'loudness', 'tempo']\n",
    "for column in normalization_columns:\n",
    "    purged[column] = scaler.fit_transform(purged[[column]])"
   ],
   "id": "59bce9e1aa0753f2",
   "outputs": [],
   "execution_count": 7
  },
  {
   "metadata": {
    "ExecuteTime": {
     "end_time": "2024-11-08T13:32:40.539685Z",
     "start_time": "2024-11-08T13:32:40.535204Z"
    }
   },
   "cell_type": "code",
   "source": [
    "ids = purged['id']\n",
    "names = purged['name'] + ' - ' + purged['artist']\n",
    "\n",
    "purged = purged.drop([\n",
    "    'id',\n",
    "    'name',\n",
    "    'artist',\n",
    "    'album',\n",
    "], axis='columns')"
   ],
   "id": "bb66057a8365ed02",
   "outputs": [],
   "execution_count": 8
  },
  {
   "metadata": {
    "ExecuteTime": {
     "end_time": "2024-11-11T11:29:32.397816Z",
     "start_time": "2024-11-11T11:29:32.382591Z"
    }
   },
   "cell_type": "code",
   "source": [
    "pca = PCA(n_components=2)\n",
    "principal_components = pca.fit_transform(purged)\n",
    "\n",
    "pca_df = pd.DataFrame(principal_components, columns=['PC1', 'PC2'])"
   ],
   "id": "caaac4f472aa8039",
   "outputs": [],
   "execution_count": 11
  },
  {
   "metadata": {
    "ExecuteTime": {
     "end_time": "2024-11-15T09:51:56.426990Z",
     "start_time": "2024-11-15T09:51:56.361303Z"
    }
   },
   "cell_type": "code",
   "source": [
    "fig = px.scatter(pca_df, x='PC1', y='PC2')\n",
    "\n",
    "fig.update_traces(\n",
    "    text=names,\n",
    "    hovertemplate='%{text}',\n",
    "    mode='markers'\n",
    ")\n",
    "\n",
    "fig.show()"
   ],
   "id": "ea023444b72cb88c",
   "outputs": [
    {
     "data": {
      "application/vnd.plotly.v1+json": {
       "data": [
        {
         "hovertemplate": "%{text}",
         "legendgroup": "",
         "marker": {
          "color": "#636efa",
          "symbol": "circle"
         },
         "mode": "markers",
         "name": "",
         "orientation": "v",
         "showlegend": false,
         "x": [
          0.44583834730690636,
          0.35962637226692484,
          0.47573156988260806,
          0.5004644816737451,
          -0.3962784308160825,
          0.5826720691891054,
          -0.4467622628475841,
          0.6170779982284333,
          0.5140878713428072,
          0.5229700532249724,
          0.5849234575674046,
          -0.4125293782989264,
          -0.45723260754710954,
          0.5399794891864215,
          -0.48397256615381495,
          -0.4290384659706484,
          0.48121731405839707,
          0.6053943915457135,
          0.4605683570122154,
          -0.44203470977333126,
          0.4818328480017019,
          -0.48893450601422467,
          0.5809296164203938,
          -0.5755923883055377,
          -0.4966181329145875,
          -0.7304692655679762,
          0.40926483277965403,
          0.5703559688538015,
          -0.439861901624636,
          0.5311290134771625,
          0.39440381188169843,
          0.18107491593616967,
          -0.6546462433589085,
          0.28362282758701374,
          -0.7093752632723954,
          0.3991994531167732,
          0.5175643547920814,
          0.5192133732427344,
          0.3933217241943441,
          -0.48776765902214236,
          -0.36536187555341654,
          -0.45883488728672717,
          -0.4652110086486003,
          0.46613810699383906,
          0.641340179571028,
          0.5072184442428522,
          0.6333047133729507,
          0.6415184455568641,
          0.48297370366486214,
          -0.3077025262562732,
          0.5404869912564593,
          -0.33754463851295197,
          -0.38846825402866425,
          -0.502582581758741,
          0.5267778143220818,
          0.5510653544620302,
          -0.5663130312574125,
          -0.5771200247355912,
          0.5702761658246844,
          -0.4317801426652587,
          -0.49082908213180027,
          -0.5768772891008096,
          -0.47403173878119254,
          -0.494038699555864,
          -0.3845820392620963,
          0.6213878360190003,
          -0.4809506667060142,
          -0.7159219333732544,
          0.4224338940080022,
          -0.4903614687215367,
          0.5389456226734054,
          -0.7916109786541449,
          -0.717376608611015,
          0.31049045509001816,
          -0.7448470774162926,
          -0.28460979791424285,
          0.6336384062344081,
          0.6338508624446683,
          0.643363012390836,
          -0.4692582873107629,
          0.38608179274622545,
          0.4609543029703043,
          -0.4309421089354051,
          0.5274768156119285,
          -0.5117827400428673,
          0.3471031759395427,
          -0.5658204186623224,
          -0.7701569400612679,
          -0.7116007083726935,
          -0.7209329560024288,
          -0.552649741738274,
          0.3773559886820901,
          -0.5762148665452919,
          -0.39251474490812177,
          0.5243398183316057,
          0.2425790375970327,
          0.5603893290948573,
          -0.423733904786629,
          0.5252895636076169,
          -0.4455667956925101
         ],
         "xaxis": "x",
         "y": [
          -0.3055533111490791,
          -0.02590563498742619,
          -0.46958100822378895,
          -0.28779380907519475,
          -0.3290104555318934,
          -0.15408462563425637,
          -0.3925604366387453,
          0.011685282405547906,
          1.2299507960920097E-4,
          0.13943600603359918,
          0.03853248081386589,
          -0.12839483578856595,
          -0.20647142928541504,
          -0.004339121294925025,
          -0.241727585111861,
          -0.24162999876665903,
          -0.015011166716617405,
          0.07932252165704402,
          -0.013142580722563784,
          -0.17523590605193828,
          0.13551358287665258,
          -0.1376957494097194,
          0.2231666963567344,
          -0.36558601403005575,
          -0.2304259399866526,
          0.6250952552571958,
          0.015080398113563038,
          0.19388804157601972,
          -0.11925992431201597,
          0.17485225387570874,
          0.05732017082956962,
          0.8942565875530136,
          0.7457181874955319,
          1.0216615836468574,
          0.7906032797725834,
          0.029790070070846532,
          0.24563656872665315,
          0.3189461943888029,
          0.06511990294025034,
          -0.12527932708050118,
          0.0062612554049019595,
          -0.7098062403092313,
          -0.734991123544715,
          -0.3683112575234347,
          -0.13929341421872768,
          -0.49797872143022825,
          -0.173048405308832,
          -0.2990273097126425,
          -0.3190673468609282,
          -0.5013155638236165,
          -0.1995856404238739,
          -0.3537381388375997,
          0.1268466941580683,
          -0.020821812645392873,
          0.1621593547952053,
          0.11443286772577856,
          -0.07640796068203339,
          -0.038655233018995885,
          0.21775744134949634,
          -0.14096363383040822,
          -0.10734410480841884,
          -0.14415754157635216,
          -0.615077163730153,
          -0.2775727832876447,
          -0.27552881394738116,
          -0.16006674441047633,
          -0.5707628768489365,
          0.8312971958369128,
          -0.34120995168284274,
          0.07017725798029846,
          0.09110353606064671,
          0.41253524982898143,
          0.39151158540684344,
          1.090427600799433,
          0.6196290095406045,
          -0.3461368142172451,
          -0.048862479156473834,
          -0.16903908516280997,
          -0.15019295683822653,
          -0.5062641855856275,
          0.09530011987428838,
          -0.4375153597717742,
          -0.31183245659278397,
          -0.11574627584363512,
          -0.49164934521386644,
          0.9473286373270182,
          -0.3049692339092864,
          0.5580138162424253,
          0.7417460231668989,
          0.7069257747755086,
          -0.014833993235629242,
          0.026880050653973843,
          -0.1619966125814429,
          0.10056485462463348,
          0.20639293263232864,
          0.8005330680400444,
          0.14800409161044012,
          -0.12095172496077533,
          0.0659154706296617,
          -0.12408078260372545
         ],
         "yaxis": "y",
         "type": "scatter",
         "text": [
          "Purple Rain - Prince",
          "Thriller - Michael Jackson",
          "Africa - TOTO",
          "Everybody Wants To Rule The World - Tears For Fears",
          "Master Of Puppets - Metallica",
          "Under Pressure - Remastered 2011 - Queen",
          "Take on Me - a-ha",
          "Livin' On A Prayer - Bon Jovi",
          "Don't Stop Believin' - Journey",
          "With Or Without You - U2",
          "Smells Like Teen Spirit - Nirvana",
          "No Diggity - Blackstreet",
          "Bye Bye Bye - *NSYNC",
          "Thunderstruck - AC/DC",
          "I Want It That Way - Backstreet Boys",
          "The Sign - Ace of Base",
          "Torn - Natalie Imbruglia",
          "Wonderwall - Oasis",
          "Bitter Sweet Symphony - The Verve",
          "Say My Name - Destiny's Child",
          "Poker Face - Lady Gaga",
          "I Bet You Look Good On The Dancefloor - Arctic Monkeys",
          "Use Somebody - Kings of Leon",
          "Fallin' - Alicia Keys",
          "Beautiful - Christina Aguilera",
          "99 Problems - JAY-Z",
          "Crazy - Gnarls Barkley",
          "Paper Planes - M.I.A.",
          "Seven Nation Army - The White Stripes",
          "Rehab - Amy Winehouse",
          "Rolling in the Deep - Adele",
          "Alright - Kendrick Lamar",
          "Runaway - Kanye West",
          "thank u, next - Ariana Grande",
          "I Like It - Cardi B",
          "Royals - Lorde",
          "Hotline Bling - Drake",
          "Old Town Road - Lil Nas X",
          "Shallow - Lady Gaga",
          "Get Lucky (Radio Edit) [feat. Pharrell Williams and Nile Rodgers] - Daft Punk",
          "Bohemian Rhapsody - Queen",
          "Stayin' Alive - Bee Gees",
          "Stairway to Heaven - Remaster - Led Zeppelin",
          "Dancing Queen - ABBA",
          "Dreams - 2004 Remaster - Fleetwood Mac",
          "Time - 2011 Remastered Version - Pink Floyd",
          "Hotel California - 2013 Remaster - Eagles",
          "Superstition - Stevie Wonder",
          "September - Earth, Wind & Fire",
          "Jolene - Dolly Parton",
          "99 Luftballons - Nena",
          "Rock Me Amadeus - Falco",
          "Radio - Rammstein",
          "Hurra die Welt geht unter - K.I.Z",
          "Ding - Seeed",
          "Gasolina - Daddy Yankee",
          "Chantaje (feat. Maluma) - Shakira",
          "Con Calma - Daddy Yankee",
          "Danza Kuduro - Don Omar",
          "Ahora Quien - Marc Anthony",
          "Tourner Dans Le Vide - Indila",
          "Papaoutai - Stromae",
          "Toi jamais - Jeane Manson",
          "Voyage voyage - Desireless",
          "Ne me quitte pas - Jacques Brel",
          "Felicità - Al Bano And Romina Power",
          "L'italiano - Toto Cutugno",
          "ZITTI E BUONI - Måneskin",
          "Nel Blu Dipinto Di Blu - Domenico Modugno",
          "Ciao Ciao - La rappresentante di lista",
          "The Message - Grandmaster Flash",
          "Nuthin' But A \"G\" Thang - Dr. Dre",
          "Fuck Tha Police - N.W.A.",
          "Lose Yourself - Eminem",
          "In Da Club - 50 Cent",
          "Tainted Love - Soft Cell",
          "Hungry Like the Wolf - 2009 Remaster - Duran Duran",
          "I Ran (So Far Away) - A Flock Of Seagulls",
          "Just Can't Get Enough - Depeche Mode",
          "Don't You Want Me - The Human League",
          "Crazy Train - Ozzy Osbourne",
          "Immigrant Song - Remaster - Led Zeppelin",
          "Enter Sandman - Metallica",
          "Ace of Spades - Motörhead",
          "Holy Diver - Dio",
          "Redbone - Childish Gambino",
          "Cater 2 U - Destiny's Child",
          "Special Affair - The Internet",
          "Formation - Beyoncé",
          "Needed Me - Rihanna",
          "Lean On (feat. MØ & DJ Snake) - Major Lazer",
          "Closer - The Chainsmokers",
          "Rockabye (feat. Sean Paul & Anne-Marie) - Clean Bandit",
          "Titanium (feat. Sia) - David Guetta",
          "Wake Me Up - Avicii",
          "Boulevard of Broken Dreams - Green Day",
          "Somebody That I Used To Know - Gotye",
          "In the End - Linkin Park",
          "Sunday Bloody Sunday - U2",
          "Viva La Vida - Coldplay"
         ]
        }
       ],
       "layout": {
        "template": {
         "data": {
          "histogram2dcontour": [
           {
            "type": "histogram2dcontour",
            "colorbar": {
             "outlinewidth": 0,
             "ticks": ""
            },
            "colorscale": [
             [
              0.0,
              "#0d0887"
             ],
             [
              0.1111111111111111,
              "#46039f"
             ],
             [
              0.2222222222222222,
              "#7201a8"
             ],
             [
              0.3333333333333333,
              "#9c179e"
             ],
             [
              0.4444444444444444,
              "#bd3786"
             ],
             [
              0.5555555555555556,
              "#d8576b"
             ],
             [
              0.6666666666666666,
              "#ed7953"
             ],
             [
              0.7777777777777778,
              "#fb9f3a"
             ],
             [
              0.8888888888888888,
              "#fdca26"
             ],
             [
              1.0,
              "#f0f921"
             ]
            ]
           }
          ],
          "choropleth": [
           {
            "type": "choropleth",
            "colorbar": {
             "outlinewidth": 0,
             "ticks": ""
            }
           }
          ],
          "histogram2d": [
           {
            "type": "histogram2d",
            "colorbar": {
             "outlinewidth": 0,
             "ticks": ""
            },
            "colorscale": [
             [
              0.0,
              "#0d0887"
             ],
             [
              0.1111111111111111,
              "#46039f"
             ],
             [
              0.2222222222222222,
              "#7201a8"
             ],
             [
              0.3333333333333333,
              "#9c179e"
             ],
             [
              0.4444444444444444,
              "#bd3786"
             ],
             [
              0.5555555555555556,
              "#d8576b"
             ],
             [
              0.6666666666666666,
              "#ed7953"
             ],
             [
              0.7777777777777778,
              "#fb9f3a"
             ],
             [
              0.8888888888888888,
              "#fdca26"
             ],
             [
              1.0,
              "#f0f921"
             ]
            ]
           }
          ],
          "heatmap": [
           {
            "type": "heatmap",
            "colorbar": {
             "outlinewidth": 0,
             "ticks": ""
            },
            "colorscale": [
             [
              0.0,
              "#0d0887"
             ],
             [
              0.1111111111111111,
              "#46039f"
             ],
             [
              0.2222222222222222,
              "#7201a8"
             ],
             [
              0.3333333333333333,
              "#9c179e"
             ],
             [
              0.4444444444444444,
              "#bd3786"
             ],
             [
              0.5555555555555556,
              "#d8576b"
             ],
             [
              0.6666666666666666,
              "#ed7953"
             ],
             [
              0.7777777777777778,
              "#fb9f3a"
             ],
             [
              0.8888888888888888,
              "#fdca26"
             ],
             [
              1.0,
              "#f0f921"
             ]
            ]
           }
          ],
          "heatmapgl": [
           {
            "type": "heatmapgl",
            "colorbar": {
             "outlinewidth": 0,
             "ticks": ""
            },
            "colorscale": [
             [
              0.0,
              "#0d0887"
             ],
             [
              0.1111111111111111,
              "#46039f"
             ],
             [
              0.2222222222222222,
              "#7201a8"
             ],
             [
              0.3333333333333333,
              "#9c179e"
             ],
             [
              0.4444444444444444,
              "#bd3786"
             ],
             [
              0.5555555555555556,
              "#d8576b"
             ],
             [
              0.6666666666666666,
              "#ed7953"
             ],
             [
              0.7777777777777778,
              "#fb9f3a"
             ],
             [
              0.8888888888888888,
              "#fdca26"
             ],
             [
              1.0,
              "#f0f921"
             ]
            ]
           }
          ],
          "contourcarpet": [
           {
            "type": "contourcarpet",
            "colorbar": {
             "outlinewidth": 0,
             "ticks": ""
            }
           }
          ],
          "contour": [
           {
            "type": "contour",
            "colorbar": {
             "outlinewidth": 0,
             "ticks": ""
            },
            "colorscale": [
             [
              0.0,
              "#0d0887"
             ],
             [
              0.1111111111111111,
              "#46039f"
             ],
             [
              0.2222222222222222,
              "#7201a8"
             ],
             [
              0.3333333333333333,
              "#9c179e"
             ],
             [
              0.4444444444444444,
              "#bd3786"
             ],
             [
              0.5555555555555556,
              "#d8576b"
             ],
             [
              0.6666666666666666,
              "#ed7953"
             ],
             [
              0.7777777777777778,
              "#fb9f3a"
             ],
             [
              0.8888888888888888,
              "#fdca26"
             ],
             [
              1.0,
              "#f0f921"
             ]
            ]
           }
          ],
          "surface": [
           {
            "type": "surface",
            "colorbar": {
             "outlinewidth": 0,
             "ticks": ""
            },
            "colorscale": [
             [
              0.0,
              "#0d0887"
             ],
             [
              0.1111111111111111,
              "#46039f"
             ],
             [
              0.2222222222222222,
              "#7201a8"
             ],
             [
              0.3333333333333333,
              "#9c179e"
             ],
             [
              0.4444444444444444,
              "#bd3786"
             ],
             [
              0.5555555555555556,
              "#d8576b"
             ],
             [
              0.6666666666666666,
              "#ed7953"
             ],
             [
              0.7777777777777778,
              "#fb9f3a"
             ],
             [
              0.8888888888888888,
              "#fdca26"
             ],
             [
              1.0,
              "#f0f921"
             ]
            ]
           }
          ],
          "mesh3d": [
           {
            "type": "mesh3d",
            "colorbar": {
             "outlinewidth": 0,
             "ticks": ""
            }
           }
          ],
          "scatter": [
           {
            "marker": {
             "line": {
              "color": "#283442"
             }
            },
            "type": "scatter"
           }
          ],
          "parcoords": [
           {
            "type": "parcoords",
            "line": {
             "colorbar": {
              "outlinewidth": 0,
              "ticks": ""
             }
            }
           }
          ],
          "scatterpolargl": [
           {
            "type": "scatterpolargl",
            "marker": {
             "colorbar": {
              "outlinewidth": 0,
              "ticks": ""
             }
            }
           }
          ],
          "bar": [
           {
            "error_x": {
             "color": "#f2f5fa"
            },
            "error_y": {
             "color": "#f2f5fa"
            },
            "marker": {
             "line": {
              "color": "rgb(17,17,17)",
              "width": 0.5
             },
             "pattern": {
              "fillmode": "overlay",
              "size": 10,
              "solidity": 0.2
             }
            },
            "type": "bar"
           }
          ],
          "scattergeo": [
           {
            "type": "scattergeo",
            "marker": {
             "colorbar": {
              "outlinewidth": 0,
              "ticks": ""
             }
            }
           }
          ],
          "scatterpolar": [
           {
            "type": "scatterpolar",
            "marker": {
             "colorbar": {
              "outlinewidth": 0,
              "ticks": ""
             }
            }
           }
          ],
          "histogram": [
           {
            "marker": {
             "pattern": {
              "fillmode": "overlay",
              "size": 10,
              "solidity": 0.2
             }
            },
            "type": "histogram"
           }
          ],
          "scattergl": [
           {
            "marker": {
             "line": {
              "color": "#283442"
             }
            },
            "type": "scattergl"
           }
          ],
          "scatter3d": [
           {
            "type": "scatter3d",
            "line": {
             "colorbar": {
              "outlinewidth": 0,
              "ticks": ""
             }
            },
            "marker": {
             "colorbar": {
              "outlinewidth": 0,
              "ticks": ""
             }
            }
           }
          ],
          "scattermapbox": [
           {
            "type": "scattermapbox",
            "marker": {
             "colorbar": {
              "outlinewidth": 0,
              "ticks": ""
             }
            }
           }
          ],
          "scatterternary": [
           {
            "type": "scatterternary",
            "marker": {
             "colorbar": {
              "outlinewidth": 0,
              "ticks": ""
             }
            }
           }
          ],
          "scattercarpet": [
           {
            "type": "scattercarpet",
            "marker": {
             "colorbar": {
              "outlinewidth": 0,
              "ticks": ""
             }
            }
           }
          ],
          "carpet": [
           {
            "aaxis": {
             "endlinecolor": "#A2B1C6",
             "gridcolor": "#506784",
             "linecolor": "#506784",
             "minorgridcolor": "#506784",
             "startlinecolor": "#A2B1C6"
            },
            "baxis": {
             "endlinecolor": "#A2B1C6",
             "gridcolor": "#506784",
             "linecolor": "#506784",
             "minorgridcolor": "#506784",
             "startlinecolor": "#A2B1C6"
            },
            "type": "carpet"
           }
          ],
          "table": [
           {
            "cells": {
             "fill": {
              "color": "#506784"
             },
             "line": {
              "color": "rgb(17,17,17)"
             }
            },
            "header": {
             "fill": {
              "color": "#2a3f5f"
             },
             "line": {
              "color": "rgb(17,17,17)"
             }
            },
            "type": "table"
           }
          ],
          "barpolar": [
           {
            "marker": {
             "line": {
              "color": "rgb(17,17,17)",
              "width": 0.5
             },
             "pattern": {
              "fillmode": "overlay",
              "size": 10,
              "solidity": 0.2
             }
            },
            "type": "barpolar"
           }
          ],
          "pie": [
           {
            "automargin": true,
            "type": "pie"
           }
          ]
         },
         "layout": {
          "autotypenumbers": "strict",
          "colorway": [
           "#636efa",
           "#EF553B",
           "#00cc96",
           "#ab63fa",
           "#FFA15A",
           "#19d3f3",
           "#FF6692",
           "#B6E880",
           "#FF97FF",
           "#FECB52"
          ],
          "font": {
           "color": "#f2f5fa"
          },
          "hovermode": "closest",
          "hoverlabel": {
           "align": "left"
          },
          "paper_bgcolor": "rgb(17,17,17)",
          "plot_bgcolor": "rgb(17,17,17)",
          "polar": {
           "bgcolor": "rgb(17,17,17)",
           "angularaxis": {
            "gridcolor": "#506784",
            "linecolor": "#506784",
            "ticks": ""
           },
           "radialaxis": {
            "gridcolor": "#506784",
            "linecolor": "#506784",
            "ticks": ""
           }
          },
          "ternary": {
           "bgcolor": "rgb(17,17,17)",
           "aaxis": {
            "gridcolor": "#506784",
            "linecolor": "#506784",
            "ticks": ""
           },
           "baxis": {
            "gridcolor": "#506784",
            "linecolor": "#506784",
            "ticks": ""
           },
           "caxis": {
            "gridcolor": "#506784",
            "linecolor": "#506784",
            "ticks": ""
           }
          },
          "coloraxis": {
           "colorbar": {
            "outlinewidth": 0,
            "ticks": ""
           }
          },
          "colorscale": {
           "sequential": [
            [
             0.0,
             "#0d0887"
            ],
            [
             0.1111111111111111,
             "#46039f"
            ],
            [
             0.2222222222222222,
             "#7201a8"
            ],
            [
             0.3333333333333333,
             "#9c179e"
            ],
            [
             0.4444444444444444,
             "#bd3786"
            ],
            [
             0.5555555555555556,
             "#d8576b"
            ],
            [
             0.6666666666666666,
             "#ed7953"
            ],
            [
             0.7777777777777778,
             "#fb9f3a"
            ],
            [
             0.8888888888888888,
             "#fdca26"
            ],
            [
             1.0,
             "#f0f921"
            ]
           ],
           "sequentialminus": [
            [
             0.0,
             "#0d0887"
            ],
            [
             0.1111111111111111,
             "#46039f"
            ],
            [
             0.2222222222222222,
             "#7201a8"
            ],
            [
             0.3333333333333333,
             "#9c179e"
            ],
            [
             0.4444444444444444,
             "#bd3786"
            ],
            [
             0.5555555555555556,
             "#d8576b"
            ],
            [
             0.6666666666666666,
             "#ed7953"
            ],
            [
             0.7777777777777778,
             "#fb9f3a"
            ],
            [
             0.8888888888888888,
             "#fdca26"
            ],
            [
             1.0,
             "#f0f921"
            ]
           ],
           "diverging": [
            [
             0,
             "#8e0152"
            ],
            [
             0.1,
             "#c51b7d"
            ],
            [
             0.2,
             "#de77ae"
            ],
            [
             0.3,
             "#f1b6da"
            ],
            [
             0.4,
             "#fde0ef"
            ],
            [
             0.5,
             "#f7f7f7"
            ],
            [
             0.6,
             "#e6f5d0"
            ],
            [
             0.7,
             "#b8e186"
            ],
            [
             0.8,
             "#7fbc41"
            ],
            [
             0.9,
             "#4d9221"
            ],
            [
             1,
             "#276419"
            ]
           ]
          },
          "xaxis": {
           "gridcolor": "#283442",
           "linecolor": "#506784",
           "ticks": "",
           "title": {
            "standoff": 15
           },
           "zerolinecolor": "#283442",
           "automargin": true,
           "zerolinewidth": 2
          },
          "yaxis": {
           "gridcolor": "#283442",
           "linecolor": "#506784",
           "ticks": "",
           "title": {
            "standoff": 15
           },
           "zerolinecolor": "#283442",
           "automargin": true,
           "zerolinewidth": 2
          },
          "scene": {
           "xaxis": {
            "backgroundcolor": "rgb(17,17,17)",
            "gridcolor": "#506784",
            "linecolor": "#506784",
            "showbackground": true,
            "ticks": "",
            "zerolinecolor": "#C8D4E3",
            "gridwidth": 2
           },
           "yaxis": {
            "backgroundcolor": "rgb(17,17,17)",
            "gridcolor": "#506784",
            "linecolor": "#506784",
            "showbackground": true,
            "ticks": "",
            "zerolinecolor": "#C8D4E3",
            "gridwidth": 2
           },
           "zaxis": {
            "backgroundcolor": "rgb(17,17,17)",
            "gridcolor": "#506784",
            "linecolor": "#506784",
            "showbackground": true,
            "ticks": "",
            "zerolinecolor": "#C8D4E3",
            "gridwidth": 2
           }
          },
          "shapedefaults": {
           "line": {
            "color": "#f2f5fa"
           }
          },
          "annotationdefaults": {
           "arrowcolor": "#f2f5fa",
           "arrowhead": 0,
           "arrowwidth": 1
          },
          "geo": {
           "bgcolor": "rgb(17,17,17)",
           "landcolor": "rgb(17,17,17)",
           "subunitcolor": "#506784",
           "showland": true,
           "showlakes": true,
           "lakecolor": "rgb(17,17,17)"
          },
          "title": {
           "x": 0.05
          },
          "updatemenudefaults": {
           "bgcolor": "#506784",
           "borderwidth": 0
          },
          "sliderdefaults": {
           "bgcolor": "#C8D4E3",
           "borderwidth": 1,
           "bordercolor": "rgb(17,17,17)",
           "tickwidth": 0
          },
          "mapbox": {
           "style": "dark"
          }
         }
        },
        "xaxis": {
         "anchor": "y",
         "domain": [
          0.0,
          1.0
         ],
         "title": {
          "text": "PC1"
         }
        },
        "yaxis": {
         "anchor": "x",
         "domain": [
          0.0,
          1.0
         ],
         "title": {
          "text": "PC2"
         }
        },
        "legend": {
         "tracegroupgap": 0
        },
        "margin": {
         "t": 60
        }
       },
       "config": {
        "plotlyServerURL": "https://plot.ly"
       }
      },
      "text/html": [
       "<div>                            <div id=\"8eb3369d-b46c-480b-840a-cd3efc14c73b\" class=\"plotly-graph-div\" style=\"height:525px; width:100%;\"></div>            <script type=\"text/javascript\">                require([\"plotly\"], function(Plotly) {                    window.PLOTLYENV=window.PLOTLYENV || {};                                    if (document.getElementById(\"8eb3369d-b46c-480b-840a-cd3efc14c73b\")) {                    Plotly.newPlot(                        \"8eb3369d-b46c-480b-840a-cd3efc14c73b\",                        [{\"hovertemplate\":\"%{text}\",\"legendgroup\":\"\",\"marker\":{\"color\":\"#636efa\",\"symbol\":\"circle\"},\"mode\":\"markers\",\"name\":\"\",\"orientation\":\"v\",\"showlegend\":false,\"x\":[0.44583834730690636,0.35962637226692484,0.47573156988260806,0.5004644816737451,-0.3962784308160825,0.5826720691891054,-0.4467622628475841,0.6170779982284333,0.5140878713428072,0.5229700532249724,0.5849234575674046,-0.4125293782989264,-0.45723260754710954,0.5399794891864215,-0.48397256615381495,-0.4290384659706484,0.48121731405839707,0.6053943915457135,0.4605683570122154,-0.44203470977333126,0.4818328480017019,-0.48893450601422467,0.5809296164203938,-0.5755923883055377,-0.4966181329145875,-0.7304692655679762,0.40926483277965403,0.5703559688538015,-0.439861901624636,0.5311290134771625,0.39440381188169843,0.18107491593616967,-0.6546462433589085,0.28362282758701374,-0.7093752632723954,0.3991994531167732,0.5175643547920814,0.5192133732427344,0.3933217241943441,-0.48776765902214236,-0.36536187555341654,-0.45883488728672717,-0.4652110086486003,0.46613810699383906,0.641340179571028,0.5072184442428522,0.6333047133729507,0.6415184455568641,0.48297370366486214,-0.3077025262562732,0.5404869912564593,-0.33754463851295197,-0.38846825402866425,-0.502582581758741,0.5267778143220818,0.5510653544620302,-0.5663130312574125,-0.5771200247355912,0.5702761658246844,-0.4317801426652587,-0.49082908213180027,-0.5768772891008096,-0.47403173878119254,-0.494038699555864,-0.3845820392620963,0.6213878360190003,-0.4809506667060142,-0.7159219333732544,0.4224338940080022,-0.4903614687215367,0.5389456226734054,-0.7916109786541449,-0.717376608611015,0.31049045509001816,-0.7448470774162926,-0.28460979791424285,0.6336384062344081,0.6338508624446683,0.643363012390836,-0.4692582873107629,0.38608179274622545,0.4609543029703043,-0.4309421089354051,0.5274768156119285,-0.5117827400428673,0.3471031759395427,-0.5658204186623224,-0.7701569400612679,-0.7116007083726935,-0.7209329560024288,-0.552649741738274,0.3773559886820901,-0.5762148665452919,-0.39251474490812177,0.5243398183316057,0.2425790375970327,0.5603893290948573,-0.423733904786629,0.5252895636076169,-0.4455667956925101],\"xaxis\":\"x\",\"y\":[-0.3055533111490791,-0.02590563498742619,-0.46958100822378895,-0.28779380907519475,-0.3290104555318934,-0.15408462563425637,-0.3925604366387453,0.011685282405547906,0.00012299507960920097,0.13943600603359918,0.03853248081386589,-0.12839483578856595,-0.20647142928541504,-0.004339121294925025,-0.241727585111861,-0.24162999876665903,-0.015011166716617405,0.07932252165704402,-0.013142580722563784,-0.17523590605193828,0.13551358287665258,-0.1376957494097194,0.2231666963567344,-0.36558601403005575,-0.2304259399866526,0.6250952552571958,0.015080398113563038,0.19388804157601972,-0.11925992431201597,0.17485225387570874,0.05732017082956962,0.8942565875530136,0.7457181874955319,1.0216615836468574,0.7906032797725834,0.029790070070846532,0.24563656872665315,0.3189461943888029,0.06511990294025034,-0.12527932708050118,0.0062612554049019595,-0.7098062403092313,-0.734991123544715,-0.3683112575234347,-0.13929341421872768,-0.49797872143022825,-0.173048405308832,-0.2990273097126425,-0.3190673468609282,-0.5013155638236165,-0.1995856404238739,-0.3537381388375997,0.1268466941580683,-0.020821812645392873,0.1621593547952053,0.11443286772577856,-0.07640796068203339,-0.038655233018995885,0.21775744134949634,-0.14096363383040822,-0.10734410480841884,-0.14415754157635216,-0.615077163730153,-0.2775727832876447,-0.27552881394738116,-0.16006674441047633,-0.5707628768489365,0.8312971958369128,-0.34120995168284274,0.07017725798029846,0.09110353606064671,0.41253524982898143,0.39151158540684344,1.090427600799433,0.6196290095406045,-0.3461368142172451,-0.048862479156473834,-0.16903908516280997,-0.15019295683822653,-0.5062641855856275,0.09530011987428838,-0.4375153597717742,-0.31183245659278397,-0.11574627584363512,-0.49164934521386644,0.9473286373270182,-0.3049692339092864,0.5580138162424253,0.7417460231668989,0.7069257747755086,-0.014833993235629242,0.026880050653973843,-0.1619966125814429,0.10056485462463348,0.20639293263232864,0.8005330680400444,0.14800409161044012,-0.12095172496077533,0.0659154706296617,-0.12408078260372545],\"yaxis\":\"y\",\"type\":\"scatter\",\"text\":[\"Purple Rain - Prince\",\"Thriller - Michael Jackson\",\"Africa - TOTO\",\"Everybody Wants To Rule The World - Tears For Fears\",\"Master Of Puppets - Metallica\",\"Under Pressure - Remastered 2011 - Queen\",\"Take on Me - a-ha\",\"Livin' On A Prayer - Bon Jovi\",\"Don't Stop Believin' - Journey\",\"With Or Without You - U2\",\"Smells Like Teen Spirit - Nirvana\",\"No Diggity - Blackstreet\",\"Bye Bye Bye - *NSYNC\",\"Thunderstruck - AC\\u002fDC\",\"I Want It That Way - Backstreet Boys\",\"The Sign - Ace of Base\",\"Torn - Natalie Imbruglia\",\"Wonderwall - Oasis\",\"Bitter Sweet Symphony - The Verve\",\"Say My Name - Destiny's Child\",\"Poker Face - Lady Gaga\",\"I Bet You Look Good On The Dancefloor - Arctic Monkeys\",\"Use Somebody - Kings of Leon\",\"Fallin' - Alicia Keys\",\"Beautiful - Christina Aguilera\",\"99 Problems - JAY-Z\",\"Crazy - Gnarls Barkley\",\"Paper Planes - M.I.A.\",\"Seven Nation Army - The White Stripes\",\"Rehab - Amy Winehouse\",\"Rolling in the Deep - Adele\",\"Alright - Kendrick Lamar\",\"Runaway - Kanye West\",\"thank u, next - Ariana Grande\",\"I Like It - Cardi B\",\"Royals - Lorde\",\"Hotline Bling - Drake\",\"Old Town Road - Lil Nas X\",\"Shallow - Lady Gaga\",\"Get Lucky (Radio Edit) [feat. Pharrell Williams and Nile Rodgers] - Daft Punk\",\"Bohemian Rhapsody - Queen\",\"Stayin' Alive - Bee Gees\",\"Stairway to Heaven - Remaster - Led Zeppelin\",\"Dancing Queen - ABBA\",\"Dreams - 2004 Remaster - Fleetwood Mac\",\"Time - 2011 Remastered Version - Pink Floyd\",\"Hotel California - 2013 Remaster - Eagles\",\"Superstition - Stevie Wonder\",\"September - Earth, Wind & Fire\",\"Jolene - Dolly Parton\",\"99 Luftballons - Nena\",\"Rock Me Amadeus - Falco\",\"Radio - Rammstein\",\"Hurra die Welt geht unter - K.I.Z\",\"Ding - Seeed\",\"Gasolina - Daddy Yankee\",\"Chantaje (feat. Maluma) - Shakira\",\"Con Calma - Daddy Yankee\",\"Danza Kuduro - Don Omar\",\"Ahora Quien - Marc Anthony\",\"Tourner Dans Le Vide - Indila\",\"Papaoutai - Stromae\",\"Toi jamais - Jeane Manson\",\"Voyage voyage - Desireless\",\"Ne me quitte pas - Jacques Brel\",\"Felicit\\u00e0 - Al Bano And Romina Power\",\"L'italiano - Toto Cutugno\",\"ZITTI E BUONI - M\\u00e5neskin\",\"Nel Blu Dipinto Di Blu - Domenico Modugno\",\"Ciao Ciao - La rappresentante di lista\",\"The Message - Grandmaster Flash\",\"Nuthin' But A \\\"G\\\" Thang - Dr. Dre\",\"Fuck Tha Police - N.W.A.\",\"Lose Yourself - Eminem\",\"In Da Club - 50 Cent\",\"Tainted Love - Soft Cell\",\"Hungry Like the Wolf - 2009 Remaster - Duran Duran\",\"I Ran (So Far Away) - A Flock Of Seagulls\",\"Just Can't Get Enough - Depeche Mode\",\"Don't You Want Me - The Human League\",\"Crazy Train - Ozzy Osbourne\",\"Immigrant Song - Remaster - Led Zeppelin\",\"Enter Sandman - Metallica\",\"Ace of Spades - Mot\\u00f6rhead\",\"Holy Diver - Dio\",\"Redbone - Childish Gambino\",\"Cater 2 U - Destiny's Child\",\"Special Affair - The Internet\",\"Formation - Beyonc\\u00e9\",\"Needed Me - Rihanna\",\"Lean On (feat. M\\u00d8 & DJ Snake) - Major Lazer\",\"Closer - The Chainsmokers\",\"Rockabye (feat. Sean Paul & Anne-Marie) - Clean Bandit\",\"Titanium (feat. Sia) - David Guetta\",\"Wake Me Up - Avicii\",\"Boulevard of Broken Dreams - Green Day\",\"Somebody That I Used To Know - Gotye\",\"In the End - Linkin Park\",\"Sunday Bloody Sunday - U2\",\"Viva La Vida - Coldplay\"]}],                        {\"template\":{\"data\":{\"histogram2dcontour\":[{\"type\":\"histogram2dcontour\",\"colorbar\":{\"outlinewidth\":0,\"ticks\":\"\"},\"colorscale\":[[0.0,\"#0d0887\"],[0.1111111111111111,\"#46039f\"],[0.2222222222222222,\"#7201a8\"],[0.3333333333333333,\"#9c179e\"],[0.4444444444444444,\"#bd3786\"],[0.5555555555555556,\"#d8576b\"],[0.6666666666666666,\"#ed7953\"],[0.7777777777777778,\"#fb9f3a\"],[0.8888888888888888,\"#fdca26\"],[1.0,\"#f0f921\"]]}],\"choropleth\":[{\"type\":\"choropleth\",\"colorbar\":{\"outlinewidth\":0,\"ticks\":\"\"}}],\"histogram2d\":[{\"type\":\"histogram2d\",\"colorbar\":{\"outlinewidth\":0,\"ticks\":\"\"},\"colorscale\":[[0.0,\"#0d0887\"],[0.1111111111111111,\"#46039f\"],[0.2222222222222222,\"#7201a8\"],[0.3333333333333333,\"#9c179e\"],[0.4444444444444444,\"#bd3786\"],[0.5555555555555556,\"#d8576b\"],[0.6666666666666666,\"#ed7953\"],[0.7777777777777778,\"#fb9f3a\"],[0.8888888888888888,\"#fdca26\"],[1.0,\"#f0f921\"]]}],\"heatmap\":[{\"type\":\"heatmap\",\"colorbar\":{\"outlinewidth\":0,\"ticks\":\"\"},\"colorscale\":[[0.0,\"#0d0887\"],[0.1111111111111111,\"#46039f\"],[0.2222222222222222,\"#7201a8\"],[0.3333333333333333,\"#9c179e\"],[0.4444444444444444,\"#bd3786\"],[0.5555555555555556,\"#d8576b\"],[0.6666666666666666,\"#ed7953\"],[0.7777777777777778,\"#fb9f3a\"],[0.8888888888888888,\"#fdca26\"],[1.0,\"#f0f921\"]]}],\"heatmapgl\":[{\"type\":\"heatmapgl\",\"colorbar\":{\"outlinewidth\":0,\"ticks\":\"\"},\"colorscale\":[[0.0,\"#0d0887\"],[0.1111111111111111,\"#46039f\"],[0.2222222222222222,\"#7201a8\"],[0.3333333333333333,\"#9c179e\"],[0.4444444444444444,\"#bd3786\"],[0.5555555555555556,\"#d8576b\"],[0.6666666666666666,\"#ed7953\"],[0.7777777777777778,\"#fb9f3a\"],[0.8888888888888888,\"#fdca26\"],[1.0,\"#f0f921\"]]}],\"contourcarpet\":[{\"type\":\"contourcarpet\",\"colorbar\":{\"outlinewidth\":0,\"ticks\":\"\"}}],\"contour\":[{\"type\":\"contour\",\"colorbar\":{\"outlinewidth\":0,\"ticks\":\"\"},\"colorscale\":[[0.0,\"#0d0887\"],[0.1111111111111111,\"#46039f\"],[0.2222222222222222,\"#7201a8\"],[0.3333333333333333,\"#9c179e\"],[0.4444444444444444,\"#bd3786\"],[0.5555555555555556,\"#d8576b\"],[0.6666666666666666,\"#ed7953\"],[0.7777777777777778,\"#fb9f3a\"],[0.8888888888888888,\"#fdca26\"],[1.0,\"#f0f921\"]]}],\"surface\":[{\"type\":\"surface\",\"colorbar\":{\"outlinewidth\":0,\"ticks\":\"\"},\"colorscale\":[[0.0,\"#0d0887\"],[0.1111111111111111,\"#46039f\"],[0.2222222222222222,\"#7201a8\"],[0.3333333333333333,\"#9c179e\"],[0.4444444444444444,\"#bd3786\"],[0.5555555555555556,\"#d8576b\"],[0.6666666666666666,\"#ed7953\"],[0.7777777777777778,\"#fb9f3a\"],[0.8888888888888888,\"#fdca26\"],[1.0,\"#f0f921\"]]}],\"mesh3d\":[{\"type\":\"mesh3d\",\"colorbar\":{\"outlinewidth\":0,\"ticks\":\"\"}}],\"scatter\":[{\"marker\":{\"line\":{\"color\":\"#283442\"}},\"type\":\"scatter\"}],\"parcoords\":[{\"type\":\"parcoords\",\"line\":{\"colorbar\":{\"outlinewidth\":0,\"ticks\":\"\"}}}],\"scatterpolargl\":[{\"type\":\"scatterpolargl\",\"marker\":{\"colorbar\":{\"outlinewidth\":0,\"ticks\":\"\"}}}],\"bar\":[{\"error_x\":{\"color\":\"#f2f5fa\"},\"error_y\":{\"color\":\"#f2f5fa\"},\"marker\":{\"line\":{\"color\":\"rgb(17,17,17)\",\"width\":0.5},\"pattern\":{\"fillmode\":\"overlay\",\"size\":10,\"solidity\":0.2}},\"type\":\"bar\"}],\"scattergeo\":[{\"type\":\"scattergeo\",\"marker\":{\"colorbar\":{\"outlinewidth\":0,\"ticks\":\"\"}}}],\"scatterpolar\":[{\"type\":\"scatterpolar\",\"marker\":{\"colorbar\":{\"outlinewidth\":0,\"ticks\":\"\"}}}],\"histogram\":[{\"marker\":{\"pattern\":{\"fillmode\":\"overlay\",\"size\":10,\"solidity\":0.2}},\"type\":\"histogram\"}],\"scattergl\":[{\"marker\":{\"line\":{\"color\":\"#283442\"}},\"type\":\"scattergl\"}],\"scatter3d\":[{\"type\":\"scatter3d\",\"line\":{\"colorbar\":{\"outlinewidth\":0,\"ticks\":\"\"}},\"marker\":{\"colorbar\":{\"outlinewidth\":0,\"ticks\":\"\"}}}],\"scattermapbox\":[{\"type\":\"scattermapbox\",\"marker\":{\"colorbar\":{\"outlinewidth\":0,\"ticks\":\"\"}}}],\"scatterternary\":[{\"type\":\"scatterternary\",\"marker\":{\"colorbar\":{\"outlinewidth\":0,\"ticks\":\"\"}}}],\"scattercarpet\":[{\"type\":\"scattercarpet\",\"marker\":{\"colorbar\":{\"outlinewidth\":0,\"ticks\":\"\"}}}],\"carpet\":[{\"aaxis\":{\"endlinecolor\":\"#A2B1C6\",\"gridcolor\":\"#506784\",\"linecolor\":\"#506784\",\"minorgridcolor\":\"#506784\",\"startlinecolor\":\"#A2B1C6\"},\"baxis\":{\"endlinecolor\":\"#A2B1C6\",\"gridcolor\":\"#506784\",\"linecolor\":\"#506784\",\"minorgridcolor\":\"#506784\",\"startlinecolor\":\"#A2B1C6\"},\"type\":\"carpet\"}],\"table\":[{\"cells\":{\"fill\":{\"color\":\"#506784\"},\"line\":{\"color\":\"rgb(17,17,17)\"}},\"header\":{\"fill\":{\"color\":\"#2a3f5f\"},\"line\":{\"color\":\"rgb(17,17,17)\"}},\"type\":\"table\"}],\"barpolar\":[{\"marker\":{\"line\":{\"color\":\"rgb(17,17,17)\",\"width\":0.5},\"pattern\":{\"fillmode\":\"overlay\",\"size\":10,\"solidity\":0.2}},\"type\":\"barpolar\"}],\"pie\":[{\"automargin\":true,\"type\":\"pie\"}]},\"layout\":{\"autotypenumbers\":\"strict\",\"colorway\":[\"#636efa\",\"#EF553B\",\"#00cc96\",\"#ab63fa\",\"#FFA15A\",\"#19d3f3\",\"#FF6692\",\"#B6E880\",\"#FF97FF\",\"#FECB52\"],\"font\":{\"color\":\"#f2f5fa\"},\"hovermode\":\"closest\",\"hoverlabel\":{\"align\":\"left\"},\"paper_bgcolor\":\"rgb(17,17,17)\",\"plot_bgcolor\":\"rgb(17,17,17)\",\"polar\":{\"bgcolor\":\"rgb(17,17,17)\",\"angularaxis\":{\"gridcolor\":\"#506784\",\"linecolor\":\"#506784\",\"ticks\":\"\"},\"radialaxis\":{\"gridcolor\":\"#506784\",\"linecolor\":\"#506784\",\"ticks\":\"\"}},\"ternary\":{\"bgcolor\":\"rgb(17,17,17)\",\"aaxis\":{\"gridcolor\":\"#506784\",\"linecolor\":\"#506784\",\"ticks\":\"\"},\"baxis\":{\"gridcolor\":\"#506784\",\"linecolor\":\"#506784\",\"ticks\":\"\"},\"caxis\":{\"gridcolor\":\"#506784\",\"linecolor\":\"#506784\",\"ticks\":\"\"}},\"coloraxis\":{\"colorbar\":{\"outlinewidth\":0,\"ticks\":\"\"}},\"colorscale\":{\"sequential\":[[0.0,\"#0d0887\"],[0.1111111111111111,\"#46039f\"],[0.2222222222222222,\"#7201a8\"],[0.3333333333333333,\"#9c179e\"],[0.4444444444444444,\"#bd3786\"],[0.5555555555555556,\"#d8576b\"],[0.6666666666666666,\"#ed7953\"],[0.7777777777777778,\"#fb9f3a\"],[0.8888888888888888,\"#fdca26\"],[1.0,\"#f0f921\"]],\"sequentialminus\":[[0.0,\"#0d0887\"],[0.1111111111111111,\"#46039f\"],[0.2222222222222222,\"#7201a8\"],[0.3333333333333333,\"#9c179e\"],[0.4444444444444444,\"#bd3786\"],[0.5555555555555556,\"#d8576b\"],[0.6666666666666666,\"#ed7953\"],[0.7777777777777778,\"#fb9f3a\"],[0.8888888888888888,\"#fdca26\"],[1.0,\"#f0f921\"]],\"diverging\":[[0,\"#8e0152\"],[0.1,\"#c51b7d\"],[0.2,\"#de77ae\"],[0.3,\"#f1b6da\"],[0.4,\"#fde0ef\"],[0.5,\"#f7f7f7\"],[0.6,\"#e6f5d0\"],[0.7,\"#b8e186\"],[0.8,\"#7fbc41\"],[0.9,\"#4d9221\"],[1,\"#276419\"]]},\"xaxis\":{\"gridcolor\":\"#283442\",\"linecolor\":\"#506784\",\"ticks\":\"\",\"title\":{\"standoff\":15},\"zerolinecolor\":\"#283442\",\"automargin\":true,\"zerolinewidth\":2},\"yaxis\":{\"gridcolor\":\"#283442\",\"linecolor\":\"#506784\",\"ticks\":\"\",\"title\":{\"standoff\":15},\"zerolinecolor\":\"#283442\",\"automargin\":true,\"zerolinewidth\":2},\"scene\":{\"xaxis\":{\"backgroundcolor\":\"rgb(17,17,17)\",\"gridcolor\":\"#506784\",\"linecolor\":\"#506784\",\"showbackground\":true,\"ticks\":\"\",\"zerolinecolor\":\"#C8D4E3\",\"gridwidth\":2},\"yaxis\":{\"backgroundcolor\":\"rgb(17,17,17)\",\"gridcolor\":\"#506784\",\"linecolor\":\"#506784\",\"showbackground\":true,\"ticks\":\"\",\"zerolinecolor\":\"#C8D4E3\",\"gridwidth\":2},\"zaxis\":{\"backgroundcolor\":\"rgb(17,17,17)\",\"gridcolor\":\"#506784\",\"linecolor\":\"#506784\",\"showbackground\":true,\"ticks\":\"\",\"zerolinecolor\":\"#C8D4E3\",\"gridwidth\":2}},\"shapedefaults\":{\"line\":{\"color\":\"#f2f5fa\"}},\"annotationdefaults\":{\"arrowcolor\":\"#f2f5fa\",\"arrowhead\":0,\"arrowwidth\":1},\"geo\":{\"bgcolor\":\"rgb(17,17,17)\",\"landcolor\":\"rgb(17,17,17)\",\"subunitcolor\":\"#506784\",\"showland\":true,\"showlakes\":true,\"lakecolor\":\"rgb(17,17,17)\"},\"title\":{\"x\":0.05},\"updatemenudefaults\":{\"bgcolor\":\"#506784\",\"borderwidth\":0},\"sliderdefaults\":{\"bgcolor\":\"#C8D4E3\",\"borderwidth\":1,\"bordercolor\":\"rgb(17,17,17)\",\"tickwidth\":0},\"mapbox\":{\"style\":\"dark\"}}},\"xaxis\":{\"anchor\":\"y\",\"domain\":[0.0,1.0],\"title\":{\"text\":\"PC1\"}},\"yaxis\":{\"anchor\":\"x\",\"domain\":[0.0,1.0],\"title\":{\"text\":\"PC2\"}},\"legend\":{\"tracegroupgap\":0},\"margin\":{\"t\":60}},                        {\"responsive\": true}                    ).then(function(){\n",
       "                            \n",
       "var gd = document.getElementById('8eb3369d-b46c-480b-840a-cd3efc14c73b');\n",
       "var x = new MutationObserver(function (mutations, observer) {{\n",
       "        var display = window.getComputedStyle(gd).display;\n",
       "        if (!display || display === 'none') {{\n",
       "            console.log([gd, 'removed!']);\n",
       "            Plotly.purge(gd);\n",
       "            observer.disconnect();\n",
       "        }}\n",
       "}});\n",
       "\n",
       "// Listen for the removal of the full notebook cells\n",
       "var notebookContainer = gd.closest('#notebook-container');\n",
       "if (notebookContainer) {{\n",
       "    x.observe(notebookContainer, {childList: true});\n",
       "}}\n",
       "\n",
       "// Listen for the clearing of the current output cell\n",
       "var outputEl = gd.closest('.output');\n",
       "if (outputEl) {{\n",
       "    x.observe(outputEl, {childList: true});\n",
       "}}\n",
       "\n",
       "                        })                };                });            </script>        </div>"
      ]
     },
     "metadata": {},
     "output_type": "display_data"
    }
   ],
   "execution_count": 40
  },
  {
   "metadata": {
    "ExecuteTime": {
     "end_time": "2024-11-11T13:27:23.764124Z",
     "start_time": "2024-11-11T13:27:23.635830Z"
    }
   },
   "cell_type": "code",
   "source": [
    "inertia = []\n",
    "K = range(1, 15)\n",
    "for k in K:\n",
    "    kmeans = KMeans(n_clusters=k, random_state=0)\n",
    "    kmeans.fit(purged)\n",
    "    inertia.append(kmeans.inertia_)\n",
    "\n",
    "# Plotting the Elbow Method results with Seaborn\n",
    "plt.figure(figsize=(8, 5))\n",
    "sns.lineplot(x=K, y=inertia, marker='o', color='b')\n",
    "plt.xlabel('Number of Clusters (k)')\n",
    "plt.ylabel('Inertia')\n",
    "plt.title('Elbow Method For Optimal k')\n",
    "plt.xticks(K)\n",
    "plt.show()"
   ],
   "id": "43692fde79cd506",
   "outputs": [
    {
     "data": {
      "text/plain": [
       "<Figure size 800x500 with 1 Axes>"
      ],
      "image/png": "[encoded data removed]"
     },
     "metadata": {},
     "output_type": "display_data"
    }
   ],
   "execution_count": 25
  },
  {
   "metadata": {
    "ExecuteTime": {
     "end_time": "2024-11-11T13:27:34.937412Z",
     "start_time": "2024-11-11T13:27:34.827526Z"
    }
   },
   "cell_type": "code",
   "source": [
    "k = 7\n",
    "kmeans = KMeans(n_clusters=k, random_state=0)\n",
    "kmeans.fit(purged)\n",
    "\n",
    "pca_df['cluster'] = kmeans.labels_\n",
    "\n",
    "plt.figure(figsize=(8, 5))\n",
    "sns.scatterplot(data=pca_df, x='PC1', y='PC2', hue='cluster', palette='tab10', s=100)\n",
    "plt.title('K-Means Clustering')\n",
    "plt.show()\n"
   ],
   "id": "bb89aed6b0934a4c",
   "outputs": [
    {
     "data": {
      "text/plain": [
       "<Figure size 800x500 with 1 Axes>"
      ],
      "image/png": "[encoded data removed]"
     },
     "metadata": {},
     "output_type": "display_data"
    }
   ],
   "execution_count": 26
  },
  {
   "metadata": {
    "ExecuteTime": {
     "end_time": "2024-11-14T21:17:32.603382Z",
     "start_time": "2024-11-14T21:17:32.598428Z"
    }
   },
   "cell_type": "code",
   "source": [
    "pca_df['name'] = names\n",
    "pca_df['personal_cluster'] = [1, 1, 1, 1, 3, 1, 1, 1, 1, 1, 1, 5, 2, 3, 4, 1, 4, 4, 1, 4, 2, 1, 1, 4, 4, 5, 1, 4, 1, 4, 4, 5, 5, 4, 4, 4, 4, 6, 4, 2, 1, 1, 1, 4, 4, 1, 1, 1, 1, 4, 4, 1, 3, 4, 4, 2, 4, 2, 2, 4, 4, 2, 4, 1, 6, 4, 4, 3, 4, 4, 5, 5, 5, 5, 5, 1, 1, 1, 1, 1, 1, 1, 3, 3, 3, 1, 4, 4, 4, 4, 2, 4, 2, 2, 2, 1, 4, 1, 1, 1]"
   ],
   "id": "16da87add8baeabb",
   "outputs": [],
   "execution_count": 32
  },
  {
   "metadata": {
    "ExecuteTime": {
     "end_time": "2024-11-14T21:17:55.508047Z",
     "start_time": "2024-11-14T21:17:55.396331Z"
    }
   },
   "cell_type": "code",
   "source": [
    "plt.figure(figsize=(8, 5))\n",
    "sns.scatterplot(data=pca_df, x='PC1', y='PC2', hue='personal_cluster', palette='tab10', s=100)\n",
    "plt.title('Personal Clustering')\n",
    "plt.show()"
   ],
   "id": "c01995dc029a058f",
   "outputs": [
    {
     "data": {
      "text/plain": [
       "<Figure size 800x500 with 1 Axes>"
      ],
      "image/png": "[encoded data removed]"
     },
     "metadata": {},
     "output_type": "display_data"
    }
   ],
   "execution_count": 33
  },
  {
   "metadata": {
    "ExecuteTime": {
     "end_time": "2024-12-15T13:06:50.865757Z",
     "start_time": "2024-12-15T13:06:50.667280Z"
    }
   },
   "cell_type": "code",
   "source": [
    "from data_preparation.plot import scatter\n",
    "\n",
    "scatter(pca_df)"
   ],
   "id": "bfa9152d7c58ba79",
   "outputs": [
    {
     "ename": "NameError",
     "evalue": "name 'pca_df' is not defined",
     "output_type": "error",
     "traceback": [
      "\u001B[0;31m---------------------------------------------------------------------------\u001B[0m",
      "\u001B[0;31mNameError\u001B[0m                                 Traceback (most recent call last)",
      "Cell \u001B[0;32mIn[1], line 3\u001B[0m\n\u001B[1;32m      1\u001B[0m \u001B[38;5;28;01mfrom\u001B[39;00m \u001B[38;5;21;01mdata_preparation\u001B[39;00m\u001B[38;5;21;01m.\u001B[39;00m\u001B[38;5;21;01mplot\u001B[39;00m \u001B[38;5;28;01mimport\u001B[39;00m scatter\n\u001B[0;32m----> 3\u001B[0m scatter(\u001B[43mpca_df\u001B[49m)\n",
      "\u001B[0;31mNameError\u001B[0m: name 'pca_df' is not defined"
     ]
    }
   ],
   "execution_count": 1
  },
  {
   "metadata": {
    "ExecuteTime": {
     "end_time": "2024-11-22T11:26:10.402255Z",
     "start_time": "2024-11-22T11:26:08.672202Z"
    }
   },
   "cell_type": "code",
   "source": [
    "fig, axes = plt.subplots(4, 4, figsize=(10, 10))\n",
    "plt.subplots_adjust(hspace=0.4, wspace=0.4)\n",
    "\n",
    "for i, column in enumerate(columns):\n",
    "    ax = axes[i // 4, i % 4]\n",
    "\n",
    "    # data = pd.concat([df[column], pca_df['personal_cluster']], axis=1)\n",
    "    data = pd.concat([df[column], pca_df['cluster']], axis=1)\n",
    "    x_range = x_ranges[i]\n",
    "    \n",
    "    data_range = None\n",
    "    if len(x_range) == 2:\n",
    "        data_range = [x_range[0], x_range[1]]\n",
    "\n",
    "    sns.histplot(data, ax=ax, stat=\"count\", multiple=\"stack\",\n",
    "             x=column,\n",
    "             bins=15, binrange=data_range,\n",
    "             palette=\"pastel\", hue=\"cluster\",\n",
    "             element=\"bars\", legend=False)\n",
    "    ax.set_title(column)\n",
    "    ax.set_xlabel('')\n",
    "    ax.set_ylabel('')\n",
    "\n",
    "#axes[3, 2].axis('off')\n",
    "#axes[3, 3].axis('off')\n",
    "\n",
    "plt.suptitle('Spotify song data of Test-Set')\n",
    "\n",
    "plt.show()"
   ],
   "id": "2bd7ee822a0be48e",
   "outputs": [
    {
     "data": {
      "text/plain": [
       "<Figure size 1000x1000 with 16 Axes>"
      ],
      "image/png": "[encoded data removed]"
     },
     "metadata": {},
     "output_type": "display_data"
    }
   ],
   "execution_count": 50
  },
  {
   "metadata": {},
   "cell_type": "markdown",
   "source": [
    "findings:\n",
    "k-means primarily used the features \"explicit\" and \"mode\" to cluster the songs. both of those don't tell much about the song imo"
   ],
   "id": "4536c08db2cc76f0"
  },
  {
   "metadata": {
    "ExecuteTime": {
     "end_time": "2024-11-22T11:28:50.783106Z",
     "start_time": "2024-11-22T11:28:50.774683Z"
    }
   },
   "cell_type": "code",
   "source": "purged.columns",
   "id": "ee0e66a09f67fcbb",
   "outputs": [
    {
     "data": {
      "text/plain": [
       "Index(['release_year', 'explicit', 'acousticness', 'danceability', 'energy',\n",
       "       'key', 'loudness', 'mode', 'speechiness', 'tempo', 'valence'],\n",
       "      dtype='object')"
      ]
     },
     "execution_count": 51,
     "metadata": {},
     "output_type": "execute_result"
    }
   ],
   "execution_count": 51
  },
  {
   "metadata": {
    "ExecuteTime": {
     "end_time": "2024-11-22T11:29:18.158194Z",
     "start_time": "2024-11-22T11:29:18.155150Z"
    }
   },
   "cell_type": "code",
   "source": [
    "purged = purged.drop([\n",
    "    'explicit',\n",
    "    'key',\n",
    "    'mode',\n",
    "    'release_year',\n",
    "], axis='columns')"
   ],
   "id": "fc39b68b965bd3f5",
   "outputs": [],
   "execution_count": 52
  },
  {
   "metadata": {
    "ExecuteTime": {
     "end_time": "2024-11-22T11:29:42.033969Z",
     "start_time": "2024-11-22T11:29:42.014269Z"
    }
   },
   "cell_type": "code",
   "source": [
    "pca = PCA(n_components=2)\n",
    "principal_components = pca.fit_transform(purged)\n",
    "\n",
    "pca_df = pd.DataFrame(principal_components, columns=['PC1', 'PC2'])"
   ],
   "id": "61bb84d0438af29c",
   "outputs": [],
   "execution_count": 53
  },
  {
   "metadata": {
    "ExecuteTime": {
     "end_time": "2024-11-22T11:30:00.493273Z",
     "start_time": "2024-11-22T11:30:00.306097Z"
    }
   },
   "cell_type": "code",
   "source": [
    "inertia = []\n",
    "K = range(1, 15)\n",
    "for k in K:\n",
    "    kmeans = KMeans(n_clusters=k, random_state=0)\n",
    "    kmeans.fit(purged)\n",
    "    inertia.append(kmeans.inertia_)\n",
    "\n",
    "# Plotting the Elbow Method results with Seaborn\n",
    "plt.figure(figsize=(8, 5))\n",
    "sns.lineplot(x=K, y=inertia, marker='o', color='b')\n",
    "plt.xlabel('Number of Clusters (k)')\n",
    "plt.ylabel('Inertia')\n",
    "plt.title('Elbow Method For Optimal k')\n",
    "plt.xticks(K)\n",
    "plt.show()"
   ],
   "id": "7e75121a970cb530",
   "outputs": [
    {
     "data": {
      "text/plain": [
       "<Figure size 800x500 with 1 Axes>"
      ],
      "image/png": "[encoded data removed]"
     },
     "metadata": {},
     "output_type": "display_data"
    }
   ],
   "execution_count": 54
  },
  {
   "metadata": {
    "ExecuteTime": {
     "end_time": "2024-11-22T11:30:20.713598Z",
     "start_time": "2024-11-22T11:30:20.606726Z"
    }
   },
   "cell_type": "code",
   "source": [
    "k = 7\n",
    "kmeans = KMeans(n_clusters=k, random_state=0)\n",
    "kmeans.fit(purged)\n",
    "\n",
    "pca_df['cluster'] = kmeans.labels_\n",
    "\n",
    "plt.figure(figsize=(8, 5))\n",
    "sns.scatterplot(data=pca_df, x='PC1', y='PC2', hue='cluster', palette='tab10', s=100)\n",
    "plt.title('K-Means Clustering')\n",
    "plt.show()\n"
   ],
   "id": "190d878fcee96d56",
   "outputs": [
    {
     "data": {
      "text/plain": [
       "<Figure size 800x500 with 1 Axes>"
      ],
      "image/png": "[encoded data removed]"
     },
     "metadata": {},
     "output_type": "display_data"
    }
   ],
   "execution_count": 55
  },
  {
   "metadata": {
    "ExecuteTime": {
     "end_time": "2024-11-22T11:30:43.687314Z",
     "start_time": "2024-11-22T11:30:43.662303Z"
    }
   },
   "cell_type": "code",
   "source": [
    "fig = px.scatter(pca_df, x='PC1', y='PC2')\n",
    "\n",
    "fig.update_traces(\n",
    "    text=names,\n",
    "    hovertemplate='%{text}',\n",
    "    mode='markers'\n",
    ")\n",
    "\n",
    "fig.show()"
   ],
   "id": "e29bbdae4a3b1779",
   "outputs": [
    {
     "data": {
      "application/vnd.plotly.v1+json": {
       "data": [
        {
         "hovertemplate": "%{text}",
         "legendgroup": "",
         "marker": {
          "color": "#636efa",
          "symbol": "circle"
         },
         "mode": "markers",
         "name": "",
         "orientation": "v",
         "showlegend": false,
         "x": [
          -0.40302489578340106,
          0.3291829047741104,
          -0.4616931787323387,
          -0.17060634001470354,
          0.07061323110847306,
          -0.16820866723670536,
          0.27761309221750263,
          0.33634226122235655,
          -0.03804333036845864,
          -0.27624749264892323,
          0.3190145399298492,
          0.04827948915141067,
          0.4466634844042503,
          0.08559223457188936,
          -0.054284217978206595,
          0.2904871174309407,
          0.19829925380635038,
          0.16831435273745887,
          0.206250874549478,
          0.15329527936480924,
          0.28579954355267656,
          0.3681067255773929,
          -0.09530544112254058,
          -0.15995715924827925,
          -0.4457197763083718,
          0.21923039602127714,
          0.056578973839849,
          0.1628259594338488,
          -0.20915060962322718,
          0.2732333630163426,
          0.08308278827951843,
          0.13424780464396768,
          -0.2897247944773893,
          -0.0795412600822849,
          0.2181197596859632,
          -0.33085289785769,
          0.058031513686117364,
          0.009844563495059022,
          -0.3892360940801646,
          0.2325504966140588,
          -0.46809693905758953,
          -0.3791768329619014,
          -0.7689674703538012,
          0.09642857244259373,
          -0.010794252990900643,
          -0.5719529433730133,
          -0.06769417837340508,
          -0.08107667686272224,
          0.28653104031099685,
          -0.2529895640081107,
          -0.19485780690942955,
          0.16023872062757816,
          0.34545142775699333,
          0.07272009742312524,
          0.47891838505677864,
          0.10517050904410441,
          0.33083951706739056,
          0.2776601499557023,
          0.34800426121311157,
          -0.18544931827607458,
          -0.10701427891237536,
          -0.010869094339011065,
          -0.2639397889809132,
          0.2515248171190183,
          -0.8242130075429821,
          -0.09915796897359341,
          -0.21268727309745472,
          0.34371264888471176,
          -1.031188896622914,
          0.21266249035140694,
          -0.14056729195324658,
          0.26979831793631104,
          0.2287688732252222,
          -0.01291957462006943,
          0.22025834988972148,
          -0.2409353561443549,
          0.17707169541047363,
          -0.08164873358876057,
          0.07915536303842385,
          0.18956007613321102,
          0.08074317180017765,
          0.1348866830421791,
          0.11858430676795151,
          0.121747873317124,
          -0.23361405660271495,
          -0.22552234731868315,
          -0.15232697663312744,
          -0.2507159519428924,
          0.20358352736203966,
          -0.3395451092981402,
          0.10264070719446972,
          -0.12430453870540892,
          0.10164756435956046,
          0.06856030384606582,
          0.185626878571588,
          0.1456260175077071,
          -0.15565244450566118,
          0.09785632537078248,
          0.28306661631165997,
          -0.09117046294119657
         ],
         "xaxis": "x",
         "y": [
          -0.3225691264936677,
          0.1293837701598824,
          0.4745025187331402,
          0.1098834377809838,
          -0.06326655006711915,
          0.01624378907546259,
          0.18479552844009595,
          -0.01755213050248522,
          -0.13847199271560956,
          -0.39735864406514065,
          -0.08565438743000697,
          0.2048054743328589,
          -0.007929336331444659,
          -0.44333322154156096,
          -0.019151817708607466,
          0.2780171188035684,
          -0.067470324296556,
          -0.3896107551152035,
          -0.33888022386531075,
          0.06999252152051771,
          0.14369129847943174,
          -0.018014391343010028,
          -0.5661631678283134,
          0.022435034546823662,
          -0.2841436002023587,
          -0.17169879918612774,
          0.12006673673287199,
          -0.3316234847073497,
          -0.17975040361188643,
          -0.03435421615264486,
          -0.05620706962394442,
          -0.004970017541022664,
          -0.42500532260081125,
          -0.07949506857860214,
          0.0028900720349923636,
          -0.0254892548048285,
          0.030825347807611203,
          -5.788899153862936E-4,
          -0.0707294707241155,
          0.25673960901983617,
          -0.24812470379608526,
          0.3648622366299875,
          -0.06272676635870597,
          0.13154461821413732,
          0.28984582141862125,
          -0.023657976075062037,
          -0.016377622556794202,
          0.3787975686220797,
          0.2856043061830804,
          0.41655218697583263,
          0.1178824978535532,
          0.1742198087591968,
          -0.006641831286472166,
          0.04532923924966775,
          0.19535504254706315,
          0.2572282979912356,
          0.2652334453257734,
          0.0032003837641646493,
          0.16608353868025505,
          -0.22290295630161333,
          -0.1621478794193964,
          -0.26210145752909886,
          0.16258465800046634,
          0.13034983600131334,
          0.07880092448833848,
          0.35450831674759764,
          0.22259088109201924,
          -0.10251695778230532,
          0.4137209053681222,
          -5.051260354415055E-4,
          0.3313311606819942,
          0.0022051346634044955,
          0.2968928974490034,
          -0.5709664080203376,
          0.22948215133840338,
          0.07235928697420552,
          0.03889036016628872,
          0.015382595865707505,
          0.38273002546226853,
          0.3371278641183659,
          -0.1886055943771491,
          -0.020458675753862038,
          -0.055225938844931516,
          -0.6082621481662183,
          -0.3505232240425064,
          0.11561562884888793,
          -0.06402949587765841,
          0.1295063273730071,
          0.2335019733275846,
          -0.10380962657645451,
          -0.306977225571491,
          0.2163924396299699,
          0.17576943052046384,
          -0.35085103810693086,
          -0.0963679003015385,
          -0.3119294491989885,
          0.2915675718011228,
          -0.24512585987488186,
          -0.22385532429011576,
          -0.22315876650409688
         ],
         "yaxis": "y",
         "type": "scatter",
         "text": [
          "Purple Rain - Prince",
          "Thriller - Michael Jackson",
          "Africa - TOTO",
          "Everybody Wants To Rule The World - Tears For Fears",
          "Master Of Puppets - Metallica",
          "Under Pressure - Remastered 2011 - Queen",
          "Take on Me - a-ha",
          "Livin' On A Prayer - Bon Jovi",
          "Don't Stop Believin' - Journey",
          "With Or Without You - U2",
          "Smells Like Teen Spirit - Nirvana",
          "No Diggity - Blackstreet",
          "Bye Bye Bye - *NSYNC",
          "Thunderstruck - AC/DC",
          "I Want It That Way - Backstreet Boys",
          "The Sign - Ace of Base",
          "Torn - Natalie Imbruglia",
          "Wonderwall - Oasis",
          "Bitter Sweet Symphony - The Verve",
          "Say My Name - Destiny's Child",
          "Poker Face - Lady Gaga",
          "I Bet You Look Good On The Dancefloor - Arctic Monkeys",
          "Use Somebody - Kings of Leon",
          "Fallin' - Alicia Keys",
          "Beautiful - Christina Aguilera",
          "99 Problems - JAY-Z",
          "Crazy - Gnarls Barkley",
          "Paper Planes - M.I.A.",
          "Seven Nation Army - The White Stripes",
          "Rehab - Amy Winehouse",
          "Rolling in the Deep - Adele",
          "Alright - Kendrick Lamar",
          "Runaway - Kanye West",
          "thank u, next - Ariana Grande",
          "I Like It - Cardi B",
          "Royals - Lorde",
          "Hotline Bling - Drake",
          "Old Town Road - Lil Nas X",
          "Shallow - Lady Gaga",
          "Get Lucky (Radio Edit) [feat. Pharrell Williams and Nile Rodgers] - Daft Punk",
          "Bohemian Rhapsody - Queen",
          "Stayin' Alive - Bee Gees",
          "Stairway to Heaven - Remaster - Led Zeppelin",
          "Dancing Queen - ABBA",
          "Dreams - 2004 Remaster - Fleetwood Mac",
          "Time - 2011 Remastered Version - Pink Floyd",
          "Hotel California - 2013 Remaster - Eagles",
          "Superstition - Stevie Wonder",
          "September - Earth, Wind & Fire",
          "Jolene - Dolly Parton",
          "99 Luftballons - Nena",
          "Rock Me Amadeus - Falco",
          "Radio - Rammstein",
          "Hurra die Welt geht unter - K.I.Z",
          "Ding - Seeed",
          "Gasolina - Daddy Yankee",
          "Chantaje (feat. Maluma) - Shakira",
          "Con Calma - Daddy Yankee",
          "Danza Kuduro - Don Omar",
          "Ahora Quien - Marc Anthony",
          "Tourner Dans Le Vide - Indila",
          "Papaoutai - Stromae",
          "Toi jamais - Jeane Manson",
          "Voyage voyage - Desireless",
          "Ne me quitte pas - Jacques Brel",
          "Felicità - Al Bano And Romina Power",
          "L'italiano - Toto Cutugno",
          "ZITTI E BUONI - Måneskin",
          "Nel Blu Dipinto Di Blu - Domenico Modugno",
          "Ciao Ciao - La rappresentante di lista",
          "The Message - Grandmaster Flash",
          "Nuthin' But A \"G\" Thang - Dr. Dre",
          "Fuck Tha Police - N.W.A.",
          "Lose Yourself - Eminem",
          "In Da Club - 50 Cent",
          "Tainted Love - Soft Cell",
          "Hungry Like the Wolf - 2009 Remaster - Duran Duran",
          "I Ran (So Far Away) - A Flock Of Seagulls",
          "Just Can't Get Enough - Depeche Mode",
          "Don't You Want Me - The Human League",
          "Crazy Train - Ozzy Osbourne",
          "Immigrant Song - Remaster - Led Zeppelin",
          "Enter Sandman - Metallica",
          "Ace of Spades - Motörhead",
          "Holy Diver - Dio",
          "Redbone - Childish Gambino",
          "Cater 2 U - Destiny's Child",
          "Special Affair - The Internet",
          "Formation - Beyoncé",
          "Needed Me - Rihanna",
          "Lean On (feat. MØ & DJ Snake) - Major Lazer",
          "Closer - The Chainsmokers",
          "Rockabye (feat. Sean Paul & Anne-Marie) - Clean Bandit",
          "Titanium (feat. Sia) - David Guetta",
          "Wake Me Up - Avicii",
          "Boulevard of Broken Dreams - Green Day",
          "Somebody That I Used To Know - Gotye",
          "In the End - Linkin Park",
          "Sunday Bloody Sunday - U2",
          "Viva La Vida - Coldplay"
         ]
        }
       ],
       "layout": {
        "template": {
         "data": {
          "histogram2dcontour": [
           {
            "type": "histogram2dcontour",
            "colorbar": {
             "outlinewidth": 0,
             "ticks": ""
            },
            "colorscale": [
             [
              0.0,
              "#0d0887"
             ],
             [
              0.1111111111111111,
              "#46039f"
             ],
             [
              0.2222222222222222,
              "#7201a8"
             ],
             [
              0.3333333333333333,
              "#9c179e"
             ],
             [
              0.4444444444444444,
              "#bd3786"
             ],
             [
              0.5555555555555556,
              "#d8576b"
             ],
             [
              0.6666666666666666,
              "#ed7953"
             ],
             [
              0.7777777777777778,
              "#fb9f3a"
             ],
             [
              0.8888888888888888,
              "#fdca26"
             ],
             [
              1.0,
              "#f0f921"
             ]
            ]
           }
          ],
          "choropleth": [
           {
            "type": "choropleth",
            "colorbar": {
             "outlinewidth": 0,
             "ticks": ""
            }
           }
          ],
          "histogram2d": [
           {
            "type": "histogram2d",
            "colorbar": {
             "outlinewidth": 0,
             "ticks": ""
            },
            "colorscale": [
             [
              0.0,
              "#0d0887"
             ],
             [
              0.1111111111111111,
              "#46039f"
             ],
             [
              0.2222222222222222,
              "#7201a8"
             ],
             [
              0.3333333333333333,
              "#9c179e"
             ],
             [
              0.4444444444444444,
              "#bd3786"
             ],
             [
              0.5555555555555556,
              "#d8576b"
             ],
             [
              0.6666666666666666,
              "#ed7953"
             ],
             [
              0.7777777777777778,
              "#fb9f3a"
             ],
             [
              0.8888888888888888,
              "#fdca26"
             ],
             [
              1.0,
              "#f0f921"
             ]
            ]
           }
          ],
          "heatmap": [
           {
            "type": "heatmap",
            "colorbar": {
             "outlinewidth": 0,
             "ticks": ""
            },
            "colorscale": [
             [
              0.0,
              "#0d0887"
             ],
             [
              0.1111111111111111,
              "#46039f"
             ],
             [
              0.2222222222222222,
              "#7201a8"
             ],
             [
              0.3333333333333333,
              "#9c179e"
             ],
             [
              0.4444444444444444,
              "#bd3786"
             ],
             [
              0.5555555555555556,
              "#d8576b"
             ],
             [
              0.6666666666666666,
              "#ed7953"
             ],
             [
              0.7777777777777778,
              "#fb9f3a"
             ],
             [
              0.8888888888888888,
              "#fdca26"
             ],
             [
              1.0,
              "#f0f921"
             ]
            ]
           }
          ],
          "heatmapgl": [
           {
            "type": "heatmapgl",
            "colorbar": {
             "outlinewidth": 0,
             "ticks": ""
            },
            "colorscale": [
             [
              0.0,
              "#0d0887"
             ],
             [
              0.1111111111111111,
              "#46039f"
             ],
             [
              0.2222222222222222,
              "#7201a8"
             ],
             [
              0.3333333333333333,
              "#9c179e"
             ],
             [
              0.4444444444444444,
              "#bd3786"
             ],
             [
              0.5555555555555556,
              "#d8576b"
             ],
             [
              0.6666666666666666,
              "#ed7953"
             ],
             [
              0.7777777777777778,
              "#fb9f3a"
             ],
             [
              0.8888888888888888,
              "#fdca26"
             ],
             [
              1.0,
              "#f0f921"
             ]
            ]
           }
          ],
          "contourcarpet": [
           {
            "type": "contourcarpet",
            "colorbar": {
             "outlinewidth": 0,
             "ticks": ""
            }
           }
          ],
          "contour": [
           {
            "type": "contour",
            "colorbar": {
             "outlinewidth": 0,
             "ticks": ""
            },
            "colorscale": [
             [
              0.0,
              "#0d0887"
             ],
             [
              0.1111111111111111,
              "#46039f"
             ],
             [
              0.2222222222222222,
              "#7201a8"
             ],
             [
              0.3333333333333333,
              "#9c179e"
             ],
             [
              0.4444444444444444,
              "#bd3786"
             ],
             [
              0.5555555555555556,
              "#d8576b"
             ],
             [
              0.6666666666666666,
              "#ed7953"
             ],
             [
              0.7777777777777778,
              "#fb9f3a"
             ],
             [
              0.8888888888888888,
              "#fdca26"
             ],
             [
              1.0,
              "#f0f921"
             ]
            ]
           }
          ],
          "surface": [
           {
            "type": "surface",
            "colorbar": {
             "outlinewidth": 0,
             "ticks": ""
            },
            "colorscale": [
             [
              0.0,
              "#0d0887"
             ],
             [
              0.1111111111111111,
              "#46039f"
             ],
             [
              0.2222222222222222,
              "#7201a8"
             ],
             [
              0.3333333333333333,
              "#9c179e"
             ],
             [
              0.4444444444444444,
              "#bd3786"
             ],
             [
              0.5555555555555556,
              "#d8576b"
             ],
             [
              0.6666666666666666,
              "#ed7953"
             ],
             [
              0.7777777777777778,
              "#fb9f3a"
             ],
             [
              0.8888888888888888,
              "#fdca26"
             ],
             [
              1.0,
              "#f0f921"
             ]
            ]
           }
          ],
          "mesh3d": [
           {
            "type": "mesh3d",
            "colorbar": {
             "outlinewidth": 0,
             "ticks": ""
            }
           }
          ],
          "scatter": [
           {
            "marker": {
             "line": {
              "color": "#283442"
             }
            },
            "type": "scatter"
           }
          ],
          "parcoords": [
           {
            "type": "parcoords",
            "line": {
             "colorbar": {
              "outlinewidth": 0,
              "ticks": ""
             }
            }
           }
          ],
          "scatterpolargl": [
           {
            "type": "scatterpolargl",
            "marker": {
             "colorbar": {
              "outlinewidth": 0,
              "ticks": ""
             }
            }
           }
          ],
          "bar": [
           {
            "error_x": {
             "color": "#f2f5fa"
            },
            "error_y": {
             "color": "#f2f5fa"
            },
            "marker": {
             "line": {
              "color": "rgb(17,17,17)",
              "width": 0.5
             },
             "pattern": {
              "fillmode": "overlay",
              "size": 10,
              "solidity": 0.2
             }
            },
            "type": "bar"
           }
          ],
          "scattergeo": [
           {
            "type": "scattergeo",
            "marker": {
             "colorbar": {
              "outlinewidth": 0,
              "ticks": ""
             }
            }
           }
          ],
          "scatterpolar": [
           {
            "type": "scatterpolar",
            "marker": {
             "colorbar": {
              "outlinewidth": 0,
              "ticks": ""
             }
            }
           }
          ],
          "histogram": [
           {
            "marker": {
             "pattern": {
              "fillmode": "overlay",
              "size": 10,
              "solidity": 0.2
             }
            },
            "type": "histogram"
           }
          ],
          "scattergl": [
           {
            "marker": {
             "line": {
              "color": "#283442"
             }
            },
            "type": "scattergl"
           }
          ],
          "scatter3d": [
           {
            "type": "scatter3d",
            "line": {
             "colorbar": {
              "outlinewidth": 0,
              "ticks": ""
             }
            },
            "marker": {
             "colorbar": {
              "outlinewidth": 0,
              "ticks": ""
             }
            }
           }
          ],
          "scattermapbox": [
           {
            "type": "scattermapbox",
            "marker": {
             "colorbar": {
              "outlinewidth": 0,
              "ticks": ""
             }
            }
           }
          ],
          "scatterternary": [
           {
            "type": "scatterternary",
            "marker": {
             "colorbar": {
              "outlinewidth": 0,
              "ticks": ""
             }
            }
           }
          ],
          "scattercarpet": [
           {
            "type": "scattercarpet",
            "marker": {
             "colorbar": {
              "outlinewidth": 0,
              "ticks": ""
             }
            }
           }
          ],
          "carpet": [
           {
            "aaxis": {
             "endlinecolor": "#A2B1C6",
             "gridcolor": "#506784",
             "linecolor": "#506784",
             "minorgridcolor": "#506784",
             "startlinecolor": "#A2B1C6"
            },
            "baxis": {
             "endlinecolor": "#A2B1C6",
             "gridcolor": "#506784",
             "linecolor": "#506784",
             "minorgridcolor": "#506784",
             "startlinecolor": "#A2B1C6"
            },
            "type": "carpet"
           }
          ],
          "table": [
           {
            "cells": {
             "fill": {
              "color": "#506784"
             },
             "line": {
              "color": "rgb(17,17,17)"
             }
            },
            "header": {
             "fill": {
              "color": "#2a3f5f"
             },
             "line": {
              "color": "rgb(17,17,17)"
             }
            },
            "type": "table"
           }
          ],
          "barpolar": [
           {
            "marker": {
             "line": {
              "color": "rgb(17,17,17)",
              "width": 0.5
             },
             "pattern": {
              "fillmode": "overlay",
              "size": 10,
              "solidity": 0.2
             }
            },
            "type": "barpolar"
           }
          ],
          "pie": [
           {
            "automargin": true,
            "type": "pie"
           }
          ]
         },
         "layout": {
          "autotypenumbers": "strict",
          "colorway": [
           "#636efa",
           "#EF553B",
           "#00cc96",
           "#ab63fa",
           "#FFA15A",
           "#19d3f3",
           "#FF6692",
           "#B6E880",
           "#FF97FF",
           "#FECB52"
          ],
          "font": {
           "color": "#f2f5fa"
          },
          "hovermode": "closest",
          "hoverlabel": {
           "align": "left"
          },
          "paper_bgcolor": "rgb(17,17,17)",
          "plot_bgcolor": "rgb(17,17,17)",
          "polar": {
           "bgcolor": "rgb(17,17,17)",
           "angularaxis": {
            "gridcolor": "#506784",
            "linecolor": "#506784",
            "ticks": ""
           },
           "radialaxis": {
            "gridcolor": "#506784",
            "linecolor": "#506784",
            "ticks": ""
           }
          },
          "ternary": {
           "bgcolor": "rgb(17,17,17)",
           "aaxis": {
            "gridcolor": "#506784",
            "linecolor": "#506784",
            "ticks": ""
           },
           "baxis": {
            "gridcolor": "#506784",
            "linecolor": "#506784",
            "ticks": ""
           },
           "caxis": {
            "gridcolor": "#506784",
            "linecolor": "#506784",
            "ticks": ""
           }
          },
          "coloraxis": {
           "colorbar": {
            "outlinewidth": 0,
            "ticks": ""
           }
          },
          "colorscale": {
           "sequential": [
            [
             0.0,
             "#0d0887"
            ],
            [
             0.1111111111111111,
             "#46039f"
            ],
            [
             0.2222222222222222,
             "#7201a8"
            ],
            [
             0.3333333333333333,
             "#9c179e"
            ],
            [
             0.4444444444444444,
             "#bd3786"
            ],
            [
             0.5555555555555556,
             "#d8576b"
            ],
            [
             0.6666666666666666,
             "#ed7953"
            ],
            [
             0.7777777777777778,
             "#fb9f3a"
            ],
            [
             0.8888888888888888,
             "#fdca26"
            ],
            [
             1.0,
             "#f0f921"
            ]
           ],
           "sequentialminus": [
            [
             0.0,
             "#0d0887"
            ],
            [
             0.1111111111111111,
             "#46039f"
            ],
            [
             0.2222222222222222,
             "#7201a8"
            ],
            [
             0.3333333333333333,
             "#9c179e"
            ],
            [
             0.4444444444444444,
             "#bd3786"
            ],
            [
             0.5555555555555556,
             "#d8576b"
            ],
            [
             0.6666666666666666,
             "#ed7953"
            ],
            [
             0.7777777777777778,
             "#fb9f3a"
            ],
            [
             0.8888888888888888,
             "#fdca26"
            ],
            [
             1.0,
             "#f0f921"
            ]
           ],
           "diverging": [
            [
             0,
             "#8e0152"
            ],
            [
             0.1,
             "#c51b7d"
            ],
            [
             0.2,
             "#de77ae"
            ],
            [
             0.3,
             "#f1b6da"
            ],
            [
             0.4,
             "#fde0ef"
            ],
            [
             0.5,
             "#f7f7f7"
            ],
            [
             0.6,
             "#e6f5d0"
            ],
            [
             0.7,
             "#b8e186"
            ],
            [
             0.8,
             "#7fbc41"
            ],
            [
             0.9,
             "#4d9221"
            ],
            [
             1,
             "#276419"
            ]
           ]
          },
          "xaxis": {
           "gridcolor": "#283442",
           "linecolor": "#506784",
           "ticks": "",
           "title": {
            "standoff": 15
           },
           "zerolinecolor": "#283442",
           "automargin": true,
           "zerolinewidth": 2
          },
          "yaxis": {
           "gridcolor": "#283442",
           "linecolor": "#506784",
           "ticks": "",
           "title": {
            "standoff": 15
           },
           "zerolinecolor": "#283442",
           "automargin": true,
           "zerolinewidth": 2
          },
          "scene": {
           "xaxis": {
            "backgroundcolor": "rgb(17,17,17)",
            "gridcolor": "#506784",
            "linecolor": "#506784",
            "showbackground": true,
            "ticks": "",
            "zerolinecolor": "#C8D4E3",
            "gridwidth": 2
           },
           "yaxis": {
            "backgroundcolor": "rgb(17,17,17)",
            "gridcolor": "#506784",
            "linecolor": "#506784",
            "showbackground": true,
            "ticks": "",
            "zerolinecolor": "#C8D4E3",
            "gridwidth": 2
           },
           "zaxis": {
            "backgroundcolor": "rgb(17,17,17)",
            "gridcolor": "#506784",
            "linecolor": "#506784",
            "showbackground": true,
            "ticks": "",
            "zerolinecolor": "#C8D4E3",
            "gridwidth": 2
           }
          },
          "shapedefaults": {
           "line": {
            "color": "#f2f5fa"
           }
          },
          "annotationdefaults": {
           "arrowcolor": "#f2f5fa",
           "arrowhead": 0,
           "arrowwidth": 1
          },
          "geo": {
           "bgcolor": "rgb(17,17,17)",
           "landcolor": "rgb(17,17,17)",
           "subunitcolor": "#506784",
           "showland": true,
           "showlakes": true,
           "lakecolor": "rgb(17,17,17)"
          },
          "title": {
           "x": 0.05
          },
          "updatemenudefaults": {
           "bgcolor": "#506784",
           "borderwidth": 0
          },
          "sliderdefaults": {
           "bgcolor": "#C8D4E3",
           "borderwidth": 1,
           "bordercolor": "rgb(17,17,17)",
           "tickwidth": 0
          },
          "mapbox": {
           "style": "dark"
          }
         }
        },
        "xaxis": {
         "anchor": "y",
         "domain": [
          0.0,
          1.0
         ],
         "title": {
          "text": "PC1"
         }
        },
        "yaxis": {
         "anchor": "x",
         "domain": [
          0.0,
          1.0
         ],
         "title": {
          "text": "PC2"
         }
        },
        "legend": {
         "tracegroupgap": 0
        },
        "margin": {
         "t": 60
        }
       },
       "config": {
        "plotlyServerURL": "https://plot.ly"
       }
      },
      "text/html": [
       "<div>                            <div id=\"e5d80a8d-03aa-421c-99c1-517eb1ebf8b0\" class=\"plotly-graph-div\" style=\"height:525px; width:100%;\"></div>            <script type=\"text/javascript\">                require([\"plotly\"], function(Plotly) {                    window.PLOTLYENV=window.PLOTLYENV || {};                                    if (document.getElementById(\"e5d80a8d-03aa-421c-99c1-517eb1ebf8b0\")) {                    Plotly.newPlot(                        \"e5d80a8d-03aa-421c-99c1-517eb1ebf8b0\",                        [{\"hovertemplate\":\"%{text}\",\"legendgroup\":\"\",\"marker\":{\"color\":\"#636efa\",\"symbol\":\"circle\"},\"mode\":\"markers\",\"name\":\"\",\"orientation\":\"v\",\"showlegend\":false,\"x\":[-0.40302489578340106,0.3291829047741104,-0.4616931787323387,-0.17060634001470354,0.07061323110847306,-0.16820866723670536,0.27761309221750263,0.33634226122235655,-0.03804333036845864,-0.27624749264892323,0.3190145399298492,0.04827948915141067,0.4466634844042503,0.08559223457188936,-0.054284217978206595,0.2904871174309407,0.19829925380635038,0.16831435273745887,0.206250874549478,0.15329527936480924,0.28579954355267656,0.3681067255773929,-0.09530544112254058,-0.15995715924827925,-0.4457197763083718,0.21923039602127714,0.056578973839849,0.1628259594338488,-0.20915060962322718,0.2732333630163426,0.08308278827951843,0.13424780464396768,-0.2897247944773893,-0.0795412600822849,0.2181197596859632,-0.33085289785769,0.058031513686117364,0.009844563495059022,-0.3892360940801646,0.2325504966140588,-0.46809693905758953,-0.3791768329619014,-0.7689674703538012,0.09642857244259373,-0.010794252990900643,-0.5719529433730133,-0.06769417837340508,-0.08107667686272224,0.28653104031099685,-0.2529895640081107,-0.19485780690942955,0.16023872062757816,0.34545142775699333,0.07272009742312524,0.47891838505677864,0.10517050904410441,0.33083951706739056,0.2776601499557023,0.34800426121311157,-0.18544931827607458,-0.10701427891237536,-0.010869094339011065,-0.2639397889809132,0.2515248171190183,-0.8242130075429821,-0.09915796897359341,-0.21268727309745472,0.34371264888471176,-1.031188896622914,0.21266249035140694,-0.14056729195324658,0.26979831793631104,0.2287688732252222,-0.01291957462006943,0.22025834988972148,-0.2409353561443549,0.17707169541047363,-0.08164873358876057,0.07915536303842385,0.18956007613321102,0.08074317180017765,0.1348866830421791,0.11858430676795151,0.121747873317124,-0.23361405660271495,-0.22552234731868315,-0.15232697663312744,-0.2507159519428924,0.20358352736203966,-0.3395451092981402,0.10264070719446972,-0.12430453870540892,0.10164756435956046,0.06856030384606582,0.185626878571588,0.1456260175077071,-0.15565244450566118,0.09785632537078248,0.28306661631165997,-0.09117046294119657],\"xaxis\":\"x\",\"y\":[-0.3225691264936677,0.1293837701598824,0.4745025187331402,0.1098834377809838,-0.06326655006711915,0.01624378907546259,0.18479552844009595,-0.01755213050248522,-0.13847199271560956,-0.39735864406514065,-0.08565438743000697,0.2048054743328589,-0.007929336331444659,-0.44333322154156096,-0.019151817708607466,0.2780171188035684,-0.067470324296556,-0.3896107551152035,-0.33888022386531075,0.06999252152051771,0.14369129847943174,-0.018014391343010028,-0.5661631678283134,0.022435034546823662,-0.2841436002023587,-0.17169879918612774,0.12006673673287199,-0.3316234847073497,-0.17975040361188643,-0.03435421615264486,-0.05620706962394442,-0.004970017541022664,-0.42500532260081125,-0.07949506857860214,0.0028900720349923636,-0.0254892548048285,0.030825347807611203,-0.0005788899153862936,-0.0707294707241155,0.25673960901983617,-0.24812470379608526,0.3648622366299875,-0.06272676635870597,0.13154461821413732,0.28984582141862125,-0.023657976075062037,-0.016377622556794202,0.3787975686220797,0.2856043061830804,0.41655218697583263,0.1178824978535532,0.1742198087591968,-0.006641831286472166,0.04532923924966775,0.19535504254706315,0.2572282979912356,0.2652334453257734,0.0032003837641646493,0.16608353868025505,-0.22290295630161333,-0.1621478794193964,-0.26210145752909886,0.16258465800046634,0.13034983600131334,0.07880092448833848,0.35450831674759764,0.22259088109201924,-0.10251695778230532,0.4137209053681222,-0.0005051260354415055,0.3313311606819942,0.0022051346634044955,0.2968928974490034,-0.5709664080203376,0.22948215133840338,0.07235928697420552,0.03889036016628872,0.015382595865707505,0.38273002546226853,0.3371278641183659,-0.1886055943771491,-0.020458675753862038,-0.055225938844931516,-0.6082621481662183,-0.3505232240425064,0.11561562884888793,-0.06402949587765841,0.1295063273730071,0.2335019733275846,-0.10380962657645451,-0.306977225571491,0.2163924396299699,0.17576943052046384,-0.35085103810693086,-0.0963679003015385,-0.3119294491989885,0.2915675718011228,-0.24512585987488186,-0.22385532429011576,-0.22315876650409688],\"yaxis\":\"y\",\"type\":\"scatter\",\"text\":[\"Purple Rain - Prince\",\"Thriller - Michael Jackson\",\"Africa - TOTO\",\"Everybody Wants To Rule The World - Tears For Fears\",\"Master Of Puppets - Metallica\",\"Under Pressure - Remastered 2011 - Queen\",\"Take on Me - a-ha\",\"Livin' On A Prayer - Bon Jovi\",\"Don't Stop Believin' - Journey\",\"With Or Without You - U2\",\"Smells Like Teen Spirit - Nirvana\",\"No Diggity - Blackstreet\",\"Bye Bye Bye - *NSYNC\",\"Thunderstruck - AC\\u002fDC\",\"I Want It That Way - Backstreet Boys\",\"The Sign - Ace of Base\",\"Torn - Natalie Imbruglia\",\"Wonderwall - Oasis\",\"Bitter Sweet Symphony - The Verve\",\"Say My Name - Destiny's Child\",\"Poker Face - Lady Gaga\",\"I Bet You Look Good On The Dancefloor - Arctic Monkeys\",\"Use Somebody - Kings of Leon\",\"Fallin' - Alicia Keys\",\"Beautiful - Christina Aguilera\",\"99 Problems - JAY-Z\",\"Crazy - Gnarls Barkley\",\"Paper Planes - M.I.A.\",\"Seven Nation Army - The White Stripes\",\"Rehab - Amy Winehouse\",\"Rolling in the Deep - Adele\",\"Alright - Kendrick Lamar\",\"Runaway - Kanye West\",\"thank u, next - Ariana Grande\",\"I Like It - Cardi B\",\"Royals - Lorde\",\"Hotline Bling - Drake\",\"Old Town Road - Lil Nas X\",\"Shallow - Lady Gaga\",\"Get Lucky (Radio Edit) [feat. Pharrell Williams and Nile Rodgers] - Daft Punk\",\"Bohemian Rhapsody - Queen\",\"Stayin' Alive - Bee Gees\",\"Stairway to Heaven - Remaster - Led Zeppelin\",\"Dancing Queen - ABBA\",\"Dreams - 2004 Remaster - Fleetwood Mac\",\"Time - 2011 Remastered Version - Pink Floyd\",\"Hotel California - 2013 Remaster - Eagles\",\"Superstition - Stevie Wonder\",\"September - Earth, Wind & Fire\",\"Jolene - Dolly Parton\",\"99 Luftballons - Nena\",\"Rock Me Amadeus - Falco\",\"Radio - Rammstein\",\"Hurra die Welt geht unter - K.I.Z\",\"Ding - Seeed\",\"Gasolina - Daddy Yankee\",\"Chantaje (feat. Maluma) - Shakira\",\"Con Calma - Daddy Yankee\",\"Danza Kuduro - Don Omar\",\"Ahora Quien - Marc Anthony\",\"Tourner Dans Le Vide - Indila\",\"Papaoutai - Stromae\",\"Toi jamais - Jeane Manson\",\"Voyage voyage - Desireless\",\"Ne me quitte pas - Jacques Brel\",\"Felicit\\u00e0 - Al Bano And Romina Power\",\"L'italiano - Toto Cutugno\",\"ZITTI E BUONI - M\\u00e5neskin\",\"Nel Blu Dipinto Di Blu - Domenico Modugno\",\"Ciao Ciao - La rappresentante di lista\",\"The Message - Grandmaster Flash\",\"Nuthin' But A \\\"G\\\" Thang - Dr. Dre\",\"Fuck Tha Police - N.W.A.\",\"Lose Yourself - Eminem\",\"In Da Club - 50 Cent\",\"Tainted Love - Soft Cell\",\"Hungry Like the Wolf - 2009 Remaster - Duran Duran\",\"I Ran (So Far Away) - A Flock Of Seagulls\",\"Just Can't Get Enough - Depeche Mode\",\"Don't You Want Me - The Human League\",\"Crazy Train - Ozzy Osbourne\",\"Immigrant Song - Remaster - Led Zeppelin\",\"Enter Sandman - Metallica\",\"Ace of Spades - Mot\\u00f6rhead\",\"Holy Diver - Dio\",\"Redbone - Childish Gambino\",\"Cater 2 U - Destiny's Child\",\"Special Affair - The Internet\",\"Formation - Beyonc\\u00e9\",\"Needed Me - Rihanna\",\"Lean On (feat. M\\u00d8 & DJ Snake) - Major Lazer\",\"Closer - The Chainsmokers\",\"Rockabye (feat. Sean Paul & Anne-Marie) - Clean Bandit\",\"Titanium (feat. Sia) - David Guetta\",\"Wake Me Up - Avicii\",\"Boulevard of Broken Dreams - Green Day\",\"Somebody That I Used To Know - Gotye\",\"In the End - Linkin Park\",\"Sunday Bloody Sunday - U2\",\"Viva La Vida - Coldplay\"]}],                        {\"template\":{\"data\":{\"histogram2dcontour\":[{\"type\":\"histogram2dcontour\",\"colorbar\":{\"outlinewidth\":0,\"ticks\":\"\"},\"colorscale\":[[0.0,\"#0d0887\"],[0.1111111111111111,\"#46039f\"],[0.2222222222222222,\"#7201a8\"],[0.3333333333333333,\"#9c179e\"],[0.4444444444444444,\"#bd3786\"],[0.5555555555555556,\"#d8576b\"],[0.6666666666666666,\"#ed7953\"],[0.7777777777777778,\"#fb9f3a\"],[0.8888888888888888,\"#fdca26\"],[1.0,\"#f0f921\"]]}],\"choropleth\":[{\"type\":\"choropleth\",\"colorbar\":{\"outlinewidth\":0,\"ticks\":\"\"}}],\"histogram2d\":[{\"type\":\"histogram2d\",\"colorbar\":{\"outlinewidth\":0,\"ticks\":\"\"},\"colorscale\":[[0.0,\"#0d0887\"],[0.1111111111111111,\"#46039f\"],[0.2222222222222222,\"#7201a8\"],[0.3333333333333333,\"#9c179e\"],[0.4444444444444444,\"#bd3786\"],[0.5555555555555556,\"#d8576b\"],[0.6666666666666666,\"#ed7953\"],[0.7777777777777778,\"#fb9f3a\"],[0.8888888888888888,\"#fdca26\"],[1.0,\"#f0f921\"]]}],\"heatmap\":[{\"type\":\"heatmap\",\"colorbar\":{\"outlinewidth\":0,\"ticks\":\"\"},\"colorscale\":[[0.0,\"#0d0887\"],[0.1111111111111111,\"#46039f\"],[0.2222222222222222,\"#7201a8\"],[0.3333333333333333,\"#9c179e\"],[0.4444444444444444,\"#bd3786\"],[0.5555555555555556,\"#d8576b\"],[0.6666666666666666,\"#ed7953\"],[0.7777777777777778,\"#fb9f3a\"],[0.8888888888888888,\"#fdca26\"],[1.0,\"#f0f921\"]]}],\"heatmapgl\":[{\"type\":\"heatmapgl\",\"colorbar\":{\"outlinewidth\":0,\"ticks\":\"\"},\"colorscale\":[[0.0,\"#0d0887\"],[0.1111111111111111,\"#46039f\"],[0.2222222222222222,\"#7201a8\"],[0.3333333333333333,\"#9c179e\"],[0.4444444444444444,\"#bd3786\"],[0.5555555555555556,\"#d8576b\"],[0.6666666666666666,\"#ed7953\"],[0.7777777777777778,\"#fb9f3a\"],[0.8888888888888888,\"#fdca26\"],[1.0,\"#f0f921\"]]}],\"contourcarpet\":[{\"type\":\"contourcarpet\",\"colorbar\":{\"outlinewidth\":0,\"ticks\":\"\"}}],\"contour\":[{\"type\":\"contour\",\"colorbar\":{\"outlinewidth\":0,\"ticks\":\"\"},\"colorscale\":[[0.0,\"#0d0887\"],[0.1111111111111111,\"#46039f\"],[0.2222222222222222,\"#7201a8\"],[0.3333333333333333,\"#9c179e\"],[0.4444444444444444,\"#bd3786\"],[0.5555555555555556,\"#d8576b\"],[0.6666666666666666,\"#ed7953\"],[0.7777777777777778,\"#fb9f3a\"],[0.8888888888888888,\"#fdca26\"],[1.0,\"#f0f921\"]]}],\"surface\":[{\"type\":\"surface\",\"colorbar\":{\"outlinewidth\":0,\"ticks\":\"\"},\"colorscale\":[[0.0,\"#0d0887\"],[0.1111111111111111,\"#46039f\"],[0.2222222222222222,\"#7201a8\"],[0.3333333333333333,\"#9c179e\"],[0.4444444444444444,\"#bd3786\"],[0.5555555555555556,\"#d8576b\"],[0.6666666666666666,\"#ed7953\"],[0.7777777777777778,\"#fb9f3a\"],[0.8888888888888888,\"#fdca26\"],[1.0,\"#f0f921\"]]}],\"mesh3d\":[{\"type\":\"mesh3d\",\"colorbar\":{\"outlinewidth\":0,\"ticks\":\"\"}}],\"scatter\":[{\"marker\":{\"line\":{\"color\":\"#283442\"}},\"type\":\"scatter\"}],\"parcoords\":[{\"type\":\"parcoords\",\"line\":{\"colorbar\":{\"outlinewidth\":0,\"ticks\":\"\"}}}],\"scatterpolargl\":[{\"type\":\"scatterpolargl\",\"marker\":{\"colorbar\":{\"outlinewidth\":0,\"ticks\":\"\"}}}],\"bar\":[{\"error_x\":{\"color\":\"#f2f5fa\"},\"error_y\":{\"color\":\"#f2f5fa\"},\"marker\":{\"line\":{\"color\":\"rgb(17,17,17)\",\"width\":0.5},\"pattern\":{\"fillmode\":\"overlay\",\"size\":10,\"solidity\":0.2}},\"type\":\"bar\"}],\"scattergeo\":[{\"type\":\"scattergeo\",\"marker\":{\"colorbar\":{\"outlinewidth\":0,\"ticks\":\"\"}}}],\"scatterpolar\":[{\"type\":\"scatterpolar\",\"marker\":{\"colorbar\":{\"outlinewidth\":0,\"ticks\":\"\"}}}],\"histogram\":[{\"marker\":{\"pattern\":{\"fillmode\":\"overlay\",\"size\":10,\"solidity\":0.2}},\"type\":\"histogram\"}],\"scattergl\":[{\"marker\":{\"line\":{\"color\":\"#283442\"}},\"type\":\"scattergl\"}],\"scatter3d\":[{\"type\":\"scatter3d\",\"line\":{\"colorbar\":{\"outlinewidth\":0,\"ticks\":\"\"}},\"marker\":{\"colorbar\":{\"outlinewidth\":0,\"ticks\":\"\"}}}],\"scattermapbox\":[{\"type\":\"scattermapbox\",\"marker\":{\"colorbar\":{\"outlinewidth\":0,\"ticks\":\"\"}}}],\"scatterternary\":[{\"type\":\"scatterternary\",\"marker\":{\"colorbar\":{\"outlinewidth\":0,\"ticks\":\"\"}}}],\"scattercarpet\":[{\"type\":\"scattercarpet\",\"marker\":{\"colorbar\":{\"outlinewidth\":0,\"ticks\":\"\"}}}],\"carpet\":[{\"aaxis\":{\"endlinecolor\":\"#A2B1C6\",\"gridcolor\":\"#506784\",\"linecolor\":\"#506784\",\"minorgridcolor\":\"#506784\",\"startlinecolor\":\"#A2B1C6\"},\"baxis\":{\"endlinecolor\":\"#A2B1C6\",\"gridcolor\":\"#506784\",\"linecolor\":\"#506784\",\"minorgridcolor\":\"#506784\",\"startlinecolor\":\"#A2B1C6\"},\"type\":\"carpet\"}],\"table\":[{\"cells\":{\"fill\":{\"color\":\"#506784\"},\"line\":{\"color\":\"rgb(17,17,17)\"}},\"header\":{\"fill\":{\"color\":\"#2a3f5f\"},\"line\":{\"color\":\"rgb(17,17,17)\"}},\"type\":\"table\"}],\"barpolar\":[{\"marker\":{\"line\":{\"color\":\"rgb(17,17,17)\",\"width\":0.5},\"pattern\":{\"fillmode\":\"overlay\",\"size\":10,\"solidity\":0.2}},\"type\":\"barpolar\"}],\"pie\":[{\"automargin\":true,\"type\":\"pie\"}]},\"layout\":{\"autotypenumbers\":\"strict\",\"colorway\":[\"#636efa\",\"#EF553B\",\"#00cc96\",\"#ab63fa\",\"#FFA15A\",\"#19d3f3\",\"#FF6692\",\"#B6E880\",\"#FF97FF\",\"#FECB52\"],\"font\":{\"color\":\"#f2f5fa\"},\"hovermode\":\"closest\",\"hoverlabel\":{\"align\":\"left\"},\"paper_bgcolor\":\"rgb(17,17,17)\",\"plot_bgcolor\":\"rgb(17,17,17)\",\"polar\":{\"bgcolor\":\"rgb(17,17,17)\",\"angularaxis\":{\"gridcolor\":\"#506784\",\"linecolor\":\"#506784\",\"ticks\":\"\"},\"radialaxis\":{\"gridcolor\":\"#506784\",\"linecolor\":\"#506784\",\"ticks\":\"\"}},\"ternary\":{\"bgcolor\":\"rgb(17,17,17)\",\"aaxis\":{\"gridcolor\":\"#506784\",\"linecolor\":\"#506784\",\"ticks\":\"\"},\"baxis\":{\"gridcolor\":\"#506784\",\"linecolor\":\"#506784\",\"ticks\":\"\"},\"caxis\":{\"gridcolor\":\"#506784\",\"linecolor\":\"#506784\",\"ticks\":\"\"}},\"coloraxis\":{\"colorbar\":{\"outlinewidth\":0,\"ticks\":\"\"}},\"colorscale\":{\"sequential\":[[0.0,\"#0d0887\"],[0.1111111111111111,\"#46039f\"],[0.2222222222222222,\"#7201a8\"],[0.3333333333333333,\"#9c179e\"],[0.4444444444444444,\"#bd3786\"],[0.5555555555555556,\"#d8576b\"],[0.6666666666666666,\"#ed7953\"],[0.7777777777777778,\"#fb9f3a\"],[0.8888888888888888,\"#fdca26\"],[1.0,\"#f0f921\"]],\"sequentialminus\":[[0.0,\"#0d0887\"],[0.1111111111111111,\"#46039f\"],[0.2222222222222222,\"#7201a8\"],[0.3333333333333333,\"#9c179e\"],[0.4444444444444444,\"#bd3786\"],[0.5555555555555556,\"#d8576b\"],[0.6666666666666666,\"#ed7953\"],[0.7777777777777778,\"#fb9f3a\"],[0.8888888888888888,\"#fdca26\"],[1.0,\"#f0f921\"]],\"diverging\":[[0,\"#8e0152\"],[0.1,\"#c51b7d\"],[0.2,\"#de77ae\"],[0.3,\"#f1b6da\"],[0.4,\"#fde0ef\"],[0.5,\"#f7f7f7\"],[0.6,\"#e6f5d0\"],[0.7,\"#b8e186\"],[0.8,\"#7fbc41\"],[0.9,\"#4d9221\"],[1,\"#276419\"]]},\"xaxis\":{\"gridcolor\":\"#283442\",\"linecolor\":\"#506784\",\"ticks\":\"\",\"title\":{\"standoff\":15},\"zerolinecolor\":\"#283442\",\"automargin\":true,\"zerolinewidth\":2},\"yaxis\":{\"gridcolor\":\"#283442\",\"linecolor\":\"#506784\",\"ticks\":\"\",\"title\":{\"standoff\":15},\"zerolinecolor\":\"#283442\",\"automargin\":true,\"zerolinewidth\":2},\"scene\":{\"xaxis\":{\"backgroundcolor\":\"rgb(17,17,17)\",\"gridcolor\":\"#506784\",\"linecolor\":\"#506784\",\"showbackground\":true,\"ticks\":\"\",\"zerolinecolor\":\"#C8D4E3\",\"gridwidth\":2},\"yaxis\":{\"backgroundcolor\":\"rgb(17,17,17)\",\"gridcolor\":\"#506784\",\"linecolor\":\"#506784\",\"showbackground\":true,\"ticks\":\"\",\"zerolinecolor\":\"#C8D4E3\",\"gridwidth\":2},\"zaxis\":{\"backgroundcolor\":\"rgb(17,17,17)\",\"gridcolor\":\"#506784\",\"linecolor\":\"#506784\",\"showbackground\":true,\"ticks\":\"\",\"zerolinecolor\":\"#C8D4E3\",\"gridwidth\":2}},\"shapedefaults\":{\"line\":{\"color\":\"#f2f5fa\"}},\"annotationdefaults\":{\"arrowcolor\":\"#f2f5fa\",\"arrowhead\":0,\"arrowwidth\":1},\"geo\":{\"bgcolor\":\"rgb(17,17,17)\",\"landcolor\":\"rgb(17,17,17)\",\"subunitcolor\":\"#506784\",\"showland\":true,\"showlakes\":true,\"lakecolor\":\"rgb(17,17,17)\"},\"title\":{\"x\":0.05},\"updatemenudefaults\":{\"bgcolor\":\"#506784\",\"borderwidth\":0},\"sliderdefaults\":{\"bgcolor\":\"#C8D4E3\",\"borderwidth\":1,\"bordercolor\":\"rgb(17,17,17)\",\"tickwidth\":0},\"mapbox\":{\"style\":\"dark\"}}},\"xaxis\":{\"anchor\":\"y\",\"domain\":[0.0,1.0],\"title\":{\"text\":\"PC1\"}},\"yaxis\":{\"anchor\":\"x\",\"domain\":[0.0,1.0],\"title\":{\"text\":\"PC2\"}},\"legend\":{\"tracegroupgap\":0},\"margin\":{\"t\":60}},                        {\"responsive\": true}                    ).then(function(){\n",
       "                            \n",
       "var gd = document.getElementById('e5d80a8d-03aa-421c-99c1-517eb1ebf8b0');\n",
       "var x = new MutationObserver(function (mutations, observer) {{\n",
       "        var display = window.getComputedStyle(gd).display;\n",
       "        if (!display || display === 'none') {{\n",
       "            console.log([gd, 'removed!']);\n",
       "            Plotly.purge(gd);\n",
       "            observer.disconnect();\n",
       "        }}\n",
       "}});\n",
       "\n",
       "// Listen for the removal of the full notebook cells\n",
       "var notebookContainer = gd.closest('#notebook-container');\n",
       "if (notebookContainer) {{\n",
       "    x.observe(notebookContainer, {childList: true});\n",
       "}}\n",
       "\n",
       "// Listen for the clearing of the current output cell\n",
       "var outputEl = gd.closest('.output');\n",
       "if (outputEl) {{\n",
       "    x.observe(outputEl, {childList: true});\n",
       "}}\n",
       "\n",
       "                        })                };                });            </script>        </div>"
      ]
     },
     "metadata": {},
     "output_type": "display_data"
    }
   ],
   "execution_count": 56
  },
  {
   "metadata": {},
   "cell_type": "code",
   "outputs": [],
   "execution_count": null,
   "source": "",
   "id": "8cb7ac4eb298ce04"
  }
 ],
 "metadata": {
  "kernelspec": {
   "display_name": "Python 3",
   "language": "python",
   "name": "python3"
  },
  "language_info": {
   "codemirror_mode": {
    "name": "ipython",
    "version": 2
   },
   "file_extension": ".py",
   "mimetype": "text/x-python",
   "name": "python",
   "nbconvert_exporter": "python",
   "pygments_lexer": "ipython2",
   "version": "2.7.6"
  }
 },
 "nbformat": 4,
 "nbformat_minor": 5
}
