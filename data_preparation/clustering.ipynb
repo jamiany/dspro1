{
 "cells": [
  {
   "cell_type": "code",
   "id": "initial_id",
   "metadata": {
    "collapsed": true,
    "ExecuteTime": {
     "end_time": "2024-12-26T10:46:56.968099Z",
     "start_time": "2024-12-26T10:46:54.735854Z"
    }
   },
   "source": [
    "from data_preparation.data_extraction import get_tracks\n",
    "import itertools\n",
    "import numpy as np\n",
    "import pandas as pd\n",
    "\n",
    "from sklearn import cluster\n",
    "from sklearn import mixture\n",
    "from sklearn_som.som import SOM\n",
    "from minisom import MiniSom\n",
    "from skfuzzy import cmeans\n",
    "from sklearn.metrics import silhouette_score\n",
    "\n",
    "import warnings\n",
    "\n",
    "#warnings.filterwarnings(action='once')\n",
    "warnings.filterwarnings('ignore')"
   ],
   "outputs": [
    {
     "name": "stderr",
     "output_type": "stream",
     "text": [
      "/Users/tamino/Projects/hslu/dspro/dspro1/venv/lib/python3.9/site-packages/urllib3/__init__.py:35: NotOpenSSLWarning: urllib3 v2 only supports OpenSSL 1.1.1+, currently the 'ssl' module is compiled with 'LibreSSL 2.8.3'. See: https://github.com/urllib3/urllib3/issues/3020\n",
      "  warnings.warn(\n",
      "/Users/tamino/Projects/hslu/dspro/dspro1/data_preparation/data_extraction.py:8: DtypeWarning: Columns (2,3,4,5) have mixed types. Specify dtype option on import or set low_memory=False.\n",
      "  df = pd.read_csv(filepath_or_buffer='data.csv', sep=',', index_col=0)\n"
     ]
    }
   ],
   "execution_count": 1
  },
  {
   "metadata": {
    "ExecuteTime": {
     "end_time": "2024-12-26T10:46:57.893080Z",
     "start_time": "2024-12-26T10:46:56.969098Z"
    }
   },
   "cell_type": "code",
   "source": [
    "df = get_tracks('5Rh7ikX5dteMXfc8tmeBJy')\n",
    "\n",
    "df_features = df.drop(columns=['id', 'name', 'artist', 'album', 'release_date'])"
   ],
   "id": "bdb3db9419a21308",
   "outputs": [],
   "execution_count": 2
  },
  {
   "metadata": {
    "ExecuteTime": {
     "end_time": "2024-12-26T10:46:57.896082Z",
     "start_time": "2024-12-26T10:46:57.893859Z"
    }
   },
   "cell_type": "code",
   "source": "performance_comparison = pd.DataFrame(columns=['algorithm', 'parameters', 'cluster_count', 'silhouette_score'])",
   "id": "da236962e67ede85",
   "outputs": [],
   "execution_count": 3
  },
  {
   "metadata": {
    "ExecuteTime": {
     "end_time": "2024-12-26T10:46:58.028830Z",
     "start_time": "2024-12-26T10:46:57.897416Z"
    }
   },
   "cell_type": "code",
   "source": [
    "# K-Means\n",
    "k_parameters = np.arange(2, 16, 1)\n",
    "\n",
    "for k in k_parameters:\n",
    "    model = cluster.KMeans(\n",
    "        n_clusters=k,\n",
    "        random_state=0,\n",
    "    )\n",
    "    model.fit(df_features)\n",
    "\n",
    "    labels = model.labels_\n",
    "    ss = silhouette_score(df_features, labels)\n",
    "\n",
    "    performance_comparison.loc[len(performance_comparison)] = ['kmeans', [k], len(set(labels)), ss]"
   ],
   "id": "58a118cece0e17bc",
   "outputs": [],
   "execution_count": 4
  },
  {
   "metadata": {
    "ExecuteTime": {
     "end_time": "2024-12-26T10:46:58.335024Z",
     "start_time": "2024-12-26T10:46:58.035815Z"
    }
   },
   "cell_type": "code",
   "source": [
    "# Affinity propagation\n",
    "damping_parameters = np.linspace(0.5, 0.9, 5)\n",
    "preference_parameters = np.arange(-50, 0, 5)\n",
    "parameter_combinations = list(itertools.product(damping_parameters, preference_parameters))\n",
    "\n",
    "for parameters in parameter_combinations:\n",
    "    damping = parameters[0]\n",
    "    preference = parameters[1]\n",
    "    \n",
    "    model = cluster.AffinityPropagation(\n",
    "        damping=damping,\n",
    "        preference=preference,\n",
    "        affinity='euclidean',\n",
    "        max_iter=500,\n",
    "        random_state=0,\n",
    "    )\n",
    "    model.fit(df_features)\n",
    "\n",
    "    labels = model.labels_\n",
    "    ss = silhouette_score(df_features, labels)\n",
    "\n",
    "    performance_comparison.loc[len(performance_comparison)] = ['affinity_propagation', [damping, preference], len(set(labels)), ss]"
   ],
   "id": "359d9ae23e801d5f",
   "outputs": [],
   "execution_count": 5
  },
  {
   "metadata": {
    "ExecuteTime": {
     "end_time": "2024-12-26T10:46:58.411391Z",
     "start_time": "2024-12-26T10:46:58.335708Z"
    }
   },
   "cell_type": "code",
   "source": [
    "# Agglomerative Clustering\n",
    "n_parameters = np.arange(2, 16, 1)\n",
    "linkage_parameters = ['ward', 'complete', 'average', 'single']\n",
    "parameter_combinations = list(itertools.product(n_parameters, linkage_parameters))\n",
    "\n",
    "for parameters in parameter_combinations:\n",
    "    n = parameters[0]\n",
    "    linkage = parameters[1]\n",
    "\n",
    "    model = cluster.AgglomerativeClustering(\n",
    "        n_clusters=n,\n",
    "        linkage=linkage,\n",
    "        metric='euclidean',\n",
    "    )\n",
    "    model.fit(df_features)\n",
    "\n",
    "    labels = model.labels_\n",
    "    ss = silhouette_score(df_features, labels)\n",
    "\n",
    "    performance_comparison.loc[len(performance_comparison)] = ['agglomerative_clustering', [n, linkage], len(set(labels)), ss]"
   ],
   "id": "97fee6c61c82ee39",
   "outputs": [],
   "execution_count": 6
  },
  {
   "metadata": {
    "ExecuteTime": {
     "end_time": "2024-12-26T10:46:58.661603Z",
     "start_time": "2024-12-26T10:46:58.412051Z"
    }
   },
   "cell_type": "code",
   "source": [
    "# DBSCAN\n",
    "eps_parameters = np.linspace(0.1, 0.9, 9)\n",
    "min_samples_parameters = np.arange(1, 11)\n",
    "algorithm_parameters = ['auto', 'ball_tree', 'kd_tree', 'brute']\n",
    "parameter_combinations = list(itertools.product(eps_parameters, min_samples_parameters, algorithm_parameters))\n",
    "\n",
    "for parameters in parameter_combinations:\n",
    "    eps = parameters[0]\n",
    "    min_samples = parameters[1]\n",
    "    algorithm = parameters[2]\n",
    "\n",
    "    model = cluster.DBSCAN(\n",
    "        eps=eps,\n",
    "        min_samples=min_samples,\n",
    "        algorithm=algorithm,\n",
    "        metric='euclidean',\n",
    "    )\n",
    "    model.fit(df_features)\n",
    "\n",
    "    labels = model.labels_\n",
    "    \n",
    "    if len(set(labels)) == len(labels) or len(set(labels)) == 1:\n",
    "        continue\n",
    "    else:\n",
    "        ss = silhouette_score(df_features, labels)\n",
    "\n",
    "    performance_comparison.loc[len(performance_comparison)] = ['dbscan', [eps, min_samples, algorithm], len(set(labels)), ss]"
   ],
   "id": "5e67acf11f9fad77",
   "outputs": [],
   "execution_count": 7
  },
  {
   "metadata": {
    "ExecuteTime": {
     "end_time": "2024-12-26T10:47:12.757124Z",
     "start_time": "2024-12-26T10:46:58.662464Z"
    }
   },
   "cell_type": "code",
   "source": [
    "# Spectral Clustering\n",
    "n_cluster_parameters = np.arange(2, 16)\n",
    "eigen_solver_parameters = ['arpack', 'lobpcg', 'amg']\n",
    "n_component_parameters = np.arange(1, len(df_features.columns)+1)\n",
    "# only for RBF\n",
    "rbf_affinity_parameters = ['rbf']\n",
    "gamma_parameters = np.linspace(0.5, 2, 16)\n",
    "# only for NON RBF\n",
    "non_rbf_affinity_parameters = ['nearest_neighbors', 'rbf', 'precomputed', 'precomputed_nearest_neighbors']\n",
    "n_neighbors_parameters = np.arange(5, 21)\n",
    "\n",
    "rbf_parameter_combinations = list(itertools.product(n_cluster_parameters, eigen_solver_parameters, n_component_parameters, rbf_affinity_parameters, gamma_parameters))\n",
    "non_rbf_parameter_combinations = list(itertools.product(n_cluster_parameters, eigen_solver_parameters, n_component_parameters, non_rbf_affinity_parameters, n_neighbors_parameters))\n",
    "\n",
    "parameter_combinations = rbf_parameter_combinations + non_rbf_parameter_combinations\n",
    "\n",
    "for parameters in parameter_combinations:\n",
    "    n_clusters = parameters[0]\n",
    "    eigen_solver = parameters[1]\n",
    "    n_components = parameters[2]\n",
    "    affinity = parameters[3]\n",
    "    gamma = 1.0 # default\n",
    "    n_neighbors = 10 # default\n",
    "\n",
    "    if affinity == 'rbf':\n",
    "        gamma = parameters[4]\n",
    "    else:\n",
    "        n_neighbors = parameters[4]\n",
    "\n",
    "    model = cluster.SpectralClustering(\n",
    "        n_clusters=n_clusters,\n",
    "        eigen_solver=eigen_solver,\n",
    "        n_components=n_components,\n",
    "        affinity=affinity,\n",
    "        gamma=gamma,\n",
    "        n_neighbors=n_neighbors,\n",
    "        random_state=0,\n",
    "    )\n",
    "    model.fit(df_features)\n",
    "\n",
    "    labels = model.labels_\n",
    "    # model.fit_predict(data)\n",
    "    \n",
    "    ss = silhouette_score(df_features, labels)\n",
    "\n",
    "    performance_comparison.loc[len(performance_comparison)] = ['spectral_clustering', [n_clusters, eigen_solver, n_components, affinity, gamma, n_neighbors], len(set(labels)), ss]"
   ],
   "id": "38a732ae5805fd97",
   "outputs": [
    {
     "ename": "ValueError",
     "evalue": "",
     "output_type": "error",
     "traceback": [
      "\u001B[0;31m---------------------------------------------------------------------------\u001B[0m",
      "\u001B[0;31mValueError\u001B[0m                                Traceback (most recent call last)",
      "Cell \u001B[0;32mIn[8], line 39\u001B[0m\n\u001B[1;32m     28\u001B[0m     n_neighbors \u001B[38;5;241m=\u001B[39m parameters[\u001B[38;5;241m4\u001B[39m]\n\u001B[1;32m     30\u001B[0m model \u001B[38;5;241m=\u001B[39m cluster\u001B[38;5;241m.\u001B[39mSpectralClustering(\n\u001B[1;32m     31\u001B[0m     n_clusters\u001B[38;5;241m=\u001B[39mn_clusters,\n\u001B[1;32m     32\u001B[0m     eigen_solver\u001B[38;5;241m=\u001B[39meigen_solver,\n\u001B[0;32m   (...)\u001B[0m\n\u001B[1;32m     37\u001B[0m     random_state\u001B[38;5;241m=\u001B[39m\u001B[38;5;241m0\u001B[39m,\n\u001B[1;32m     38\u001B[0m )\n\u001B[0;32m---> 39\u001B[0m \u001B[43mmodel\u001B[49m\u001B[38;5;241;43m.\u001B[39;49m\u001B[43mfit\u001B[49m\u001B[43m(\u001B[49m\u001B[43mdf_features\u001B[49m\u001B[43m)\u001B[49m\n\u001B[1;32m     41\u001B[0m labels \u001B[38;5;241m=\u001B[39m model\u001B[38;5;241m.\u001B[39mlabels_\n\u001B[1;32m     42\u001B[0m \u001B[38;5;66;03m# model.fit_predict(data)\u001B[39;00m\n",
      "File \u001B[0;32m~/Projects/hslu/dspro/dspro1/venv/lib/python3.9/site-packages/sklearn/base.py:1473\u001B[0m, in \u001B[0;36m_fit_context.<locals>.decorator.<locals>.wrapper\u001B[0;34m(estimator, *args, **kwargs)\u001B[0m\n\u001B[1;32m   1466\u001B[0m     estimator\u001B[38;5;241m.\u001B[39m_validate_params()\n\u001B[1;32m   1468\u001B[0m \u001B[38;5;28;01mwith\u001B[39;00m config_context(\n\u001B[1;32m   1469\u001B[0m     skip_parameter_validation\u001B[38;5;241m=\u001B[39m(\n\u001B[1;32m   1470\u001B[0m         prefer_skip_nested_validation \u001B[38;5;129;01mor\u001B[39;00m global_skip_validation\n\u001B[1;32m   1471\u001B[0m     )\n\u001B[1;32m   1472\u001B[0m ):\n\u001B[0;32m-> 1473\u001B[0m     \u001B[38;5;28;01mreturn\u001B[39;00m \u001B[43mfit_method\u001B[49m\u001B[43m(\u001B[49m\u001B[43mestimator\u001B[49m\u001B[43m,\u001B[49m\u001B[43m \u001B[49m\u001B[38;5;241;43m*\u001B[39;49m\u001B[43margs\u001B[49m\u001B[43m,\u001B[49m\u001B[43m \u001B[49m\u001B[38;5;241;43m*\u001B[39;49m\u001B[38;5;241;43m*\u001B[39;49m\u001B[43mkwargs\u001B[49m\u001B[43m)\u001B[49m\n",
      "File \u001B[0;32m~/Projects/hslu/dspro/dspro1/venv/lib/python3.9/site-packages/sklearn/cluster/_spectral.py:744\u001B[0m, in \u001B[0;36mSpectralClustering.fit\u001B[0;34m(self, X, y)\u001B[0m\n\u001B[1;32m    735\u001B[0m n_components \u001B[38;5;241m=\u001B[39m (\n\u001B[1;32m    736\u001B[0m     \u001B[38;5;28mself\u001B[39m\u001B[38;5;241m.\u001B[39mn_clusters \u001B[38;5;28;01mif\u001B[39;00m \u001B[38;5;28mself\u001B[39m\u001B[38;5;241m.\u001B[39mn_components \u001B[38;5;129;01mis\u001B[39;00m \u001B[38;5;28;01mNone\u001B[39;00m \u001B[38;5;28;01melse\u001B[39;00m \u001B[38;5;28mself\u001B[39m\u001B[38;5;241m.\u001B[39mn_components\n\u001B[1;32m    737\u001B[0m )\n\u001B[1;32m    738\u001B[0m \u001B[38;5;66;03m# We now obtain the real valued solution matrix to the\u001B[39;00m\n\u001B[1;32m    739\u001B[0m \u001B[38;5;66;03m# relaxed Ncut problem, solving the eigenvalue problem\u001B[39;00m\n\u001B[1;32m    740\u001B[0m \u001B[38;5;66;03m# L_sym x = lambda x  and recovering u = D^-1/2 x.\u001B[39;00m\n\u001B[1;32m    741\u001B[0m \u001B[38;5;66;03m# The first eigenvector is constant only for fully connected graphs\u001B[39;00m\n\u001B[1;32m    742\u001B[0m \u001B[38;5;66;03m# and should be kept for spectral clustering (drop_first = False)\u001B[39;00m\n\u001B[1;32m    743\u001B[0m \u001B[38;5;66;03m# See spectral_embedding documentation.\u001B[39;00m\n\u001B[0;32m--> 744\u001B[0m maps \u001B[38;5;241m=\u001B[39m \u001B[43m_spectral_embedding\u001B[49m\u001B[43m(\u001B[49m\n\u001B[1;32m    745\u001B[0m \u001B[43m    \u001B[49m\u001B[38;5;28;43mself\u001B[39;49m\u001B[38;5;241;43m.\u001B[39;49m\u001B[43maffinity_matrix_\u001B[49m\u001B[43m,\u001B[49m\n\u001B[1;32m    746\u001B[0m \u001B[43m    \u001B[49m\u001B[43mn_components\u001B[49m\u001B[38;5;241;43m=\u001B[39;49m\u001B[43mn_components\u001B[49m\u001B[43m,\u001B[49m\n\u001B[1;32m    747\u001B[0m \u001B[43m    \u001B[49m\u001B[43meigen_solver\u001B[49m\u001B[38;5;241;43m=\u001B[39;49m\u001B[38;5;28;43mself\u001B[39;49m\u001B[38;5;241;43m.\u001B[39;49m\u001B[43meigen_solver\u001B[49m\u001B[43m,\u001B[49m\n\u001B[1;32m    748\u001B[0m \u001B[43m    \u001B[49m\u001B[43mrandom_state\u001B[49m\u001B[38;5;241;43m=\u001B[39;49m\u001B[43mrandom_state\u001B[49m\u001B[43m,\u001B[49m\n\u001B[1;32m    749\u001B[0m \u001B[43m    \u001B[49m\u001B[43meigen_tol\u001B[49m\u001B[38;5;241;43m=\u001B[39;49m\u001B[38;5;28;43mself\u001B[39;49m\u001B[38;5;241;43m.\u001B[39;49m\u001B[43meigen_tol\u001B[49m\u001B[43m,\u001B[49m\n\u001B[1;32m    750\u001B[0m \u001B[43m    \u001B[49m\u001B[43mdrop_first\u001B[49m\u001B[38;5;241;43m=\u001B[39;49m\u001B[38;5;28;43;01mFalse\u001B[39;49;00m\u001B[43m,\u001B[49m\n\u001B[1;32m    751\u001B[0m \u001B[43m\u001B[49m\u001B[43m)\u001B[49m\n\u001B[1;32m    752\u001B[0m \u001B[38;5;28;01mif\u001B[39;00m \u001B[38;5;28mself\u001B[39m\u001B[38;5;241m.\u001B[39mverbose:\n\u001B[1;32m    753\u001B[0m     \u001B[38;5;28mprint\u001B[39m(\u001B[38;5;124mf\u001B[39m\u001B[38;5;124m\"\u001B[39m\u001B[38;5;124mComputing label assignment using \u001B[39m\u001B[38;5;132;01m{\u001B[39;00m\u001B[38;5;28mself\u001B[39m\u001B[38;5;241m.\u001B[39massign_labels\u001B[38;5;132;01m}\u001B[39;00m\u001B[38;5;124m\"\u001B[39m)\n",
      "File \u001B[0;32m~/Projects/hslu/dspro/dspro1/venv/lib/python3.9/site-packages/sklearn/manifold/_spectral_embedding.py:463\u001B[0m, in \u001B[0;36m_spectral_embedding\u001B[0;34m(adjacency, n_components, eigen_solver, random_state, eigen_tol, norm_laplacian, drop_first)\u001B[0m\n\u001B[1;32m    461\u001B[0m             embedding \u001B[38;5;241m=\u001B[39m embedding \u001B[38;5;241m/\u001B[39m dd\n\u001B[1;32m    462\u001B[0m         \u001B[38;5;28;01mif\u001B[39;00m embedding\u001B[38;5;241m.\u001B[39mshape[\u001B[38;5;241m0\u001B[39m] \u001B[38;5;241m==\u001B[39m \u001B[38;5;241m1\u001B[39m:\n\u001B[0;32m--> 463\u001B[0m             \u001B[38;5;28;01mraise\u001B[39;00m \u001B[38;5;167;01mValueError\u001B[39;00m\n\u001B[1;32m    465\u001B[0m embedding \u001B[38;5;241m=\u001B[39m _deterministic_vector_sign_flip(embedding)\n\u001B[1;32m    466\u001B[0m \u001B[38;5;28;01mif\u001B[39;00m drop_first:\n",
      "\u001B[0;31mValueError\u001B[0m: "
     ]
    }
   ],
   "execution_count": 8
  },
  {
   "metadata": {
    "ExecuteTime": {
     "end_time": "2024-12-26T10:49:56.376607Z",
     "start_time": "2024-12-26T10:49:55.772115Z"
    }
   },
   "cell_type": "code",
   "source": [
    "# Gaussian Mixture\n",
    "n_component_parameters = np.arange(2, 16, 1)\n",
    "covariance_type_parameters = ['full', 'tied', 'diag', 'spherical']\n",
    "parameter_combinations = list(itertools.product(n_component_parameters, covariance_type_parameters))\n",
    "\n",
    "for parameters in parameter_combinations:\n",
    "    n_components = parameters[0]\n",
    "    covariance_type = parameters[1]\n",
    "\n",
    "    model = mixture.GaussianMixture(\n",
    "        n_components=n_components,\n",
    "        covariance_type=covariance_type,\n",
    "        random_state=0,\n",
    "    )\n",
    "    model.fit(df_features)\n",
    "\n",
    "    labels = model.predict(df_features)\n",
    "    ss = silhouette_score(df_features, labels)\n",
    "\n",
    "    performance_comparison.loc[len(performance_comparison)] = ['spectral_clustering', [n_components, covariance_type], len(set(labels)), ss]"
   ],
   "id": "8a3c9500bf716283",
   "outputs": [],
   "execution_count": 9
  },
  {
   "metadata": {},
   "cell_type": "code",
   "source": [
    "# Self Organized Maps (doesn't work)\n",
    "m_parameters = np.arange(1, 16)\n",
    "n_parameters = np.arange(1, 16)\n",
    "dim_parameters = np.arange(1, len(df_features.columns) + 1)\n",
    "sigma_parameters = np.linspace(0.5, 1.5, 11)\n",
    "parameter_combinations = list(itertools.product(m_parameters, n_parameters, dim_parameters, sigma_parameters))\n",
    "\n",
    "for parameters in parameter_combinations:\n",
    "    m = len(df_features.columns)\n",
    "    n = len(df_features.columns)\n",
    "    dim = len(df_features.columns)\n",
    "    sigma = 1\n",
    "\n",
    "    df_float = df_features.astype(float).reset_index()\n",
    "\n",
    "    model = SOM(\n",
    "        m=8,\n",
    "        n=8,\n",
    "        dim=8,\n",
    "        sigma=1,\n",
    "        lr=1,\n",
    "        random_state=0,\n",
    "    )\n",
    "    model.fit(df_float, epochs=1, shuffle=True)\n",
    "\n",
    "    labels = model.predict(df_float)\n",
    "    ss = silhouette_score(df_float, labels)\n",
    "\n",
    "    performance_comparison.loc[len(performance_comparison)] = ['som', [m, n, dim, sigma], len(set(labels)), ss]"
   ],
   "id": "d6b351f3f682d35e",
   "outputs": [],
   "execution_count": null
  },
  {
   "metadata": {
    "ExecuteTime": {
     "end_time": "2024-12-26T10:50:08.397348Z",
     "start_time": "2024-12-26T10:50:00.729592Z"
    }
   },
   "cell_type": "code",
   "source": [
    "# CMeans\n",
    "c_parameters = np.arange(2, 16, 1)\n",
    "m_parameters = np.linspace(0.5, 2, 16)\n",
    "parameter_combinations = list(itertools.product(c_parameters, m_parameters))\n",
    "\n",
    "for parameters in parameter_combinations:\n",
    "    c = parameters[0]\n",
    "    m = parameters[1]\n",
    "\n",
    "    cntr, u, u0, d, jm, p, fpc = cmeans(\n",
    "        data=df_features.transpose(), c=c, m=m, error=0.005, maxiter=1000, seed=0\n",
    "    )\n",
    "    labels = np.argmax(u, axis=0)\n",
    "    ss = silhouette_score(df_features, labels)\n",
    "\n",
    "    performance_comparison.loc[len(performance_comparison)] = ['cmeans', [c, m], len(set(labels)), ss]"
   ],
   "id": "4dbb051cff2c84a3",
   "outputs": [],
   "execution_count": 10
  },
  {
   "metadata": {
    "ExecuteTime": {
     "end_time": "2024-12-26T10:50:10.084079Z",
     "start_time": "2024-12-26T10:50:10.077110Z"
    }
   },
   "cell_type": "code",
   "source": "len(performance_comparison)",
   "id": "a1eb3be548d477f6",
   "outputs": [
    {
     "data": {
      "text/plain": [
       "560"
      ]
     },
     "execution_count": 11,
     "metadata": {},
     "output_type": "execute_result"
    }
   ],
   "execution_count": 11
  },
  {
   "metadata": {
    "ExecuteTime": {
     "end_time": "2024-12-26T10:50:39.956072Z",
     "start_time": "2024-12-26T10:50:39.951824Z"
    }
   },
   "cell_type": "code",
   "source": [
    "filtered = performance_comparison[performance_comparison['cluster_count'] > 3]\n",
    "filtered.sort_values(by='silhouette_score', ascending=False, inplace=True)"
   ],
   "id": "55da1a9890ce5e93",
   "outputs": [],
   "execution_count": 15
  },
  {
   "metadata": {
    "ExecuteTime": {
     "end_time": "2024-12-26T10:51:03.922827Z",
     "start_time": "2024-12-26T10:51:03.917334Z"
    }
   },
   "cell_type": "code",
   "source": "filtered",
   "id": "302ca9dc061051d8",
   "outputs": [
    {
     "data": {
      "text/plain": [
       "                    algorithm           parameters  cluster_count  \\\n",
       "2                      kmeans                  [4]              4   \n",
       "74   agglomerative_clustering         [4, average]              4   \n",
       "73   agglomerative_clustering        [4, complete]              4   \n",
       "72   agglomerative_clustering            [4, ward]              4   \n",
       "291       spectral_clustering       [4, spherical]              4   \n",
       "..                        ...                  ...            ...   \n",
       "148                    dbscan       [0.9, 2, auto]              6   \n",
       "143                    dbscan      [0.8, 2, brute]              5   \n",
       "142                    dbscan    [0.8, 2, kd_tree]              5   \n",
       "141                    dbscan  [0.8, 2, ball_tree]              5   \n",
       "140                    dbscan       [0.8, 2, auto]              5   \n",
       "\n",
       "     silhouette_score  \n",
       "2            0.543238  \n",
       "74           0.543238  \n",
       "73           0.543238  \n",
       "72           0.543238  \n",
       "291          0.543238  \n",
       "..                ...  \n",
       "148         -0.535474  \n",
       "143         -0.542708  \n",
       "142         -0.542708  \n",
       "141         -0.542708  \n",
       "140         -0.542708  \n",
       "\n",
       "[309 rows x 4 columns]"
      ],
      "text/html": [
       "<div>\n",
       "<style scoped>\n",
       "    .dataframe tbody tr th:only-of-type {\n",
       "        vertical-align: middle;\n",
       "    }\n",
       "\n",
       "    .dataframe tbody tr th {\n",
       "        vertical-align: top;\n",
       "    }\n",
       "\n",
       "    .dataframe thead th {\n",
       "        text-align: right;\n",
       "    }\n",
       "</style>\n",
       "<table border=\"1\" class=\"dataframe\">\n",
       "  <thead>\n",
       "    <tr style=\"text-align: right;\">\n",
       "      <th></th>\n",
       "      <th>algorithm</th>\n",
       "      <th>parameters</th>\n",
       "      <th>cluster_count</th>\n",
       "      <th>silhouette_score</th>\n",
       "    </tr>\n",
       "  </thead>\n",
       "  <tbody>\n",
       "    <tr>\n",
       "      <th>2</th>\n",
       "      <td>kmeans</td>\n",
       "      <td>[4]</td>\n",
       "      <td>4</td>\n",
       "      <td>0.543238</td>\n",
       "    </tr>\n",
       "    <tr>\n",
       "      <th>74</th>\n",
       "      <td>agglomerative_clustering</td>\n",
       "      <td>[4, average]</td>\n",
       "      <td>4</td>\n",
       "      <td>0.543238</td>\n",
       "    </tr>\n",
       "    <tr>\n",
       "      <th>73</th>\n",
       "      <td>agglomerative_clustering</td>\n",
       "      <td>[4, complete]</td>\n",
       "      <td>4</td>\n",
       "      <td>0.543238</td>\n",
       "    </tr>\n",
       "    <tr>\n",
       "      <th>72</th>\n",
       "      <td>agglomerative_clustering</td>\n",
       "      <td>[4, ward]</td>\n",
       "      <td>4</td>\n",
       "      <td>0.543238</td>\n",
       "    </tr>\n",
       "    <tr>\n",
       "      <th>291</th>\n",
       "      <td>spectral_clustering</td>\n",
       "      <td>[4, spherical]</td>\n",
       "      <td>4</td>\n",
       "      <td>0.543238</td>\n",
       "    </tr>\n",
       "    <tr>\n",
       "      <th>...</th>\n",
       "      <td>...</td>\n",
       "      <td>...</td>\n",
       "      <td>...</td>\n",
       "      <td>...</td>\n",
       "    </tr>\n",
       "    <tr>\n",
       "      <th>148</th>\n",
       "      <td>dbscan</td>\n",
       "      <td>[0.9, 2, auto]</td>\n",
       "      <td>6</td>\n",
       "      <td>-0.535474</td>\n",
       "    </tr>\n",
       "    <tr>\n",
       "      <th>143</th>\n",
       "      <td>dbscan</td>\n",
       "      <td>[0.8, 2, brute]</td>\n",
       "      <td>5</td>\n",
       "      <td>-0.542708</td>\n",
       "    </tr>\n",
       "    <tr>\n",
       "      <th>142</th>\n",
       "      <td>dbscan</td>\n",
       "      <td>[0.8, 2, kd_tree]</td>\n",
       "      <td>5</td>\n",
       "      <td>-0.542708</td>\n",
       "    </tr>\n",
       "    <tr>\n",
       "      <th>141</th>\n",
       "      <td>dbscan</td>\n",
       "      <td>[0.8, 2, ball_tree]</td>\n",
       "      <td>5</td>\n",
       "      <td>-0.542708</td>\n",
       "    </tr>\n",
       "    <tr>\n",
       "      <th>140</th>\n",
       "      <td>dbscan</td>\n",
       "      <td>[0.8, 2, auto]</td>\n",
       "      <td>5</td>\n",
       "      <td>-0.542708</td>\n",
       "    </tr>\n",
       "  </tbody>\n",
       "</table>\n",
       "<p>309 rows × 4 columns</p>\n",
       "</div>"
      ]
     },
     "execution_count": 17,
     "metadata": {},
     "output_type": "execute_result"
    }
   ],
   "execution_count": 17
  },
  {
   "metadata": {},
   "cell_type": "code",
   "source": "",
   "id": "80213cf548100e27",
   "outputs": [],
   "execution_count": null
  }
 ],
 "metadata": {
  "kernelspec": {
   "display_name": "Python 3",
   "language": "python",
   "name": "python3"
  },
  "language_info": {
   "codemirror_mode": {
    "name": "ipython",
    "version": 2
   },
   "file_extension": ".py",
   "mimetype": "text/x-python",
   "name": "python",
   "nbconvert_exporter": "python",
   "pygments_lexer": "ipython2",
   "version": "2.7.6"
  }
 },
 "nbformat": 4,
 "nbformat_minor": 5
}
